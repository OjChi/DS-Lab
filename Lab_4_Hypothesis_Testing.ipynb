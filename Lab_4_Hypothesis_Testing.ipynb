{
  "nbformat": 4,
  "nbformat_minor": 0,
  "metadata": {
    "colab": {
      "name": "Lab 4 Hypothesis Testing.ipynb",
      "provenance": [],
      "authorship_tag": "ABX9TyMcx1CbCB0WiB7Afp/bFx59",
      "include_colab_link": true
    },
    "kernelspec": {
      "name": "python3",
      "display_name": "Python 3"
    },
    "language_info": {
      "name": "python"
    }
  },
  "cells": [
    {
      "cell_type": "markdown",
      "metadata": {
        "id": "view-in-github",
        "colab_type": "text"
      },
      "source": [
        "<a href=\"https://colab.research.google.com/github/OjChi/DS-Lab/blob/main/Lab_4_Hypothesis_Testing.ipynb\" target=\"_parent\"><img src=\"https://colab.research.google.com/assets/colab-badge.svg\" alt=\"Open In Colab\"/></a>"
      ]
    },
    {
      "cell_type": "markdown",
      "source": [
        "#Experiment 4: Hypothesis Testing\n",
        "Name: Ojasa Chitre"
      ],
      "metadata": {
        "id": "AXqSbti-3Qev"
      }
    },
    {
      "cell_type": "code",
      "source": [
        "from google.colab import drive\n",
        "drive.mount('/content/drive')"
      ],
      "metadata": {
        "id": "6BZ15xwQL8Sv",
        "colab": {
          "base_uri": "https://localhost:8080/"
        },
        "outputId": "97ca36a9-278a-4d02-8253-83efd1630cec"
      },
      "execution_count": null,
      "outputs": [
        {
          "output_type": "stream",
          "name": "stdout",
          "text": [
            "Mounted at /content/drive\n"
          ]
        }
      ]
    },
    {
      "cell_type": "code",
      "source": [
        "import pandas as pd\n",
        "import numpy as np\n",
        "from prettytable import PrettyTable"
      ],
      "metadata": {
        "id": "l56ky63c5hxI"
      },
      "execution_count": null,
      "outputs": []
    },
    {
      "cell_type": "code",
      "source": [
        "df = pd.read_csv('/content/drive/MyDrive/Engineering/BE/Sem8/DS/Lab/Lab4/federal-firearm-licensees.csv')"
      ],
      "metadata": {
        "colab": {
          "base_uri": "https://localhost:8080/"
        },
        "id": "ppGNPJ-w3YAx",
        "outputId": "e397321e-1d92-4d01-ae0f-fce4e466389d"
      },
      "execution_count": null,
      "outputs": [
        {
          "output_type": "stream",
          "name": "stderr",
          "text": [
            "/usr/local/lib/python3.7/dist-packages/IPython/core/interactiveshell.py:2882: DtypeWarning: Columns (1,2,3,4,6,12,17) have mixed types.Specify dtype option on import or set low_memory=False.\n",
            "  exec(code_obj, self.user_global_ns, self.user_ns)\n"
          ]
        }
      ]
    },
    {
      "cell_type": "code",
      "source": [
        "df.columns"
      ],
      "metadata": {
        "colab": {
          "base_uri": "https://localhost:8080/"
        },
        "id": "PSENp0Ef5lg-",
        "outputId": "b0fde3b5-5c37-4c8a-a400-ca49812e66ae"
      },
      "execution_count": null,
      "outputs": [
        {
          "output_type": "execute_result",
          "data": {
            "text/plain": [
              "Index(['Unnamed: 0', 'Lic Regn', 'Lic Dist', 'Lic Cnty', 'Lic Type',\n",
              "       'Lic Xprdte', 'Lic Seqn', 'License Name', 'Business Name',\n",
              "       'Premise Street', 'Premise City', 'Premise State', 'Premise Zip Code',\n",
              "       'Mail Street', 'Mail City', 'Mail State', 'Mail Zip Code',\n",
              "       'Voice Phone'],\n",
              "      dtype='object')"
            ]
          },
          "metadata": {},
          "execution_count": 4
        }
      ]
    },
    {
      "cell_type": "code",
      "source": [
        "df.drop(['Unnamed: 0'],axis=1,inplace=True)"
      ],
      "metadata": {
        "id": "XbIN7qxM5rZD"
      },
      "execution_count": null,
      "outputs": []
    },
    {
      "cell_type": "code",
      "source": [
        "df.columns"
      ],
      "metadata": {
        "colab": {
          "base_uri": "https://localhost:8080/"
        },
        "id": "dGcGEl9L5xa-",
        "outputId": "92cf5436-c8b7-4d54-a459-9b7c4b6575ba"
      },
      "execution_count": null,
      "outputs": [
        {
          "output_type": "execute_result",
          "data": {
            "text/plain": [
              "Index(['Lic Regn', 'Lic Dist', 'Lic Cnty', 'Lic Type', 'Lic Xprdte',\n",
              "       'Lic Seqn', 'License Name', 'Business Name', 'Premise Street',\n",
              "       'Premise City', 'Premise State', 'Premise Zip Code', 'Mail Street',\n",
              "       'Mail City', 'Mail State', 'Mail Zip Code', 'Voice Phone'],\n",
              "      dtype='object')"
            ]
          },
          "metadata": {},
          "execution_count": 6
        }
      ]
    },
    {
      "cell_type": "code",
      "source": [
        "df.describe()"
      ],
      "metadata": {
        "colab": {
          "base_uri": "https://localhost:8080/",
          "height": 271
        },
        "id": "9LGuwU2M6U9b",
        "outputId": "57be0dd2-e397-44dc-d908-3046c51555ea"
      },
      "execution_count": null,
      "outputs": [
        {
          "output_type": "execute_result",
          "data": {
            "text/plain": [
              "        Lic Regn Lic Dist  Lic Cnty  Lic Type Lic Xprdte  Lic Seqn  \\\n",
              "count      80190    80190     80190     80190      80190     80190   \n",
              "unique         9       66       482        17         74     37241   \n",
              "top            5       59        13         1         0E      3836   \n",
              "freq       22706     3913      1748     34017       2884        12   \n",
              "\n",
              "                   License Name Business Name     Premise Street Premise City  \\\n",
              "count                     80191         52423              80190        80190   \n",
              "unique                    69607         46276              76531        11646   \n",
              "top     WAL-MART STORES EAST LP        EZPAWN  16175 NW 49TH AVE      HOUSTON   \n",
              "freq                       1315           240                  7          415   \n",
              "\n",
              "       Premise State Premise Zip Code        Mail Street    Mail City  \\\n",
              "count          80190            80190              80190        80189   \n",
              "unique            56            29090              65550        11571   \n",
              "top               TX            59901  508 SW 8TH STREET  BENTONVILLE   \n",
              "freq            7795               58               2161         2321   \n",
              "\n",
              "       Mail State Mail Zip Code   Voice Phone  \n",
              "count       80190         80190  8.017800e+04  \n",
              "unique         56         29472  7.488900e+04  \n",
              "top            TX     727160500  3.105361e+09  \n",
              "freq         8227          2215  4.040000e+02  "
            ],
            "text/html": [
              "\n",
              "  <div id=\"df-ab27f8c7-9397-42e4-9fe0-f5454ca8546b\">\n",
              "    <div class=\"colab-df-container\">\n",
              "      <div>\n",
              "<style scoped>\n",
              "    .dataframe tbody tr th:only-of-type {\n",
              "        vertical-align: middle;\n",
              "    }\n",
              "\n",
              "    .dataframe tbody tr th {\n",
              "        vertical-align: top;\n",
              "    }\n",
              "\n",
              "    .dataframe thead th {\n",
              "        text-align: right;\n",
              "    }\n",
              "</style>\n",
              "<table border=\"1\" class=\"dataframe\">\n",
              "  <thead>\n",
              "    <tr style=\"text-align: right;\">\n",
              "      <th></th>\n",
              "      <th>Lic Regn</th>\n",
              "      <th>Lic Dist</th>\n",
              "      <th>Lic Cnty</th>\n",
              "      <th>Lic Type</th>\n",
              "      <th>Lic Xprdte</th>\n",
              "      <th>Lic Seqn</th>\n",
              "      <th>License Name</th>\n",
              "      <th>Business Name</th>\n",
              "      <th>Premise Street</th>\n",
              "      <th>Premise City</th>\n",
              "      <th>Premise State</th>\n",
              "      <th>Premise Zip Code</th>\n",
              "      <th>Mail Street</th>\n",
              "      <th>Mail City</th>\n",
              "      <th>Mail State</th>\n",
              "      <th>Mail Zip Code</th>\n",
              "      <th>Voice Phone</th>\n",
              "    </tr>\n",
              "  </thead>\n",
              "  <tbody>\n",
              "    <tr>\n",
              "      <th>count</th>\n",
              "      <td>80190</td>\n",
              "      <td>80190</td>\n",
              "      <td>80190</td>\n",
              "      <td>80190</td>\n",
              "      <td>80190</td>\n",
              "      <td>80190</td>\n",
              "      <td>80191</td>\n",
              "      <td>52423</td>\n",
              "      <td>80190</td>\n",
              "      <td>80190</td>\n",
              "      <td>80190</td>\n",
              "      <td>80190</td>\n",
              "      <td>80190</td>\n",
              "      <td>80189</td>\n",
              "      <td>80190</td>\n",
              "      <td>80190</td>\n",
              "      <td>8.017800e+04</td>\n",
              "    </tr>\n",
              "    <tr>\n",
              "      <th>unique</th>\n",
              "      <td>9</td>\n",
              "      <td>66</td>\n",
              "      <td>482</td>\n",
              "      <td>17</td>\n",
              "      <td>74</td>\n",
              "      <td>37241</td>\n",
              "      <td>69607</td>\n",
              "      <td>46276</td>\n",
              "      <td>76531</td>\n",
              "      <td>11646</td>\n",
              "      <td>56</td>\n",
              "      <td>29090</td>\n",
              "      <td>65550</td>\n",
              "      <td>11571</td>\n",
              "      <td>56</td>\n",
              "      <td>29472</td>\n",
              "      <td>7.488900e+04</td>\n",
              "    </tr>\n",
              "    <tr>\n",
              "      <th>top</th>\n",
              "      <td>5</td>\n",
              "      <td>59</td>\n",
              "      <td>13</td>\n",
              "      <td>1</td>\n",
              "      <td>0E</td>\n",
              "      <td>3836</td>\n",
              "      <td>WAL-MART STORES EAST LP</td>\n",
              "      <td>EZPAWN</td>\n",
              "      <td>16175 NW 49TH AVE</td>\n",
              "      <td>HOUSTON</td>\n",
              "      <td>TX</td>\n",
              "      <td>59901</td>\n",
              "      <td>508 SW 8TH STREET</td>\n",
              "      <td>BENTONVILLE</td>\n",
              "      <td>TX</td>\n",
              "      <td>727160500</td>\n",
              "      <td>3.105361e+09</td>\n",
              "    </tr>\n",
              "    <tr>\n",
              "      <th>freq</th>\n",
              "      <td>22706</td>\n",
              "      <td>3913</td>\n",
              "      <td>1748</td>\n",
              "      <td>34017</td>\n",
              "      <td>2884</td>\n",
              "      <td>12</td>\n",
              "      <td>1315</td>\n",
              "      <td>240</td>\n",
              "      <td>7</td>\n",
              "      <td>415</td>\n",
              "      <td>7795</td>\n",
              "      <td>58</td>\n",
              "      <td>2161</td>\n",
              "      <td>2321</td>\n",
              "      <td>8227</td>\n",
              "      <td>2215</td>\n",
              "      <td>4.040000e+02</td>\n",
              "    </tr>\n",
              "  </tbody>\n",
              "</table>\n",
              "</div>\n",
              "      <button class=\"colab-df-convert\" onclick=\"convertToInteractive('df-ab27f8c7-9397-42e4-9fe0-f5454ca8546b')\"\n",
              "              title=\"Convert this dataframe to an interactive table.\"\n",
              "              style=\"display:none;\">\n",
              "        \n",
              "  <svg xmlns=\"http://www.w3.org/2000/svg\" height=\"24px\"viewBox=\"0 0 24 24\"\n",
              "       width=\"24px\">\n",
              "    <path d=\"M0 0h24v24H0V0z\" fill=\"none\"/>\n",
              "    <path d=\"M18.56 5.44l.94 2.06.94-2.06 2.06-.94-2.06-.94-.94-2.06-.94 2.06-2.06.94zm-11 1L8.5 8.5l.94-2.06 2.06-.94-2.06-.94L8.5 2.5l-.94 2.06-2.06.94zm10 10l.94 2.06.94-2.06 2.06-.94-2.06-.94-.94-2.06-.94 2.06-2.06.94z\"/><path d=\"M17.41 7.96l-1.37-1.37c-.4-.4-.92-.59-1.43-.59-.52 0-1.04.2-1.43.59L10.3 9.45l-7.72 7.72c-.78.78-.78 2.05 0 2.83L4 21.41c.39.39.9.59 1.41.59.51 0 1.02-.2 1.41-.59l7.78-7.78 2.81-2.81c.8-.78.8-2.07 0-2.86zM5.41 20L4 18.59l7.72-7.72 1.47 1.35L5.41 20z\"/>\n",
              "  </svg>\n",
              "      </button>\n",
              "      \n",
              "  <style>\n",
              "    .colab-df-container {\n",
              "      display:flex;\n",
              "      flex-wrap:wrap;\n",
              "      gap: 12px;\n",
              "    }\n",
              "\n",
              "    .colab-df-convert {\n",
              "      background-color: #E8F0FE;\n",
              "      border: none;\n",
              "      border-radius: 50%;\n",
              "      cursor: pointer;\n",
              "      display: none;\n",
              "      fill: #1967D2;\n",
              "      height: 32px;\n",
              "      padding: 0 0 0 0;\n",
              "      width: 32px;\n",
              "    }\n",
              "\n",
              "    .colab-df-convert:hover {\n",
              "      background-color: #E2EBFA;\n",
              "      box-shadow: 0px 1px 2px rgba(60, 64, 67, 0.3), 0px 1px 3px 1px rgba(60, 64, 67, 0.15);\n",
              "      fill: #174EA6;\n",
              "    }\n",
              "\n",
              "    [theme=dark] .colab-df-convert {\n",
              "      background-color: #3B4455;\n",
              "      fill: #D2E3FC;\n",
              "    }\n",
              "\n",
              "    [theme=dark] .colab-df-convert:hover {\n",
              "      background-color: #434B5C;\n",
              "      box-shadow: 0px 1px 3px 1px rgba(0, 0, 0, 0.15);\n",
              "      filter: drop-shadow(0px 1px 2px rgba(0, 0, 0, 0.3));\n",
              "      fill: #FFFFFF;\n",
              "    }\n",
              "  </style>\n",
              "\n",
              "      <script>\n",
              "        const buttonEl =\n",
              "          document.querySelector('#df-ab27f8c7-9397-42e4-9fe0-f5454ca8546b button.colab-df-convert');\n",
              "        buttonEl.style.display =\n",
              "          google.colab.kernel.accessAllowed ? 'block' : 'none';\n",
              "\n",
              "        async function convertToInteractive(key) {\n",
              "          const element = document.querySelector('#df-ab27f8c7-9397-42e4-9fe0-f5454ca8546b');\n",
              "          const dataTable =\n",
              "            await google.colab.kernel.invokeFunction('convertToInteractive',\n",
              "                                                     [key], {});\n",
              "          if (!dataTable) return;\n",
              "\n",
              "          const docLinkHtml = 'Like what you see? Visit the ' +\n",
              "            '<a target=\"_blank\" href=https://colab.research.google.com/notebooks/data_table.ipynb>data table notebook</a>'\n",
              "            + ' to learn more about interactive tables.';\n",
              "          element.innerHTML = '';\n",
              "          dataTable['output_type'] = 'display_data';\n",
              "          await google.colab.output.renderOutput(dataTable, element);\n",
              "          const docLink = document.createElement('div');\n",
              "          docLink.innerHTML = docLinkHtml;\n",
              "          element.appendChild(docLink);\n",
              "        }\n",
              "      </script>\n",
              "    </div>\n",
              "  </div>\n",
              "  "
            ]
          },
          "metadata": {},
          "execution_count": 7
        }
      ]
    },
    {
      "cell_type": "code",
      "source": [
        "df.info()"
      ],
      "metadata": {
        "colab": {
          "base_uri": "https://localhost:8080/"
        },
        "id": "ZFEGaC2r6XX9",
        "outputId": "a8899c57-7c37-465d-87b3-d3a2d0714ca7"
      },
      "execution_count": null,
      "outputs": [
        {
          "output_type": "stream",
          "name": "stdout",
          "text": [
            "<class 'pandas.core.frame.DataFrame'>\n",
            "RangeIndex: 80191 entries, 0 to 80190\n",
            "Data columns (total 17 columns):\n",
            " #   Column            Non-Null Count  Dtype \n",
            "---  ------            --------------  ----- \n",
            " 0   Lic Regn          80190 non-null  object\n",
            " 1   Lic Dist          80190 non-null  object\n",
            " 2   Lic Cnty          80190 non-null  object\n",
            " 3   Lic Type          80190 non-null  object\n",
            " 4   Lic Xprdte        80190 non-null  object\n",
            " 5   Lic Seqn          80190 non-null  object\n",
            " 6   License Name      80191 non-null  object\n",
            " 7   Business Name     52423 non-null  object\n",
            " 8   Premise Street    80190 non-null  object\n",
            " 9   Premise City      80190 non-null  object\n",
            " 10  Premise State     80190 non-null  object\n",
            " 11  Premise Zip Code  80190 non-null  object\n",
            " 12  Mail Street       80190 non-null  object\n",
            " 13  Mail City         80189 non-null  object\n",
            " 14  Mail State        80190 non-null  object\n",
            " 15  Mail Zip Code     80190 non-null  object\n",
            " 16  Voice Phone       80178 non-null  object\n",
            "dtypes: object(17)\n",
            "memory usage: 10.4+ MB\n"
          ]
        }
      ]
    },
    {
      "cell_type": "code",
      "source": [
        "import matplotlib.pyplot as plt\n",
        "plt.style.use('fivethirtyeight')\n",
        "df['Premise Zip Code'].value_counts().plot.hist(bins=50)"
      ],
      "metadata": {
        "colab": {
          "base_uri": "https://localhost:8080/",
          "height": 299
        },
        "id": "JApSyyy2dpxZ",
        "outputId": "ee432f0d-e1e5-4118-a358-a4a37d35527a"
      },
      "execution_count": null,
      "outputs": [
        {
          "output_type": "execute_result",
          "data": {
            "text/plain": [
              "<matplotlib.axes._subplots.AxesSubplot at 0x7ff43a548f10>"
            ]
          },
          "metadata": {},
          "execution_count": 9
        },
        {
          "output_type": "display_data",
          "data": {
            "text/plain": [
              "<Figure size 432x288 with 1 Axes>"
            ],
            "image/png": "[encoded data removed]"
          },
          "metadata": {}
        }
      ]
    },
    {
      "cell_type": "code",
      "source": [
        "df['Premise Zip Code'].value_counts().mean()"
      ],
      "metadata": {
        "colab": {
          "base_uri": "https://localhost:8080/"
        },
        "id": "K_lPlf-2jAHs",
        "outputId": "6e334599-eea0-48e8-9792-a6b43008d127"
      },
      "execution_count": null,
      "outputs": [
        {
          "output_type": "execute_result",
          "data": {
            "text/plain": [
              "2.756617394293572"
            ]
          },
          "metadata": {},
          "execution_count": 10
        }
      ]
    },
    {
      "cell_type": "markdown",
      "source": [
        "Here are our hypotheses:\n",
        "\n",
        "H0:n¯=2.75\n",
        " \n",
        "Ha:n¯≠2.75\n",
        " \n",
        "Let's set our p-level to 0.05. That is, let's say that we're willing to accept a 5% risk that when we reject the null hypothesis we are wrong.\n",
        "\n",
        "Now we will implement our t-test. Here's a hand implementation first, to see what it looks like. Note that to get the p-value we'll just throw the number at the scipy normal distribution built-in because the normal distribution is non-trivial to simulate computationally.\n",
        "\n"
      ],
      "metadata": {
        "id": "J5vOlk_-asnN"
      }
    },
    {
      "cell_type": "code",
      "source": [
        "X = df['Premise Zip Code'].value_counts()"
      ],
      "metadata": {
        "id": "hSd0ZugQaopk"
      },
      "execution_count": null,
      "outputs": []
    },
    {
      "cell_type": "code",
      "source": [
        "import numpy as np\n",
        "import scipy.stats as stats\n",
        "\n",
        "def t_value(X, h_0):\n",
        "    se = np.sqrt(np.var(X) / len(X))\n",
        "    return (np.mean(X) - h_0) / se\n",
        "\n",
        "def p_value(t):\n",
        "    # Two-sided p-value, so we multiply by 2.\n",
        "    return stats.norm.sf(abs(t))*2\n",
        "\n",
        "t = t_value(X, 2.75)\n",
        "p = p_value(t)"
      ],
      "metadata": {
        "id": "dmvkkJMpa1Ec"
      },
      "execution_count": null,
      "outputs": []
    },
    {
      "cell_type": "code",
      "source": [
        "t,p"
      ],
      "metadata": {
        "colab": {
          "base_uri": "https://localhost:8080/"
        },
        "id": "U0Yzos1na2Ym",
        "outputId": "3a3fc991-92a3-4eef-9482-5fde90788c7e"
      },
      "execution_count": null,
      "outputs": [
        {
          "output_type": "execute_result",
          "data": {
            "text/plain": [
              "(0.3570237643291454, 0.7210740152175236)"
            ]
          },
          "metadata": {},
          "execution_count": 19
        }
      ]
    },
    {
      "cell_type": "markdown",
      "source": [
        "The  t  score tells us that our result is 0.36 standard deviations away from the average mean estimator result we can expect. 0.36 standard deviations is not a lot at all though! Our  p  value tells us that almost 72% of possible mean estimate values are further away from our expectation than the value that we got.\n",
        "\n",
        "In other words, a mean value of 2.75 is in the 72nd percentile of closeness.\n",
        "\n",
        "Since  0.72>0.05 , we fail to reject the null hypothesis  H0 . We conclude that there is strong evidence that  n¯=2.75 —that is, that the mean number of gun shops per US Zip Code is almost 3!\n",
        "\n",
        "For reference, here is the usual way of performing this test using scipy:"
      ],
      "metadata": {
        "id": "IE-9LWmwa_vX"
      }
    },
    {
      "cell_type": "code",
      "source": [
        "import scipy.stats as stats\n",
        "\n",
        "stats.ttest_1samp(a=X, popmean=2.75)"
      ],
      "metadata": {
        "colab": {
          "base_uri": "https://localhost:8080/"
        },
        "id": "4HBlCGyHa6Mn",
        "outputId": "42e6dfaa-c406-472e-ef1a-0389bb53eaa3"
      },
      "execution_count": null,
      "outputs": [
        {
          "output_type": "execute_result",
          "data": {
            "text/plain": [
              "Ttest_1sampResult(statistic=0.35701762773872997, pvalue=0.7210811989731936)"
            ]
          },
          "metadata": {},
          "execution_count": 20
        }
      ]
    },
    {
      "cell_type": "markdown",
      "source": [
        "##Conclusion:\n",
        "Hypothesis testing is used extensively in the literature because it is a relatively simple and powerful tool for making decisions. Hypothesis testing allows us to state what level of confidence we want to have in some observation about our data, then, in testing that observation, determine whether or not we are satisfied that it is correct.\n",
        "\n",
        "Another way of making this decision is to make it into a chart. For example, we could have randomly recomputed the mean of an increasing number of values in the dataset, and used that to determine how confident we are in our result. So for example, we'll take the mean of a single sample from the dataset; then the mean of two samples from the dataset; then three, and so on. Here's how that would look:"
      ],
      "metadata": {
        "id": "EWfHVAiTbbF9"
      }
    },
    {
      "cell_type": "code",
      "source": [
        "r = (df['Premise Zip Code'].value_counts().sample(len(df['Premise Zip Code'].unique()) - 1))\n",
        "pd.Series(r.cumsum() / np.array(range(1, len(r) + 1))).reset_index(drop=True).plot.line(\n",
        "    figsize=(12, 4), linewidth=1\n",
        ")"
      ],
      "metadata": {
        "colab": {
          "base_uri": "https://localhost:8080/",
          "height": 299
        },
        "id": "Lx4GIqMIbAyQ",
        "outputId": "9269ebff-1fcf-49c7-b745-002b4761a1e3"
      },
      "execution_count": null,
      "outputs": [
        {
          "output_type": "execute_result",
          "data": {
            "text/plain": [
              "<matplotlib.axes._subplots.AxesSubplot at 0x7ff4234ffa90>"
            ]
          },
          "metadata": {},
          "execution_count": 21
        },
        {
          "output_type": "display_data",
          "data": {
            "text/plain": [
              "<Figure size 864x288 with 1 Axes>"
            ],
            "image/png": "[encoded data removed]"
          },
          "metadata": {}
        }
      ]
    },
    {
      "cell_type": "markdown",
      "source": [
        "As you can see, the mean of our values stabilizes on the \"true\" value over time. No matter the amount of variance at the beginning of the distribution, by the end we have a very good idea that the real result is approximately 2.75.\n",
        "\n",
        "Hypothesis testing is merely way of quantifying how sure we are about this approximation. It's important to do because a computer can't \"look\" at a graph; we mortals can, be we still need it too sometimes, because the graph is oftentimes ambiguous, and sometimes we need to make a lot of decisions potentially very quickly without necessarily looking at all of the graphs."
      ],
      "metadata": {
        "id": "goL19p0QbePj"
      }
    },
    {
      "cell_type": "code",
      "source": [
        ""
      ],
      "metadata": {
        "id": "4X7w6Tau9eml"
      },
      "execution_count": null,
      "outputs": []
    }
  ]
}