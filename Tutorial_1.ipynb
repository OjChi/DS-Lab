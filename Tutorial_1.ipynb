{
  "metadata": {
    "kernelspec": {
      "language": "python",
      "display_name": "Python 3",
      "name": "python3"
    },
    "language_info": {
      "name": "python",
      "version": "3.7.12",
      "mimetype": "text/x-python",
      "codemirror_mode": {
        "name": "ipython",
        "version": 3
      },
      "pygments_lexer": "ipython3",
      "nbconvert_exporter": "python",
      "file_extension": ".py"
    },
    "colab": {
      "name": "Tutorial 1.ipynb",
      "provenance": [],
      "include_colab_link": true
    }
  },
  "nbformat_minor": 0,
  "nbformat": 4,
  "cells": [
    {
      "cell_type": "markdown",
      "metadata": {
        "id": "view-in-github",
        "colab_type": "text"
      },
      "source": [
        "<a href=\"https://colab.research.google.com/github/OjChi/DS-Lab/blob/main/Tutorial_1.ipynb\" target=\"_parent\"><img src=\"https://colab.research.google.com/assets/colab-badge.svg\" alt=\"Open In Colab\"/></a>"
      ]
    },
    {
      "cell_type": "code",
      "source": [
        "# This Python 3 environment comes with many helpful analytics libraries installed\n",
        "# It is defined by the kaggle/python Docker image: https://github.com/kaggle/docker-python\n",
        "# For example, here's several helpful packages to load\n",
        "\n",
        "import numpy as np # linear algebra\n",
        "import pandas as pd # data processing, CSV file I/O (e.g. pd.read_csv)\n",
        "import matplotlib.pyplot as plt\n",
        "from sklearn import preprocessing\n",
        "\n",
        "# Input data files are available in the read-only \"../input/\" directory\n",
        "# For example, running this (by clicking run or pressing Shift+Enter) will list all files under the input directory\n",
        "\n",
        "import os\n",
        "for dirname, _, filenames in os.walk('/kaggle/input'):\n",
        "    for filename in filenames:\n",
        "        print(os.path.join(dirname, filename))\n",
        "\n",
        "# You can write up to 20GB to the current directory (/kaggle/working/) that gets preserved as output when you create a version using \"Save & Run All\" \n",
        "# You can also write temporary files to /kaggle/temp/, but they won't be saved outside of the current session"
      ],
      "metadata": {
        "_uuid": "8f2839f25d086af736a60e9eeb907d3b93b6e0e5",
        "_cell_guid": "b1076dfc-b9ad-4769-8c92-a6c4dae69d19",
        "execution": {
          "iopub.status.busy": "2022-04-13T12:37:11.999406Z",
          "iopub.execute_input": "2022-04-13T12:37:12.000364Z",
          "iopub.status.idle": "2022-04-13T12:37:12.012546Z",
          "shell.execute_reply.started": "2022-04-13T12:37:12.000303Z",
          "shell.execute_reply": "2022-04-13T12:37:12.011474Z"
        },
        "trusted": true,
        "id": "Te0NDzYjDAPt"
      },
      "execution_count": null,
      "outputs": []
    },
    {
      "cell_type": "markdown",
      "source": [
        "## Loading the dataset\n",
        "Here I have loaded the California wildfire incidents dataset."
      ],
      "metadata": {
        "id": "XvnFm7icDAPx"
      }
    },
    {
      "cell_type": "code",
      "source": [
        "california_fire_incidents = pd.read_csv('/kaggle/input/california-wildfire-incidents-20132020/California_Fire_Incidents.csv')"
      ],
      "metadata": {
        "execution": {
          "iopub.status.busy": "2022-04-13T12:37:12.025876Z",
          "iopub.execute_input": "2022-04-13T12:37:12.027352Z",
          "iopub.status.idle": "2022-04-13T12:37:12.067904Z",
          "shell.execute_reply.started": "2022-04-13T12:37:12.027289Z",
          "shell.execute_reply": "2022-04-13T12:37:12.066803Z"
        },
        "trusted": true,
        "id": "MgJd0bQZDAPz"
      },
      "execution_count": null,
      "outputs": []
    },
    {
      "cell_type": "code",
      "source": [
        "california_fire_incidents.columns"
      ],
      "metadata": {
        "execution": {
          "iopub.status.busy": "2022-04-13T12:37:12.069823Z",
          "iopub.execute_input": "2022-04-13T12:37:12.070260Z",
          "iopub.status.idle": "2022-04-13T12:37:12.078867Z",
          "shell.execute_reply.started": "2022-04-13T12:37:12.070179Z",
          "shell.execute_reply": "2022-04-13T12:37:12.077797Z"
        },
        "trusted": true,
        "id": "SaQVSn3NDAP0"
      },
      "execution_count": null,
      "outputs": []
    },
    {
      "cell_type": "markdown",
      "source": [
        "Shape of the dataset"
      ],
      "metadata": {
        "id": "zs07_8C7DAP0"
      }
    },
    {
      "cell_type": "code",
      "source": [
        "california_fire_incidents.shape"
      ],
      "metadata": {
        "execution": {
          "iopub.status.busy": "2022-04-13T12:37:12.084543Z",
          "iopub.execute_input": "2022-04-13T12:37:12.084900Z",
          "iopub.status.idle": "2022-04-13T12:37:12.096059Z",
          "shell.execute_reply.started": "2022-04-13T12:37:12.084864Z",
          "shell.execute_reply": "2022-04-13T12:37:12.094363Z"
        },
        "trusted": true,
        "id": "LKxWGsTaDAP1"
      },
      "execution_count": null,
      "outputs": []
    },
    {
      "cell_type": "markdown",
      "source": [
        "# Exploratory Data analysis"
      ],
      "metadata": {
        "id": "vBl8_zeqDAP1"
      }
    },
    {
      "cell_type": "markdown",
      "source": [
        "Taking a look at a few of the data elements"
      ],
      "metadata": {
        "id": "tfpcO6uTDAP2"
      }
    },
    {
      "cell_type": "code",
      "source": [
        "california_fire_incidents.head()"
      ],
      "metadata": {
        "execution": {
          "iopub.status.busy": "2022-04-13T12:37:12.108910Z",
          "iopub.execute_input": "2022-04-13T12:37:12.109288Z",
          "iopub.status.idle": "2022-04-13T12:37:12.146742Z",
          "shell.execute_reply.started": "2022-04-13T12:37:12.109253Z",
          "shell.execute_reply": "2022-04-13T12:37:12.145464Z"
        },
        "trusted": true,
        "id": "9mXVlNLuDAP2"
      },
      "execution_count": null,
      "outputs": []
    },
    {
      "cell_type": "markdown",
      "source": [
        "Let us now see the statistics of the dataset"
      ],
      "metadata": {
        "id": "8nXrXIeMDAP3"
      }
    },
    {
      "cell_type": "code",
      "source": [
        "california_fire_incidents.describe()"
      ],
      "metadata": {
        "execution": {
          "iopub.status.busy": "2022-04-13T12:37:12.149618Z",
          "iopub.execute_input": "2022-04-13T12:37:12.149983Z",
          "iopub.status.idle": "2022-04-13T12:37:12.234703Z",
          "shell.execute_reply.started": "2022-04-13T12:37:12.149936Z",
          "shell.execute_reply": "2022-04-13T12:37:12.233850Z"
        },
        "trusted": true,
        "id": "H7CbmG9LDAP3"
      },
      "execution_count": null,
      "outputs": []
    },
    {
      "cell_type": "markdown",
      "source": [
        "Now checking the datatypes and the null values"
      ],
      "metadata": {
        "id": "KfkQl8_8DAP3"
      }
    },
    {
      "cell_type": "code",
      "source": [
        "california_fire_incidents.info()"
      ],
      "metadata": {
        "execution": {
          "iopub.status.busy": "2022-04-13T12:37:12.236580Z",
          "iopub.execute_input": "2022-04-13T12:37:12.237472Z",
          "iopub.status.idle": "2022-04-13T12:37:12.261170Z",
          "shell.execute_reply.started": "2022-04-13T12:37:12.237425Z",
          "shell.execute_reply": "2022-04-13T12:37:12.259908Z"
        },
        "trusted": true,
        "id": "eiI_6LZpDAP4"
      },
      "execution_count": null,
      "outputs": []
    },
    {
      "cell_type": "markdown",
      "source": [
        "## Finding the null columns"
      ],
      "metadata": {
        "id": "RmGXzuqpDAP4"
      }
    },
    {
      "cell_type": "code",
      "source": [
        "null_cols = []\n",
        "for col in california_fire_incidents.columns:\n",
        "    if california_fire_incidents[col].isnull().values.any():\n",
        "        null_cols.append(col)"
      ],
      "metadata": {
        "execution": {
          "iopub.status.busy": "2022-04-13T12:37:12.262493Z",
          "iopub.execute_input": "2022-04-13T12:37:12.263228Z",
          "iopub.status.idle": "2022-04-13T12:37:12.280629Z",
          "shell.execute_reply.started": "2022-04-13T12:37:12.263153Z",
          "shell.execute_reply": "2022-04-13T12:37:12.279303Z"
        },
        "trusted": true,
        "id": "Ukzp52u8DAP4"
      },
      "execution_count": null,
      "outputs": []
    },
    {
      "cell_type": "code",
      "source": [
        "null_cols"
      ],
      "metadata": {
        "execution": {
          "iopub.status.busy": "2022-04-13T12:37:12.283151Z",
          "iopub.execute_input": "2022-04-13T12:37:12.284092Z",
          "iopub.status.idle": "2022-04-13T12:37:12.299427Z",
          "shell.execute_reply.started": "2022-04-13T12:37:12.284012Z",
          "shell.execute_reply": "2022-04-13T12:37:12.298024Z"
        },
        "trusted": true,
        "id": "3cFHpR7BDAP4"
      },
      "execution_count": null,
      "outputs": []
    },
    {
      "cell_type": "code",
      "source": [
        "for col in null_cols:\n",
        "    print(col,len(california_fire_incidents[col].unique())-1)"
      ],
      "metadata": {
        "execution": {
          "iopub.status.busy": "2022-04-13T12:37:12.301499Z",
          "iopub.execute_input": "2022-04-13T12:37:12.302307Z",
          "iopub.status.idle": "2022-04-13T12:37:12.327117Z",
          "shell.execute_reply.started": "2022-04-13T12:37:12.302260Z",
          "shell.execute_reply": "2022-04-13T12:37:12.325782Z"
        },
        "trusted": true,
        "id": "c1EC7DhMDAP4"
      },
      "execution_count": null,
      "outputs": []
    },
    {
      "cell_type": "markdown",
      "source": [
        "Finding the unique values in the null columns"
      ],
      "metadata": {
        "id": "iHKIMWsiDAP4"
      }
    },
    {
      "cell_type": "code",
      "source": [
        "for col in null_cols:\n",
        "    print(col,(california_fire_incidents[col].unique()))"
      ],
      "metadata": {
        "execution": {
          "iopub.status.busy": "2022-04-13T12:37:12.328685Z",
          "iopub.execute_input": "2022-04-13T12:37:12.329223Z",
          "iopub.status.idle": "2022-04-13T12:37:12.372644Z",
          "shell.execute_reply.started": "2022-04-13T12:37:12.329181Z",
          "shell.execute_reply": "2022-04-13T12:37:12.367940Z"
        },
        "trusted": true,
        "id": "uU-OTh5sDAP5"
      },
      "execution_count": null,
      "outputs": []
    },
    {
      "cell_type": "markdown",
      "source": [
        "Differentiating numeric and non-numeric null columns"
      ],
      "metadata": {
        "id": "jwQUZEWGDAP5"
      }
    },
    {
      "cell_type": "code",
      "source": [
        "numeric_null_cols = []\n",
        "non_numeric_null_cols = []\n",
        "for col in null_cols:\n",
        "    print(col,(california_fire_incidents[col].dtype))\n",
        "    numeric_null_cols.append(col) if np.issubdtype(california_fire_incidents[col].dtype,float) else non_numeric_null_cols.append(col)"
      ],
      "metadata": {
        "execution": {
          "iopub.status.busy": "2022-04-13T12:37:12.374346Z",
          "iopub.execute_input": "2022-04-13T12:37:12.374621Z",
          "iopub.status.idle": "2022-04-13T12:37:12.391294Z",
          "shell.execute_reply.started": "2022-04-13T12:37:12.374592Z",
          "shell.execute_reply": "2022-04-13T12:37:12.389121Z"
        },
        "trusted": true,
        "id": "K5pTwFE_DAP5"
      },
      "execution_count": null,
      "outputs": []
    },
    {
      "cell_type": "code",
      "source": [
        "numeric_cols = []\n",
        "non_numeric_cols = []\n",
        "for col in california_fire_incidents.columns:\n",
        "    print(col,(california_fire_incidents[col].dtype))\n",
        "    numeric_cols.append(col) if np.issubdtype(california_fire_incidents[col].dtype,float) else non_numeric_cols.append(col)"
      ],
      "metadata": {
        "execution": {
          "iopub.status.busy": "2022-04-13T12:37:12.394195Z",
          "iopub.execute_input": "2022-04-13T12:37:12.394545Z",
          "iopub.status.idle": "2022-04-13T12:37:12.416815Z",
          "shell.execute_reply.started": "2022-04-13T12:37:12.394509Z",
          "shell.execute_reply": "2022-04-13T12:37:12.415848Z"
        },
        "trusted": true,
        "id": "CkE6voRwDAP5"
      },
      "execution_count": null,
      "outputs": []
    },
    {
      "cell_type": "code",
      "source": [
        "print(len(numeric_cols),len(non_numeric_cols),len(california_fire_incidents.columns))"
      ],
      "metadata": {
        "execution": {
          "iopub.status.busy": "2022-04-13T12:37:12.418164Z",
          "iopub.execute_input": "2022-04-13T12:37:12.419111Z",
          "iopub.status.idle": "2022-04-13T12:37:12.428283Z",
          "shell.execute_reply.started": "2022-04-13T12:37:12.419071Z",
          "shell.execute_reply": "2022-04-13T12:37:12.426822Z"
        },
        "trusted": true,
        "id": "sILwWbsxDAP5"
      },
      "execution_count": null,
      "outputs": []
    },
    {
      "cell_type": "markdown",
      "source": [
        "## Data cleaning"
      ],
      "metadata": {
        "id": "-PswweZBDAP6"
      }
    },
    {
      "cell_type": "markdown",
      "source": [
        "Finding columns which have more than 50% null values so that they can be removed."
      ],
      "metadata": {
        "id": "og2vBXUSDAP6"
      }
    },
    {
      "cell_type": "code",
      "source": [
        "cols_to_remove = []\n",
        "for col in california_fire_incidents.columns:\n",
        "    print(col)\n",
        "    null_percentage = (california_fire_incidents[col].isna().sum()*100)/len(california_fire_incidents)\n",
        "    print(null_percentage)\n",
        "    if null_percentage > 50.0:\n",
        "        cols_to_remove.append(col)\n",
        "        print(\"To be removed\")\n",
        "    print()"
      ],
      "metadata": {
        "execution": {
          "iopub.status.busy": "2022-04-13T12:37:12.429866Z",
          "iopub.execute_input": "2022-04-13T12:37:12.430159Z",
          "iopub.status.idle": "2022-04-13T12:37:12.482297Z",
          "shell.execute_reply.started": "2022-04-13T12:37:12.430113Z",
          "shell.execute_reply": "2022-04-13T12:37:12.481082Z"
        },
        "trusted": true,
        "id": "k85Io11yDAP6"
      },
      "execution_count": null,
      "outputs": []
    },
    {
      "cell_type": "code",
      "source": [
        "cols_to_remove"
      ],
      "metadata": {
        "execution": {
          "iopub.status.busy": "2022-04-13T12:37:12.485345Z",
          "iopub.execute_input": "2022-04-13T12:37:12.485690Z",
          "iopub.status.idle": "2022-04-13T12:37:12.493673Z",
          "shell.execute_reply.started": "2022-04-13T12:37:12.485646Z",
          "shell.execute_reply": "2022-04-13T12:37:12.492269Z"
        },
        "trusted": true,
        "id": "ZBq9IZZPDAP6"
      },
      "execution_count": null,
      "outputs": []
    },
    {
      "cell_type": "code",
      "source": [
        "california_fire_incidents.drop(cols_to_remove,  axis='columns', inplace=True)"
      ],
      "metadata": {
        "execution": {
          "iopub.status.busy": "2022-04-13T12:37:12.494769Z",
          "iopub.execute_input": "2022-04-13T12:37:12.495108Z",
          "iopub.status.idle": "2022-04-13T12:37:12.506519Z",
          "shell.execute_reply.started": "2022-04-13T12:37:12.495059Z",
          "shell.execute_reply": "2022-04-13T12:37:12.505786Z"
        },
        "trusted": true,
        "id": "nkbCRKBLDAP6"
      },
      "execution_count": null,
      "outputs": []
    },
    {
      "cell_type": "code",
      "source": [
        "california_fire_incidents.info()"
      ],
      "metadata": {
        "execution": {
          "iopub.status.busy": "2022-04-13T12:37:12.507679Z",
          "iopub.execute_input": "2022-04-13T12:37:12.508493Z",
          "iopub.status.idle": "2022-04-13T12:37:12.538940Z",
          "shell.execute_reply.started": "2022-04-13T12:37:12.508455Z",
          "shell.execute_reply": "2022-04-13T12:37:12.537876Z"
        },
        "trusted": true,
        "id": "vyRsbDrZDAP6"
      },
      "execution_count": null,
      "outputs": []
    },
    {
      "cell_type": "markdown",
      "source": [
        "## Imputing null values"
      ],
      "metadata": {
        "id": "xc72qSS8DAP6"
      }
    },
    {
      "cell_type": "code",
      "source": [
        "categorical_columns = []\n",
        "for col in california_fire_incidents.columns:\n",
        "    if np.issubdtype(california_fire_incidents[col].dtype,object):\n",
        "        print('\\nCategorical')\n",
        "        print(col,california_fire_incidents[col].mode()[0])\n",
        "        california_fire_incidents[col] = california_fire_incidents[col].fillna(california_fire_incidents[col].mode()[0])\n",
        "        categorical_columns.append(col)\n",
        "    \n",
        "    else:\n",
        "        print('\\nNon-categorical')\n",
        "        print(col,california_fire_incidents[col].mean())\n",
        "        california_fire_incidents[col] = california_fire_incidents[col].fillna(california_fire_incidents[col].median())"
      ],
      "metadata": {
        "execution": {
          "iopub.status.busy": "2022-04-13T12:37:12.540783Z",
          "iopub.execute_input": "2022-04-13T12:37:12.541098Z",
          "iopub.status.idle": "2022-04-13T12:37:12.620315Z",
          "shell.execute_reply.started": "2022-04-13T12:37:12.541065Z",
          "shell.execute_reply": "2022-04-13T12:37:12.618356Z"
        },
        "trusted": true,
        "id": "qA0QOEybDAP6"
      },
      "execution_count": null,
      "outputs": []
    },
    {
      "cell_type": "markdown",
      "source": [
        "## Encoding categorical values"
      ],
      "metadata": {
        "id": "ipxO0br9DAP6"
      }
    },
    {
      "cell_type": "code",
      "source": [
        "labelencoder = preprocessing.LabelEncoder()\n",
        "\n",
        "for col in categorical_columns:\n",
        "    california_fire_incidents[col] = labelencoder.fit_transform(california_fire_incidents[col])"
      ],
      "metadata": {
        "execution": {
          "iopub.status.busy": "2022-04-13T12:37:12.623022Z",
          "iopub.execute_input": "2022-04-13T12:37:12.623542Z",
          "iopub.status.idle": "2022-04-13T12:37:12.655442Z",
          "shell.execute_reply.started": "2022-04-13T12:37:12.623493Z",
          "shell.execute_reply": "2022-04-13T12:37:12.654202Z"
        },
        "trusted": true,
        "id": "BB37YV63DAP6"
      },
      "execution_count": null,
      "outputs": []
    },
    {
      "cell_type": "code",
      "source": [
        "# california_fire_incidents.fillna({'AcresBurned': 0, 'AirTankers': 0, 'ConditionStatement':'', 'ControlStatement':'', \n",
        "#                 'CrewsInvolved': 0, 'Dozers': 0, 'Engines': 0, 'Extinguished': 0, 'Fatalities': 0,\n",
        "#                'FuelType':'', 'Helicopters': 0, 'Injuries': 0, 'PersonnelInvolved': 0,\n",
        "#                'SearchDescription':'', 'StructuresDamaged': 0, 'StructuresDestroyed': 0,\n",
        "#                'StructuresEvacuated': 0, 'StructuresThreatened': 0, 'WaterTenders': 0}, inplace=True)"
      ],
      "metadata": {
        "execution": {
          "iopub.status.busy": "2022-04-13T12:37:12.656716Z",
          "iopub.execute_input": "2022-04-13T12:37:12.656987Z",
          "iopub.status.idle": "2022-04-13T12:37:12.661746Z",
          "shell.execute_reply.started": "2022-04-13T12:37:12.656955Z",
          "shell.execute_reply": "2022-04-13T12:37:12.660832Z"
        },
        "trusted": true,
        "id": "EhcLGmKkDAP7"
      },
      "execution_count": null,
      "outputs": []
    },
    {
      "cell_type": "markdown",
      "source": [
        "# EDA after First Stage of Cleaning "
      ],
      "metadata": {
        "id": "w7j220oGDAP7"
      }
    },
    {
      "cell_type": "code",
      "source": [
        "for col in california_fire_incidents.columns:\n",
        "    print(col)\n",
        "    plt.boxplot(california_fire_incidents[col])\n",
        "    plt.show()"
      ],
      "metadata": {
        "execution": {
          "iopub.status.busy": "2022-04-13T12:37:12.663221Z",
          "iopub.execute_input": "2022-04-13T12:37:12.663545Z",
          "iopub.status.idle": "2022-04-13T12:37:17.221339Z",
          "shell.execute_reply.started": "2022-04-13T12:37:12.663502Z",
          "shell.execute_reply": "2022-04-13T12:37:17.220226Z"
        },
        "trusted": true,
        "id": "ANCM1FqQDAP7"
      },
      "execution_count": null,
      "outputs": []
    },
    {
      "cell_type": "markdown",
      "source": [
        "Now we can see that there are many outliers"
      ],
      "metadata": {
        "id": "RYQNM6vhDAP7"
      }
    },
    {
      "cell_type": "code",
      "source": [
        "california_fire_incidents.columns"
      ],
      "metadata": {
        "execution": {
          "iopub.status.busy": "2022-04-13T12:37:17.225516Z",
          "iopub.execute_input": "2022-04-13T12:37:17.226209Z",
          "iopub.status.idle": "2022-04-13T12:37:17.233685Z",
          "shell.execute_reply.started": "2022-04-13T12:37:17.226167Z",
          "shell.execute_reply": "2022-04-13T12:37:17.232773Z"
        },
        "trusted": true,
        "id": "e_tYHHdpDAP7"
      },
      "execution_count": null,
      "outputs": []
    },
    {
      "cell_type": "code",
      "source": [
        "for col in california_fire_incidents.columns:\n",
        "    print(col,(california_fire_incidents[col].unique()))"
      ],
      "metadata": {
        "execution": {
          "iopub.status.busy": "2022-04-13T12:37:33.639425Z",
          "iopub.execute_input": "2022-04-13T12:37:33.640373Z",
          "iopub.status.idle": "2022-04-13T12:37:33.669322Z",
          "shell.execute_reply.started": "2022-04-13T12:37:33.640323Z",
          "shell.execute_reply": "2022-04-13T12:37:33.668243Z"
        },
        "trusted": true,
        "id": "eXcRtrRuDAP7"
      },
      "execution_count": null,
      "outputs": []
    },
    {
      "cell_type": "code",
      "source": [
        "for col in california_fire_incidents.columns:\n",
        "    print(f'''{col}:\n",
        "length: {len(california_fire_incidents[col].unique())}, \n",
        "minimum: {min(california_fire_incidents[col].unique())}, \n",
        "maximum: {max(california_fire_incidents[col].unique())}\n",
        "''')"
      ],
      "metadata": {
        "execution": {
          "iopub.status.busy": "2022-04-13T12:48:37.341592Z",
          "iopub.execute_input": "2022-04-13T12:48:37.342576Z",
          "iopub.status.idle": "2022-04-13T12:48:37.371669Z",
          "shell.execute_reply.started": "2022-04-13T12:48:37.342521Z",
          "shell.execute_reply": "2022-04-13T12:48:37.370705Z"
        },
        "trusted": true,
        "id": "i30iswarDAP7"
      },
      "execution_count": null,
      "outputs": []
    },
    {
      "cell_type": "code",
      "source": [
        "california_fire_incidents['AdminUnit'].value_counts().sort_index().plot(kind='bar', figsize=(12,7))\n",
        "\n",
        "plt.xlabel('Units')\n",
        "plt.ylabel('Number of Fire Incidents')\n",
        "plt.title('Frequency of Fire Incidents per Year Between 2013-2019');"
      ],
      "metadata": {
        "execution": {
          "iopub.status.busy": "2022-04-13T12:32:53.165058Z",
          "iopub.execute_input": "2022-04-13T12:32:53.165401Z",
          "iopub.status.idle": "2022-04-13T12:32:59.540024Z",
          "shell.execute_reply.started": "2022-04-13T12:32:53.165364Z",
          "shell.execute_reply": "2022-04-13T12:32:59.539149Z"
        },
        "trusted": true,
        "id": "9NuBsbsADAP9"
      },
      "execution_count": null,
      "outputs": []
    },
    {
      "cell_type": "code",
      "source": [
        "california_fire_incidents['Started'].value_counts().sort_index().plot(kind='bar', figsize=(12,7))\n",
        "\n",
        "plt.xlabel('Units')\n",
        "plt.ylabel('Number of Fire Incidents')\n",
        "plt.title('Frequency of Fire Incidents per Year Between 2013-2019');"
      ],
      "metadata": {
        "execution": {
          "iopub.status.busy": "2022-04-13T12:33:24.119069Z",
          "iopub.execute_input": "2022-04-13T12:33:24.119406Z",
          "iopub.status.idle": "2022-04-13T12:33:45.244272Z",
          "shell.execute_reply.started": "2022-04-13T12:33:24.119373Z",
          "shell.execute_reply": "2022-04-13T12:33:45.243249Z"
        },
        "trusted": true,
        "id": "OQOyFYY4DAP9"
      },
      "execution_count": null,
      "outputs": []
    },
    {
      "cell_type": "code",
      "source": [
        "california_fire_incidents['Featured'].value_counts().sort_index().plot(kind='bar', figsize=(12,7))\n",
        "\n",
        "plt.xlabel('Units')\n",
        "plt.ylabel('Number of Fire Incidents')\n",
        "plt.title('Frequency of Fire Incidents per Year Between 2013-2019');"
      ],
      "metadata": {
        "execution": {
          "iopub.status.busy": "2022-04-13T12:38:34.412736Z",
          "iopub.execute_input": "2022-04-13T12:38:34.413105Z",
          "iopub.status.idle": "2022-04-13T12:38:34.605410Z",
          "shell.execute_reply.started": "2022-04-13T12:38:34.413068Z",
          "shell.execute_reply": "2022-04-13T12:38:34.604728Z"
        },
        "trusted": true,
        "id": "VRrA7PP-DAP9"
      },
      "execution_count": null,
      "outputs": []
    },
    {
      "cell_type": "code",
      "source": [
        "california_fire_incidents['Final'].value_counts().sort_index().plot(kind='bar', figsize=(12,7))\n",
        "\n",
        "plt.xlabel('Units')\n",
        "plt.ylabel('Number of Fire Incidents')\n",
        "plt.title('Frequency of Fire Incidents per Year Between 2013-2019');"
      ],
      "metadata": {
        "execution": {
          "iopub.status.busy": "2022-04-13T12:38:59.142860Z",
          "iopub.execute_input": "2022-04-13T12:38:59.143495Z",
          "iopub.status.idle": "2022-04-13T12:38:59.335382Z",
          "shell.execute_reply.started": "2022-04-13T12:38:59.143444Z",
          "shell.execute_reply": "2022-04-13T12:38:59.334280Z"
        },
        "trusted": true,
        "id": "mctNTXFTDAP-"
      },
      "execution_count": null,
      "outputs": []
    },
    {
      "cell_type": "code",
      "source": [
        "california_fire_incidents['CalFireIncident'].value_counts().sort_index().plot(kind='bar', figsize=(12,7))\n",
        "\n",
        "plt.xlabel('Units')\n",
        "plt.ylabel('Number of Fire Incidents')\n",
        "plt.title('Frequency of Fire Incidents per Year Between 2013-2019');"
      ],
      "metadata": {
        "execution": {
          "iopub.status.busy": "2022-04-13T12:39:49.968790Z",
          "iopub.execute_input": "2022-04-13T12:39:49.969131Z",
          "iopub.status.idle": "2022-04-13T12:39:50.149343Z",
          "shell.execute_reply.started": "2022-04-13T12:39:49.969097Z",
          "shell.execute_reply": "2022-04-13T12:39:50.148256Z"
        },
        "trusted": true,
        "id": "1chS17R3DAP-"
      },
      "execution_count": null,
      "outputs": []
    },
    {
      "cell_type": "code",
      "source": [
        "california_fire_incidents['ArchiveYear'].value_counts().sort_index().plot(kind='bar', figsize=(12,7))\n",
        "\n",
        "plt.xlabel('Units')\n",
        "plt.ylabel('Number of Fire Incidents')\n",
        "plt.title('Frequency of Fire Incidents per Year Between 2013-2019');"
      ],
      "metadata": {
        "execution": {
          "iopub.status.busy": "2022-04-13T12:41:54.255237Z",
          "iopub.execute_input": "2022-04-13T12:41:54.255949Z",
          "iopub.status.idle": "2022-04-13T12:41:54.481498Z",
          "shell.execute_reply.started": "2022-04-13T12:41:54.255904Z",
          "shell.execute_reply": "2022-04-13T12:41:54.480685Z"
        },
        "trusted": true,
        "id": "1GUAAN4cDAP-"
      },
      "execution_count": null,
      "outputs": []
    },
    {
      "cell_type": "markdown",
      "source": [
        "Binned bar graphs"
      ],
      "metadata": {
        "id": "ziZBXltODAP-"
      }
    },
    {
      "cell_type": "code",
      "source": [
        "out = pd.cut(california_fire_incidents['Location'], bins=[0, 500, 1000, 1500, 2000], include_lowest=True)\n",
        "ax = out.value_counts(sort=False).plot.bar(rot=0, color=\"b\", figsize=(6,4))\n",
        "# ax.set_xticklabels([c[1:-1].replace(\",\",\" to\") for c in out.cat.categories])\n",
        "plt.show()"
      ],
      "metadata": {
        "execution": {
          "iopub.status.busy": "2022-04-13T12:51:09.816120Z",
          "iopub.execute_input": "2022-04-13T12:51:09.817085Z",
          "iopub.status.idle": "2022-04-13T12:51:10.016852Z",
          "shell.execute_reply.started": "2022-04-13T12:51:09.817021Z",
          "shell.execute_reply": "2022-04-13T12:51:10.015672Z"
        },
        "trusted": true,
        "id": "LhGabck8DAP-"
      },
      "execution_count": null,
      "outputs": []
    },
    {
      "cell_type": "code",
      "source": [
        "out = pd.cut(california_fire_incidents['SearchDescription'], bins=[0, 500, 1000, 1500, 2000], include_lowest=True)\n",
        "ax = out.value_counts(sort=False).plot.bar(rot=0, color=\"b\", figsize=(6,4))\n",
        "# ax.set_xticklabels([c[1:-1].replace(\",\",\" to\") for c in out.cat.categories])\n",
        "plt.show()"
      ],
      "metadata": {
        "execution": {
          "iopub.status.busy": "2022-04-13T12:51:58.389420Z",
          "iopub.execute_input": "2022-04-13T12:51:58.389940Z",
          "iopub.status.idle": "2022-04-13T12:51:58.580242Z",
          "shell.execute_reply.started": "2022-04-13T12:51:58.389885Z",
          "shell.execute_reply": "2022-04-13T12:51:58.579593Z"
        },
        "trusted": true,
        "id": "aer_-tfeDAP-"
      },
      "execution_count": null,
      "outputs": []
    },
    {
      "cell_type": "code",
      "source": [
        "out = pd.cut(california_fire_incidents['Extinguished'], bins=[0, 500, 1000, 1500], include_lowest=True)\n",
        "ax = out.value_counts(sort=False).plot.bar(rot=0, color=\"b\", figsize=(6,4))\n",
        "# ax.set_xticklabels([c[1:-1].replace(\",\",\" to\") for c in out.cat.categories])\n",
        "plt.show()"
      ],
      "metadata": {
        "execution": {
          "iopub.status.busy": "2022-04-13T12:53:07.785533Z",
          "iopub.execute_input": "2022-04-13T12:53:07.786626Z",
          "iopub.status.idle": "2022-04-13T12:53:07.970333Z",
          "shell.execute_reply.started": "2022-04-13T12:53:07.786582Z",
          "shell.execute_reply": "2022-04-13T12:53:07.969443Z"
        },
        "trusted": true,
        "id": "hH4TWcKPDAP-"
      },
      "execution_count": null,
      "outputs": []
    },
    {
      "cell_type": "markdown",
      "source": [
        "Line Plots to see the trends"
      ],
      "metadata": {
        "id": "um29pQvFDAP-"
      }
    },
    {
      "cell_type": "code",
      "source": [
        "california_fire_incidents.columns"
      ],
      "metadata": {
        "execution": {
          "iopub.status.busy": "2022-04-13T12:58:46.381342Z",
          "iopub.execute_input": "2022-04-13T12:58:46.382688Z",
          "iopub.status.idle": "2022-04-13T12:58:46.391615Z",
          "shell.execute_reply.started": "2022-04-13T12:58:46.382575Z",
          "shell.execute_reply": "2022-04-13T12:58:46.390376Z"
        },
        "trusted": true,
        "id": "DnARZeVeDAP-"
      },
      "execution_count": null,
      "outputs": []
    },
    {
      "cell_type": "code",
      "source": [
        "ax = plt.gca()\n",
        "california_fire_incidents.plot(secondary_y=True,kind='line',x='ArchiveYear',y='AcresBurned',color='red', ax=ax)\n",
        "plt.ylabel(\"Acres burned\")\n",
        "plt.suptitle(\"California wildfire acres burned\")\n",
        "plt.show()"
      ],
      "metadata": {
        "execution": {
          "iopub.status.busy": "2022-04-13T12:58:18.821311Z",
          "iopub.execute_input": "2022-04-13T12:58:18.821672Z",
          "iopub.status.idle": "2022-04-13T12:58:19.112911Z",
          "shell.execute_reply.started": "2022-04-13T12:58:18.821635Z",
          "shell.execute_reply": "2022-04-13T12:58:19.111823Z"
        },
        "trusted": true,
        "id": "kMgYRf4MDAP-"
      },
      "execution_count": null,
      "outputs": []
    },
    {
      "cell_type": "code",
      "source": [
        "ax = plt.gca()\n",
        "california_fire_incidents.plot(secondary_y=True,kind='line',x='ArchiveYear',y='Extinguished',color='blue', ax=ax)\n",
        "plt.ylabel(\"Active\")\n",
        "plt.suptitle(\"California wildfire acres burned\")\n",
        "plt.show()"
      ],
      "metadata": {
        "execution": {
          "iopub.status.busy": "2022-04-13T13:02:45.013509Z",
          "iopub.execute_input": "2022-04-13T13:02:45.013864Z",
          "iopub.status.idle": "2022-04-13T13:02:45.236828Z",
          "shell.execute_reply.started": "2022-04-13T13:02:45.013829Z",
          "shell.execute_reply": "2022-04-13T13:02:45.235937Z"
        },
        "trusted": true,
        "id": "6RO0S324DAP_"
      },
      "execution_count": null,
      "outputs": []
    },
    {
      "cell_type": "code",
      "source": [
        "ax = plt.gca()\n",
        "california_fire_incidents.plot(secondary_y=True,kind='line',x='ArchiveYear',y='Status',color='green', ax=ax)\n",
        "plt.ylabel(\"Acres burned\")\n",
        "plt.suptitle(\"California wildfire acres burned\")\n",
        "plt.show()"
      ],
      "metadata": {
        "execution": {
          "iopub.status.busy": "2022-04-13T13:01:11.685640Z",
          "iopub.execute_input": "2022-04-13T13:01:11.685989Z",
          "iopub.status.idle": "2022-04-13T13:01:11.992499Z",
          "shell.execute_reply.started": "2022-04-13T13:01:11.685955Z",
          "shell.execute_reply": "2022-04-13T13:01:11.991073Z"
        },
        "trusted": true,
        "id": "W7xhJ-VXDAP_"
      },
      "execution_count": null,
      "outputs": []
    },
    {
      "cell_type": "markdown",
      "source": [
        "# Removing Outliers"
      ],
      "metadata": {
        "id": "LYGs9_JBDAP_"
      }
    },
    {
      "cell_type": "code",
      "source": [
        "california_fire_incidents.info()"
      ],
      "metadata": {
        "trusted": true,
        "id": "dLeVtDrbDAP_"
      },
      "execution_count": null,
      "outputs": []
    },
    {
      "cell_type": "code",
      "source": [
        "california_fire_incidents.describe()"
      ],
      "metadata": {
        "trusted": true,
        "id": "30DoChueDAP_"
      },
      "execution_count": null,
      "outputs": []
    },
    {
      "cell_type": "markdown",
      "source": [
        "Removing the rows whose values are more than 3 standard deviations away from the mean"
      ],
      "metadata": {
        "id": "JTOXsRJDDAP_"
      }
    },
    {
      "cell_type": "code",
      "source": [
        "# calculate summary statistics\n",
        "number_of_columns_dropped = 0\n",
        "for col in california_fire_incidents.columns:\n",
        "    data_mean, data_std = np.mean(california_fire_incidents[col]), np.std(california_fire_incidents[col])\n",
        "    # identify outliers\n",
        "    cut_off = data_std * 3\n",
        "    lower, upper = data_mean - cut_off, data_mean + cut_off\n",
        "    \n",
        "    print(f'\\nDropping from {col} - Lower {lower} and Upper {upper}')\n",
        "\n",
        "    # identify outliers\n",
        "    outliers = [x for x in california_fire_incidents[col] if x < lower or x > upper]\n",
        "\n",
        "    for ind in california_fire_incidents.index:\n",
        "    #     print(df['Name'][ind], df['Stream'][ind])\n",
        "        if california_fire_incidents[col][ind] < lower or california_fire_incidents[col][ind] > upper:\n",
        "            print(f'{california_fire_incidents[col][ind]}')\n",
        "            california_fire_incidents.drop(ind,inplace=True)\n",
        "            number_of_columns_dropped+=1"
      ],
      "metadata": {
        "trusted": true,
        "id": "2lfq6u8vDAP_"
      },
      "execution_count": null,
      "outputs": []
    },
    {
      "cell_type": "code",
      "source": [
        "number_of_columns_dropped"
      ],
      "metadata": {
        "trusted": true,
        "id": "yhmUoYarDAP_"
      },
      "execution_count": null,
      "outputs": []
    },
    {
      "cell_type": "code",
      "source": [
        "california_fire_incidents.describe()"
      ],
      "metadata": {
        "trusted": true,
        "id": "d769oqQxDAP_"
      },
      "execution_count": null,
      "outputs": []
    },
    {
      "cell_type": "code",
      "source": [
        "california_fire_incidents.info()"
      ],
      "metadata": {
        "trusted": true,
        "id": "LhP2AeKcDAQA"
      },
      "execution_count": null,
      "outputs": []
    },
    {
      "cell_type": "markdown",
      "source": [
        "# EDA of Second Stage of Cleaning"
      ],
      "metadata": {
        "id": "KIFWJdnEDAQA"
      }
    },
    {
      "cell_type": "code",
      "source": [
        "for col in california_fire_incidents.columns:\n",
        "    print(col)\n",
        "    plt.boxplot(california_fire_incidents[col])\n",
        "    plt.show()"
      ],
      "metadata": {
        "trusted": true,
        "id": "ejoOAZugDAQA"
      },
      "execution_count": null,
      "outputs": []
    },
    {
      "cell_type": "markdown",
      "source": [
        "## Converting data to appropriate types"
      ],
      "metadata": {
        "id": "T7a6emShDAQA"
      }
    },
    {
      "cell_type": "code",
      "source": [
        "california_fire_incidents['Started'] = pd.to_datetime(california_fire_incidents['Started'])\n",
        "california_fire_incidents['Updated'] = pd.to_datetime(california_fire_incidents['Updated'])\n",
        "california_fire_incidents['Extinguished'] = pd.to_datetime(california_fire_incidents['Extinguished'])\n",
        "\n",
        "california_fire_incidents['YearStarted'] = california_fire_incidents['Started'].dt.year\n",
        "california_fire_incidents['MonthStarted'] = california_fire_incidents['Started'].dt.month\n",
        "california_fire_incidents = california_fire_incidents[california_fire_incidents.YearStarted != 1969]"
      ],
      "metadata": {
        "trusted": true,
        "id": "go6k5MFSDAQA"
      },
      "execution_count": null,
      "outputs": []
    },
    {
      "cell_type": "code",
      "source": [
        "california_fire_incidents['YearStarted'].value_counts().sort_index().plot(kind='bar', figsize=(12,7))\n",
        "\n",
        "plt.xlabel('Year')\n",
        "plt.ylabel('Number of Fire Incidents')\n",
        "plt.title('Frequency of Fire Incidents per Year Between 2013-2019');"
      ],
      "metadata": {
        "trusted": true,
        "id": "EW86k8LEDAQA"
      },
      "execution_count": null,
      "outputs": []
    },
    {
      "cell_type": "code",
      "source": [
        "california_fire_incidents['MonthStarted'].value_counts().sort_index().plot(kind='bar', figsize=(12,7))\n",
        "\n",
        "plt.xlabel('Month of the Year')\n",
        "plt.ylabel('Number of Fire Incidents')\n",
        "plt.title('Frequency of Fire Incidents per Month Between 2013-2020');"
      ],
      "metadata": {
        "trusted": true,
        "id": "SpYg-oEnDAQB"
      },
      "execution_count": null,
      "outputs": []
    },
    {
      "cell_type": "code",
      "source": [
        "california_fire_incidents.plot(kind='scatter', x='AcresBurned', y='YearStarted', figsize=(13,8), s=5)\n",
        "\n",
        "plt.xlabel('Number of Acres Burned in Thousands')\n",
        "plt.ylabel('Year of Fire Incident')\n",
        "plt.title('Number of Acres Burned in Thousands by Year Between 2013-2019');"
      ],
      "metadata": {
        "trusted": true,
        "id": "DjBXsWeSDAQB"
      },
      "execution_count": null,
      "outputs": []
    },
    {
      "cell_type": "markdown",
      "source": [
        "## Conclusion:\n",
        "I was able to understand how to preprocess data as a preliminary before applying any model. EDA helps with understanding how you should preprocess your data."
      ],
      "metadata": {
        "id": "ZotRy2JlDAQB"
      }
    },
    {
      "cell_type": "code",
      "source": [
        ""
      ],
      "metadata": {
        "id": "1BfHHOF6DAQB"
      },
      "execution_count": null,
      "outputs": []
    }
  ]
}