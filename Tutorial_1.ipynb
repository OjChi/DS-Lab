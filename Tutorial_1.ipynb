{
  "cells": [
    {
      "cell_type": "markdown",
      "metadata": {
        "id": "view-in-github",
        "colab_type": "text"
      },
      "source": [
        "<a href=\"https://colab.research.google.com/github/OjChi/DS-Lab/blob/main/Tutorial_1.ipynb\" target=\"_parent\"><img src=\"https://colab.research.google.com/assets/colab-badge.svg\" alt=\"Open In Colab\"/></a>"
      ]
    },
    {
      "cell_type": "code",
      "execution_count": null,
      "metadata": {
        "_cell_guid": "b1076dfc-b9ad-4769-8c92-a6c4dae69d19",
        "_uuid": "8f2839f25d086af736a60e9eeb907d3b93b6e0e5",
        "execution": {
          "iopub.execute_input": "2022-04-13T12:37:12.000364Z",
          "iopub.status.busy": "2022-04-13T12:37:11.999406Z",
          "iopub.status.idle": "2022-04-13T12:37:12.012546Z",
          "shell.execute_reply": "2022-04-13T12:37:12.011474Z",
          "shell.execute_reply.started": "2022-04-13T12:37:12.000303Z"
        },
        "id": "mqTuJQ0qFZnq"
      },
      "outputs": [],
      "source": [
        "# This Python 3 environment comes with many helpful analytics libraries installed\n",
        "# It is defined by the kaggle/python Docker image: https://github.com/kaggle/docker-python\n",
        "# For example, here's several helpful packages to load\n",
        "\n",
        "import numpy as np # linear algebra\n",
        "import pandas as pd # data processing, CSV file I/O (e.g. pd.read_csv)\n",
        "import matplotlib.pyplot as plt\n",
        "from sklearn import preprocessing\n",
        "\n",
        "# Input data files are available in the read-only \"../input/\" directory\n",
        "# For example, running this (by clicking run or pressing Shift+Enter) will list all files under the input directory\n",
        "\n",
        "import os\n",
        "for dirname, _, filenames in os.walk('/kaggle/input'):\n",
        "    for filename in filenames:\n",
        "        print(os.path.join(dirname, filename))\n",
        "\n",
        "# You can write up to 20GB to the current directory (/kaggle/working/) that gets preserved as output when you create a version using \"Save & Run All\" \n",
        "# You can also write temporary files to /kaggle/temp/, but they won't be saved outside of the current session"
      ]
    },
    {
      "cell_type": "markdown",
      "metadata": {
        "id": "By8PCJ0PFZnt"
      },
      "source": [
        "## Loading the dataset\n",
        "Here I have loaded the California wildfire incidents dataset."
      ]
    },
    {
      "cell_type": "code",
      "execution_count": null,
      "metadata": {
        "execution": {
          "iopub.execute_input": "2022-04-13T12:37:12.027352Z",
          "iopub.status.busy": "2022-04-13T12:37:12.025876Z",
          "iopub.status.idle": "2022-04-13T12:37:12.067904Z",
          "shell.execute_reply": "2022-04-13T12:37:12.066803Z",
          "shell.execute_reply.started": "2022-04-13T12:37:12.027289Z"
        },
        "id": "OeWd4KXjFZnu"
      },
      "outputs": [],
      "source": [
        "california_fire_incidents = pd.read_csv('California_Fire_Incidents.csv')"
      ]
    },
    {
      "cell_type": "code",
      "execution_count": null,
      "metadata": {
        "execution": {
          "iopub.execute_input": "2022-04-13T12:37:12.070260Z",
          "iopub.status.busy": "2022-04-13T12:37:12.069823Z",
          "iopub.status.idle": "2022-04-13T12:37:12.078867Z",
          "shell.execute_reply": "2022-04-13T12:37:12.077797Z",
          "shell.execute_reply.started": "2022-04-13T12:37:12.070179Z"
        },
        "id": "jbqSTeTZFZnv",
        "outputId": "8713ed78-dba1-4790-85ec-99b5a9747edc"
      },
      "outputs": [
        {
          "data": {
            "text/plain": [
              "Index(['AcresBurned', 'Active', 'AdminUnit', 'AirTankers', 'ArchiveYear',\n",
              "       'CalFireIncident', 'CanonicalUrl', 'ConditionStatement',\n",
              "       'ControlStatement', 'Counties', 'CountyIds', 'CrewsInvolved', 'Dozers',\n",
              "       'Engines', 'Extinguished', 'Fatalities', 'Featured', 'Final',\n",
              "       'FuelType', 'Helicopters', 'Injuries', 'Latitude', 'Location',\n",
              "       'Longitude', 'MajorIncident', 'Name', 'PercentContained',\n",
              "       'PersonnelInvolved', 'Public', 'SearchDescription', 'SearchKeywords',\n",
              "       'Started', 'Status', 'StructuresDamaged', 'StructuresDestroyed',\n",
              "       'StructuresEvacuated', 'StructuresThreatened', 'UniqueId', 'Updated',\n",
              "       'WaterTenders'],\n",
              "      dtype='object')"
            ]
          },
          "execution_count": 54,
          "metadata": {},
          "output_type": "execute_result"
        }
      ],
      "source": [
        "california_fire_incidents.columns"
      ]
    },
    {
      "cell_type": "markdown",
      "metadata": {
        "id": "tR4YzY1rFZnw"
      },
      "source": [
        "Shape of the dataset"
      ]
    },
    {
      "cell_type": "code",
      "execution_count": null,
      "metadata": {
        "execution": {
          "iopub.execute_input": "2022-04-13T12:37:12.084900Z",
          "iopub.status.busy": "2022-04-13T12:37:12.084543Z",
          "iopub.status.idle": "2022-04-13T12:37:12.096059Z",
          "shell.execute_reply": "2022-04-13T12:37:12.094363Z",
          "shell.execute_reply.started": "2022-04-13T12:37:12.084864Z"
        },
        "id": "tncAX2TaFZnw",
        "outputId": "1c163399-a8e5-4bbb-e581-0df17d693978"
      },
      "outputs": [
        {
          "data": {
            "text/plain": [
              "(1636, 40)"
            ]
          },
          "execution_count": 55,
          "metadata": {},
          "output_type": "execute_result"
        }
      ],
      "source": [
        "california_fire_incidents.shape"
      ]
    },
    {
      "cell_type": "markdown",
      "metadata": {
        "id": "iRL3-v51FZnx"
      },
      "source": [
        "# Exploratory Data analysis"
      ]
    },
    {
      "cell_type": "markdown",
      "metadata": {
        "id": "ZLNBZWeBFZnx"
      },
      "source": [
        "Taking a look at a few of the data elements"
      ]
    },
    {
      "cell_type": "code",
      "execution_count": null,
      "metadata": {
        "execution": {
          "iopub.execute_input": "2022-04-13T12:37:12.109288Z",
          "iopub.status.busy": "2022-04-13T12:37:12.108910Z",
          "iopub.status.idle": "2022-04-13T12:37:12.146742Z",
          "shell.execute_reply": "2022-04-13T12:37:12.145464Z",
          "shell.execute_reply.started": "2022-04-13T12:37:12.109253Z"
        },
        "id": "gO8u-1DHFZny",
        "outputId": "b583a343-00e6-4e41-ce68-c12aa7eeec5d"
      },
      "outputs": [
        {
          "data": {
            "text/html": [
              "<div>\n",
              "<style scoped>\n",
              "    .dataframe tbody tr th:only-of-type {\n",
              "        vertical-align: middle;\n",
              "    }\n",
              "\n",
              "    .dataframe tbody tr th {\n",
              "        vertical-align: top;\n",
              "    }\n",
              "\n",
              "    .dataframe thead th {\n",
              "        text-align: right;\n",
              "    }\n",
              "</style>\n",
              "<table border=\"1\" class=\"dataframe\">\n",
              "  <thead>\n",
              "    <tr style=\"text-align: right;\">\n",
              "      <th></th>\n",
              "      <th>AcresBurned</th>\n",
              "      <th>Active</th>\n",
              "      <th>AdminUnit</th>\n",
              "      <th>AirTankers</th>\n",
              "      <th>ArchiveYear</th>\n",
              "      <th>CalFireIncident</th>\n",
              "      <th>CanonicalUrl</th>\n",
              "      <th>ConditionStatement</th>\n",
              "      <th>ControlStatement</th>\n",
              "      <th>Counties</th>\n",
              "      <th>...</th>\n",
              "      <th>SearchKeywords</th>\n",
              "      <th>Started</th>\n",
              "      <th>Status</th>\n",
              "      <th>StructuresDamaged</th>\n",
              "      <th>StructuresDestroyed</th>\n",
              "      <th>StructuresEvacuated</th>\n",
              "      <th>StructuresThreatened</th>\n",
              "      <th>UniqueId</th>\n",
              "      <th>Updated</th>\n",
              "      <th>WaterTenders</th>\n",
              "    </tr>\n",
              "  </thead>\n",
              "  <tbody>\n",
              "    <tr>\n",
              "      <th>0</th>\n",
              "      <td>257314.0</td>\n",
              "      <td>False</td>\n",
              "      <td>Stanislaus National Forest/Yosemite National Park</td>\n",
              "      <td>NaN</td>\n",
              "      <td>2013</td>\n",
              "      <td>True</td>\n",
              "      <td>/incidents/2013/8/17/rim-fire/</td>\n",
              "      <td>NaN</td>\n",
              "      <td>NaN</td>\n",
              "      <td>Tuolumne</td>\n",
              "      <td>...</td>\n",
              "      <td>Rim Fire, Stanislaus National Forest, Yosemite...</td>\n",
              "      <td>2013-08-17T15:25:00Z</td>\n",
              "      <td>Finalized</td>\n",
              "      <td>NaN</td>\n",
              "      <td>NaN</td>\n",
              "      <td>NaN</td>\n",
              "      <td>NaN</td>\n",
              "      <td>5fb18d4d-213f-4d83-a179-daaf11939e78</td>\n",
              "      <td>2013-09-06T18:30:00Z</td>\n",
              "      <td>NaN</td>\n",
              "    </tr>\n",
              "    <tr>\n",
              "      <th>1</th>\n",
              "      <td>30274.0</td>\n",
              "      <td>False</td>\n",
              "      <td>USFS Angeles National Forest/Los Angeles Count...</td>\n",
              "      <td>NaN</td>\n",
              "      <td>2013</td>\n",
              "      <td>True</td>\n",
              "      <td>/incidents/2013/5/30/powerhouse-fire/</td>\n",
              "      <td>NaN</td>\n",
              "      <td>NaN</td>\n",
              "      <td>Los Angeles</td>\n",
              "      <td>...</td>\n",
              "      <td>Powerhouse Fire, May 2013, June 2013, Angeles ...</td>\n",
              "      <td>2013-05-30T15:28:00Z</td>\n",
              "      <td>Finalized</td>\n",
              "      <td>NaN</td>\n",
              "      <td>NaN</td>\n",
              "      <td>NaN</td>\n",
              "      <td>NaN</td>\n",
              "      <td>bf37805e-1cc2-4208-9972-753e47874c87</td>\n",
              "      <td>2013-06-08T18:30:00Z</td>\n",
              "      <td>NaN</td>\n",
              "    </tr>\n",
              "    <tr>\n",
              "      <th>2</th>\n",
              "      <td>27531.0</td>\n",
              "      <td>False</td>\n",
              "      <td>CAL FIRE Riverside Unit / San Bernardino Natio...</td>\n",
              "      <td>NaN</td>\n",
              "      <td>2013</td>\n",
              "      <td>True</td>\n",
              "      <td>/incidents/2013/7/15/mountain-fire/</td>\n",
              "      <td>NaN</td>\n",
              "      <td>NaN</td>\n",
              "      <td>Riverside</td>\n",
              "      <td>...</td>\n",
              "      <td>Mountain Fire, July 2013, Highway 243, Highway...</td>\n",
              "      <td>2013-07-15T13:43:00Z</td>\n",
              "      <td>Finalized</td>\n",
              "      <td>NaN</td>\n",
              "      <td>NaN</td>\n",
              "      <td>NaN</td>\n",
              "      <td>NaN</td>\n",
              "      <td>a3149fec-4d48-427c-8b2c-59e8b79d59db</td>\n",
              "      <td>2013-07-30T18:00:00Z</td>\n",
              "      <td>NaN</td>\n",
              "    </tr>\n",
              "    <tr>\n",
              "      <th>3</th>\n",
              "      <td>27440.0</td>\n",
              "      <td>False</td>\n",
              "      <td>Tahoe National Forest</td>\n",
              "      <td>NaN</td>\n",
              "      <td>2013</td>\n",
              "      <td>False</td>\n",
              "      <td>/incidents/2013/8/10/american-fire/</td>\n",
              "      <td>NaN</td>\n",
              "      <td>NaN</td>\n",
              "      <td>Placer</td>\n",
              "      <td>...</td>\n",
              "      <td>American Fire, August 2013, Deadwood Ridge, Fo...</td>\n",
              "      <td>2013-08-10T16:30:00Z</td>\n",
              "      <td>Finalized</td>\n",
              "      <td>NaN</td>\n",
              "      <td>NaN</td>\n",
              "      <td>NaN</td>\n",
              "      <td>NaN</td>\n",
              "      <td>8213f5c7-34fa-403b-a4bc-da2ace6e6625</td>\n",
              "      <td>2013-08-30T08:00:00Z</td>\n",
              "      <td>NaN</td>\n",
              "    </tr>\n",
              "    <tr>\n",
              "      <th>4</th>\n",
              "      <td>24251.0</td>\n",
              "      <td>False</td>\n",
              "      <td>Ventura County Fire/CAL FIRE</td>\n",
              "      <td>NaN</td>\n",
              "      <td>2013</td>\n",
              "      <td>True</td>\n",
              "      <td>/incidents/2013/5/2/springs-fire/</td>\n",
              "      <td>Acreage has been reduced based upon more accur...</td>\n",
              "      <td>NaN</td>\n",
              "      <td>Ventura</td>\n",
              "      <td>...</td>\n",
              "      <td>Springs Fire, May 2013, Highway 101, Camarillo...</td>\n",
              "      <td>2013-05-02T07:01:00Z</td>\n",
              "      <td>Finalized</td>\n",
              "      <td>6.0</td>\n",
              "      <td>10.0</td>\n",
              "      <td>NaN</td>\n",
              "      <td>NaN</td>\n",
              "      <td>46731fb8-3350-4920-bdf7-910ac0eb715c</td>\n",
              "      <td>2013-05-11T06:30:00Z</td>\n",
              "      <td>11.0</td>\n",
              "    </tr>\n",
              "  </tbody>\n",
              "</table>\n",
              "<p>5 rows × 40 columns</p>\n",
              "</div>"
            ],
            "text/plain": [
              "   AcresBurned  Active                                          AdminUnit  \\\n",
              "0     257314.0   False  Stanislaus National Forest/Yosemite National Park   \n",
              "1      30274.0   False  USFS Angeles National Forest/Los Angeles Count...   \n",
              "2      27531.0   False  CAL FIRE Riverside Unit / San Bernardino Natio...   \n",
              "3      27440.0   False                              Tahoe National Forest   \n",
              "4      24251.0   False                       Ventura County Fire/CAL FIRE   \n",
              "\n",
              "   AirTankers  ArchiveYear  CalFireIncident  \\\n",
              "0         NaN         2013             True   \n",
              "1         NaN         2013             True   \n",
              "2         NaN         2013             True   \n",
              "3         NaN         2013            False   \n",
              "4         NaN         2013             True   \n",
              "\n",
              "                            CanonicalUrl  \\\n",
              "0         /incidents/2013/8/17/rim-fire/   \n",
              "1  /incidents/2013/5/30/powerhouse-fire/   \n",
              "2    /incidents/2013/7/15/mountain-fire/   \n",
              "3    /incidents/2013/8/10/american-fire/   \n",
              "4      /incidents/2013/5/2/springs-fire/   \n",
              "\n",
              "                                  ConditionStatement ControlStatement  \\\n",
              "0                                                NaN              NaN   \n",
              "1                                                NaN              NaN   \n",
              "2                                                NaN              NaN   \n",
              "3                                                NaN              NaN   \n",
              "4  Acreage has been reduced based upon more accur...              NaN   \n",
              "\n",
              "      Counties  ...                                     SearchKeywords  \\\n",
              "0     Tuolumne  ...  Rim Fire, Stanislaus National Forest, Yosemite...   \n",
              "1  Los Angeles  ...  Powerhouse Fire, May 2013, June 2013, Angeles ...   \n",
              "2    Riverside  ...  Mountain Fire, July 2013, Highway 243, Highway...   \n",
              "3       Placer  ...  American Fire, August 2013, Deadwood Ridge, Fo...   \n",
              "4      Ventura  ...  Springs Fire, May 2013, Highway 101, Camarillo...   \n",
              "\n",
              "                Started     Status  StructuresDamaged StructuresDestroyed  \\\n",
              "0  2013-08-17T15:25:00Z  Finalized                NaN                 NaN   \n",
              "1  2013-05-30T15:28:00Z  Finalized                NaN                 NaN   \n",
              "2  2013-07-15T13:43:00Z  Finalized                NaN                 NaN   \n",
              "3  2013-08-10T16:30:00Z  Finalized                NaN                 NaN   \n",
              "4  2013-05-02T07:01:00Z  Finalized                6.0                10.0   \n",
              "\n",
              "   StructuresEvacuated  StructuresThreatened  \\\n",
              "0                  NaN                   NaN   \n",
              "1                  NaN                   NaN   \n",
              "2                  NaN                   NaN   \n",
              "3                  NaN                   NaN   \n",
              "4                  NaN                   NaN   \n",
              "\n",
              "                               UniqueId               Updated  WaterTenders  \n",
              "0  5fb18d4d-213f-4d83-a179-daaf11939e78  2013-09-06T18:30:00Z           NaN  \n",
              "1  bf37805e-1cc2-4208-9972-753e47874c87  2013-06-08T18:30:00Z           NaN  \n",
              "2  a3149fec-4d48-427c-8b2c-59e8b79d59db  2013-07-30T18:00:00Z           NaN  \n",
              "3  8213f5c7-34fa-403b-a4bc-da2ace6e6625  2013-08-30T08:00:00Z           NaN  \n",
              "4  46731fb8-3350-4920-bdf7-910ac0eb715c  2013-05-11T06:30:00Z          11.0  \n",
              "\n",
              "[5 rows x 40 columns]"
            ]
          },
          "execution_count": 56,
          "metadata": {},
          "output_type": "execute_result"
        }
      ],
      "source": [
        "california_fire_incidents.head()"
      ]
    },
    {
      "cell_type": "markdown",
      "metadata": {
        "id": "KtKIRsLlFZny"
      },
      "source": [
        "Let us now see the statistics of the dataset"
      ]
    },
    {
      "cell_type": "code",
      "execution_count": null,
      "metadata": {
        "execution": {
          "iopub.execute_input": "2022-04-13T12:37:12.149983Z",
          "iopub.status.busy": "2022-04-13T12:37:12.149618Z",
          "iopub.status.idle": "2022-04-13T12:37:12.234703Z",
          "shell.execute_reply": "2022-04-13T12:37:12.233850Z",
          "shell.execute_reply.started": "2022-04-13T12:37:12.149936Z"
        },
        "id": "jX4oBjJCFZny",
        "outputId": "19df87c6-0d98-4d72-cc1d-bc3746f9c3e2"
      },
      "outputs": [
        {
          "data": {
            "text/html": [
              "<div>\n",
              "<style scoped>\n",
              "    .dataframe tbody tr th:only-of-type {\n",
              "        vertical-align: middle;\n",
              "    }\n",
              "\n",
              "    .dataframe tbody tr th {\n",
              "        vertical-align: top;\n",
              "    }\n",
              "\n",
              "    .dataframe thead th {\n",
              "        text-align: right;\n",
              "    }\n",
              "</style>\n",
              "<table border=\"1\" class=\"dataframe\">\n",
              "  <thead>\n",
              "    <tr style=\"text-align: right;\">\n",
              "      <th></th>\n",
              "      <th>AcresBurned</th>\n",
              "      <th>AirTankers</th>\n",
              "      <th>ArchiveYear</th>\n",
              "      <th>CrewsInvolved</th>\n",
              "      <th>Dozers</th>\n",
              "      <th>Engines</th>\n",
              "      <th>Fatalities</th>\n",
              "      <th>Helicopters</th>\n",
              "      <th>Injuries</th>\n",
              "      <th>Latitude</th>\n",
              "      <th>Longitude</th>\n",
              "      <th>PercentContained</th>\n",
              "      <th>PersonnelInvolved</th>\n",
              "      <th>StructuresDamaged</th>\n",
              "      <th>StructuresDestroyed</th>\n",
              "      <th>StructuresEvacuated</th>\n",
              "      <th>StructuresThreatened</th>\n",
              "      <th>WaterTenders</th>\n",
              "    </tr>\n",
              "  </thead>\n",
              "  <tbody>\n",
              "    <tr>\n",
              "      <th>count</th>\n",
              "      <td>1633.000000</td>\n",
              "      <td>28.000000</td>\n",
              "      <td>1636.000000</td>\n",
              "      <td>171.000000</td>\n",
              "      <td>123.000000</td>\n",
              "      <td>191.000000</td>\n",
              "      <td>21.000000</td>\n",
              "      <td>84.000000</td>\n",
              "      <td>120.000000</td>\n",
              "      <td>1636.000000</td>\n",
              "      <td>1636.000000</td>\n",
              "      <td>1633.0</td>\n",
              "      <td>204.000000</td>\n",
              "      <td>67.000000</td>\n",
              "      <td>175.000000</td>\n",
              "      <td>0.0</td>\n",
              "      <td>30.000000</td>\n",
              "      <td>146.000000</td>\n",
              "    </tr>\n",
              "    <tr>\n",
              "      <th>mean</th>\n",
              "      <td>4589.443968</td>\n",
              "      <td>4.071429</td>\n",
              "      <td>2016.608802</td>\n",
              "      <td>11.561404</td>\n",
              "      <td>7.585366</td>\n",
              "      <td>23.565445</td>\n",
              "      <td>8.619048</td>\n",
              "      <td>5.357143</td>\n",
              "      <td>3.500000</td>\n",
              "      <td>37.203975</td>\n",
              "      <td>-108.082642</td>\n",
              "      <td>100.0</td>\n",
              "      <td>328.553922</td>\n",
              "      <td>67.970149</td>\n",
              "      <td>271.788571</td>\n",
              "      <td>NaN</td>\n",
              "      <td>522.800000</td>\n",
              "      <td>7.815068</td>\n",
              "    </tr>\n",
              "    <tr>\n",
              "      <th>std</th>\n",
              "      <td>27266.337722</td>\n",
              "      <td>6.399818</td>\n",
              "      <td>1.845340</td>\n",
              "      <td>14.455633</td>\n",
              "      <td>14.028616</td>\n",
              "      <td>41.004424</td>\n",
              "      <td>18.529642</td>\n",
              "      <td>7.265437</td>\n",
              "      <td>3.806231</td>\n",
              "      <td>135.401380</td>\n",
              "      <td>37.006927</td>\n",
              "      <td>0.0</td>\n",
              "      <td>521.138789</td>\n",
              "      <td>155.771975</td>\n",
              "      <td>1557.255963</td>\n",
              "      <td>NaN</td>\n",
              "      <td>739.586856</td>\n",
              "      <td>12.719251</td>\n",
              "    </tr>\n",
              "    <tr>\n",
              "      <th>min</th>\n",
              "      <td>0.000000</td>\n",
              "      <td>0.000000</td>\n",
              "      <td>2013.000000</td>\n",
              "      <td>0.000000</td>\n",
              "      <td>0.000000</td>\n",
              "      <td>0.000000</td>\n",
              "      <td>1.000000</td>\n",
              "      <td>0.000000</td>\n",
              "      <td>0.000000</td>\n",
              "      <td>-120.258000</td>\n",
              "      <td>-124.196290</td>\n",
              "      <td>100.0</td>\n",
              "      <td>0.000000</td>\n",
              "      <td>0.000000</td>\n",
              "      <td>0.000000</td>\n",
              "      <td>NaN</td>\n",
              "      <td>0.000000</td>\n",
              "      <td>1.000000</td>\n",
              "    </tr>\n",
              "    <tr>\n",
              "      <th>25%</th>\n",
              "      <td>35.000000</td>\n",
              "      <td>2.000000</td>\n",
              "      <td>2015.000000</td>\n",
              "      <td>2.500000</td>\n",
              "      <td>1.000000</td>\n",
              "      <td>5.000000</td>\n",
              "      <td>1.000000</td>\n",
              "      <td>1.000000</td>\n",
              "      <td>1.000000</td>\n",
              "      <td>34.165890</td>\n",
              "      <td>-121.768358</td>\n",
              "      <td>100.0</td>\n",
              "      <td>55.000000</td>\n",
              "      <td>1.000000</td>\n",
              "      <td>1.000000</td>\n",
              "      <td>NaN</td>\n",
              "      <td>0.000000</td>\n",
              "      <td>2.000000</td>\n",
              "    </tr>\n",
              "    <tr>\n",
              "      <th>50%</th>\n",
              "      <td>100.000000</td>\n",
              "      <td>2.000000</td>\n",
              "      <td>2017.000000</td>\n",
              "      <td>6.000000</td>\n",
              "      <td>2.000000</td>\n",
              "      <td>11.000000</td>\n",
              "      <td>3.000000</td>\n",
              "      <td>2.000000</td>\n",
              "      <td>3.000000</td>\n",
              "      <td>37.104065</td>\n",
              "      <td>-120.461560</td>\n",
              "      <td>100.0</td>\n",
              "      <td>151.500000</td>\n",
              "      <td>6.000000</td>\n",
              "      <td>7.000000</td>\n",
              "      <td>NaN</td>\n",
              "      <td>45.000000</td>\n",
              "      <td>4.000000</td>\n",
              "    </tr>\n",
              "    <tr>\n",
              "      <th>75%</th>\n",
              "      <td>422.000000</td>\n",
              "      <td>4.000000</td>\n",
              "      <td>2018.000000</td>\n",
              "      <td>13.500000</td>\n",
              "      <td>5.000000</td>\n",
              "      <td>24.000000</td>\n",
              "      <td>6.000000</td>\n",
              "      <td>5.000000</td>\n",
              "      <td>4.000000</td>\n",
              "      <td>39.086808</td>\n",
              "      <td>-117.474072</td>\n",
              "      <td>100.0</td>\n",
              "      <td>350.000000</td>\n",
              "      <td>49.500000</td>\n",
              "      <td>41.500000</td>\n",
              "      <td>NaN</td>\n",
              "      <td>1043.750000</td>\n",
              "      <td>6.000000</td>\n",
              "    </tr>\n",
              "    <tr>\n",
              "      <th>max</th>\n",
              "      <td>410203.000000</td>\n",
              "      <td>27.000000</td>\n",
              "      <td>2019.000000</td>\n",
              "      <td>82.000000</td>\n",
              "      <td>76.000000</td>\n",
              "      <td>256.000000</td>\n",
              "      <td>85.000000</td>\n",
              "      <td>29.000000</td>\n",
              "      <td>26.000000</td>\n",
              "      <td>5487.000000</td>\n",
              "      <td>118.908200</td>\n",
              "      <td>100.0</td>\n",
              "      <td>3100.000000</td>\n",
              "      <td>783.000000</td>\n",
              "      <td>18804.000000</td>\n",
              "      <td>NaN</td>\n",
              "      <td>2600.000000</td>\n",
              "      <td>79.000000</td>\n",
              "    </tr>\n",
              "  </tbody>\n",
              "</table>\n",
              "</div>"
            ],
            "text/plain": [
              "         AcresBurned  AirTankers  ArchiveYear  CrewsInvolved      Dozers  \\\n",
              "count    1633.000000   28.000000  1636.000000     171.000000  123.000000   \n",
              "mean     4589.443968    4.071429  2016.608802      11.561404    7.585366   \n",
              "std     27266.337722    6.399818     1.845340      14.455633   14.028616   \n",
              "min         0.000000    0.000000  2013.000000       0.000000    0.000000   \n",
              "25%        35.000000    2.000000  2015.000000       2.500000    1.000000   \n",
              "50%       100.000000    2.000000  2017.000000       6.000000    2.000000   \n",
              "75%       422.000000    4.000000  2018.000000      13.500000    5.000000   \n",
              "max    410203.000000   27.000000  2019.000000      82.000000   76.000000   \n",
              "\n",
              "          Engines  Fatalities  Helicopters    Injuries     Latitude  \\\n",
              "count  191.000000   21.000000    84.000000  120.000000  1636.000000   \n",
              "mean    23.565445    8.619048     5.357143    3.500000    37.203975   \n",
              "std     41.004424   18.529642     7.265437    3.806231   135.401380   \n",
              "min      0.000000    1.000000     0.000000    0.000000  -120.258000   \n",
              "25%      5.000000    1.000000     1.000000    1.000000    34.165890   \n",
              "50%     11.000000    3.000000     2.000000    3.000000    37.104065   \n",
              "75%     24.000000    6.000000     5.000000    4.000000    39.086808   \n",
              "max    256.000000   85.000000    29.000000   26.000000  5487.000000   \n",
              "\n",
              "         Longitude  PercentContained  PersonnelInvolved  StructuresDamaged  \\\n",
              "count  1636.000000            1633.0         204.000000          67.000000   \n",
              "mean   -108.082642             100.0         328.553922          67.970149   \n",
              "std      37.006927               0.0         521.138789         155.771975   \n",
              "min    -124.196290             100.0           0.000000           0.000000   \n",
              "25%    -121.768358             100.0          55.000000           1.000000   \n",
              "50%    -120.461560             100.0         151.500000           6.000000   \n",
              "75%    -117.474072             100.0         350.000000          49.500000   \n",
              "max     118.908200             100.0        3100.000000         783.000000   \n",
              "\n",
              "       StructuresDestroyed  StructuresEvacuated  StructuresThreatened  \\\n",
              "count           175.000000                  0.0             30.000000   \n",
              "mean            271.788571                  NaN            522.800000   \n",
              "std            1557.255963                  NaN            739.586856   \n",
              "min               0.000000                  NaN              0.000000   \n",
              "25%               1.000000                  NaN              0.000000   \n",
              "50%               7.000000                  NaN             45.000000   \n",
              "75%              41.500000                  NaN           1043.750000   \n",
              "max           18804.000000                  NaN           2600.000000   \n",
              "\n",
              "       WaterTenders  \n",
              "count    146.000000  \n",
              "mean       7.815068  \n",
              "std       12.719251  \n",
              "min        1.000000  \n",
              "25%        2.000000  \n",
              "50%        4.000000  \n",
              "75%        6.000000  \n",
              "max       79.000000  "
            ]
          },
          "execution_count": 57,
          "metadata": {},
          "output_type": "execute_result"
        }
      ],
      "source": [
        "california_fire_incidents.describe()"
      ]
    },
    {
      "cell_type": "markdown",
      "metadata": {
        "id": "YhCkukkDFZnz"
      },
      "source": [
        "Now checking the datatypes and the null values"
      ]
    },
    {
      "cell_type": "code",
      "execution_count": null,
      "metadata": {
        "execution": {
          "iopub.execute_input": "2022-04-13T12:37:12.237472Z",
          "iopub.status.busy": "2022-04-13T12:37:12.236580Z",
          "iopub.status.idle": "2022-04-13T12:37:12.261170Z",
          "shell.execute_reply": "2022-04-13T12:37:12.259908Z",
          "shell.execute_reply.started": "2022-04-13T12:37:12.237425Z"
        },
        "id": "DOjRIJe2FZnz",
        "outputId": "285395c8-4228-4205-d115-ca9961cfbb20"
      },
      "outputs": [
        {
          "name": "stdout",
          "output_type": "stream",
          "text": [
            "<class 'pandas.core.frame.DataFrame'>\n",
            "RangeIndex: 1636 entries, 0 to 1635\n",
            "Data columns (total 40 columns):\n",
            " #   Column                Non-Null Count  Dtype  \n",
            "---  ------                --------------  -----  \n",
            " 0   AcresBurned           1633 non-null   float64\n",
            " 1   Active                1636 non-null   bool   \n",
            " 2   AdminUnit             1636 non-null   object \n",
            " 3   AirTankers            28 non-null     float64\n",
            " 4   ArchiveYear           1636 non-null   int64  \n",
            " 5   CalFireIncident       1636 non-null   bool   \n",
            " 6   CanonicalUrl          1636 non-null   object \n",
            " 7   ConditionStatement    284 non-null    object \n",
            " 8   ControlStatement      111 non-null    object \n",
            " 9   Counties              1636 non-null   object \n",
            " 10  CountyIds             1636 non-null   object \n",
            " 11  CrewsInvolved         171 non-null    float64\n",
            " 12  Dozers                123 non-null    float64\n",
            " 13  Engines               191 non-null    float64\n",
            " 14  Extinguished          1577 non-null   object \n",
            " 15  Fatalities            21 non-null     float64\n",
            " 16  Featured              1636 non-null   bool   \n",
            " 17  Final                 1636 non-null   bool   \n",
            " 18  FuelType              12 non-null     object \n",
            " 19  Helicopters           84 non-null     float64\n",
            " 20  Injuries              120 non-null    float64\n",
            " 21  Latitude              1636 non-null   float64\n",
            " 22  Location              1636 non-null   object \n",
            " 23  Longitude             1636 non-null   float64\n",
            " 24  MajorIncident         1636 non-null   bool   \n",
            " 25  Name                  1636 non-null   object \n",
            " 26  PercentContained      1633 non-null   float64\n",
            " 27  PersonnelInvolved     204 non-null    float64\n",
            " 28  Public                1636 non-null   bool   \n",
            " 29  SearchDescription     1619 non-null   object \n",
            " 30  SearchKeywords        1433 non-null   object \n",
            " 31  Started               1636 non-null   object \n",
            " 32  Status                1636 non-null   object \n",
            " 33  StructuresDamaged     67 non-null     float64\n",
            " 34  StructuresDestroyed   175 non-null    float64\n",
            " 35  StructuresEvacuated   0 non-null      float64\n",
            " 36  StructuresThreatened  30 non-null     float64\n",
            " 37  UniqueId              1636 non-null   object \n",
            " 38  Updated               1636 non-null   object \n",
            " 39  WaterTenders          146 non-null    float64\n",
            "dtypes: bool(6), float64(17), int64(1), object(16)\n",
            "memory usage: 342.0+ KB\n"
          ]
        }
      ],
      "source": [
        "california_fire_incidents.info()"
      ]
    },
    {
      "cell_type": "markdown",
      "metadata": {
        "id": "27L7_PMfFZnz"
      },
      "source": [
        "## Finding the null columns"
      ]
    },
    {
      "cell_type": "code",
      "execution_count": null,
      "metadata": {
        "execution": {
          "iopub.execute_input": "2022-04-13T12:37:12.263228Z",
          "iopub.status.busy": "2022-04-13T12:37:12.262493Z",
          "iopub.status.idle": "2022-04-13T12:37:12.280629Z",
          "shell.execute_reply": "2022-04-13T12:37:12.279303Z",
          "shell.execute_reply.started": "2022-04-13T12:37:12.263153Z"
        },
        "id": "tQGBuhMlFZnz"
      },
      "outputs": [],
      "source": [
        "null_cols = []\n",
        "for col in california_fire_incidents.columns:\n",
        "    if california_fire_incidents[col].isnull().values.any():\n",
        "        null_cols.append(col)"
      ]
    },
    {
      "cell_type": "code",
      "execution_count": null,
      "metadata": {
        "execution": {
          "iopub.execute_input": "2022-04-13T12:37:12.284092Z",
          "iopub.status.busy": "2022-04-13T12:37:12.283151Z",
          "iopub.status.idle": "2022-04-13T12:37:12.299427Z",
          "shell.execute_reply": "2022-04-13T12:37:12.298024Z",
          "shell.execute_reply.started": "2022-04-13T12:37:12.284012Z"
        },
        "id": "TzJy2z_dFZnz",
        "outputId": "aab64ea9-ad58-4664-808c-fb2020136c28"
      },
      "outputs": [
        {
          "data": {
            "text/plain": [
              "['AcresBurned',\n",
              " 'AirTankers',\n",
              " 'ConditionStatement',\n",
              " 'ControlStatement',\n",
              " 'CrewsInvolved',\n",
              " 'Dozers',\n",
              " 'Engines',\n",
              " 'Extinguished',\n",
              " 'Fatalities',\n",
              " 'FuelType',\n",
              " 'Helicopters',\n",
              " 'Injuries',\n",
              " 'PercentContained',\n",
              " 'PersonnelInvolved',\n",
              " 'SearchDescription',\n",
              " 'SearchKeywords',\n",
              " 'StructuresDamaged',\n",
              " 'StructuresDestroyed',\n",
              " 'StructuresEvacuated',\n",
              " 'StructuresThreatened',\n",
              " 'WaterTenders']"
            ]
          },
          "execution_count": 60,
          "metadata": {},
          "output_type": "execute_result"
        }
      ],
      "source": [
        "null_cols"
      ]
    },
    {
      "cell_type": "code",
      "execution_count": null,
      "metadata": {
        "execution": {
          "iopub.execute_input": "2022-04-13T12:37:12.302307Z",
          "iopub.status.busy": "2022-04-13T12:37:12.301499Z",
          "iopub.status.idle": "2022-04-13T12:37:12.327117Z",
          "shell.execute_reply": "2022-04-13T12:37:12.325782Z",
          "shell.execute_reply.started": "2022-04-13T12:37:12.302260Z"
        },
        "id": "hhM9Jtg6FZn0",
        "outputId": "845ab4f1-194e-4953-a806-d2508ca79cc6"
      },
      "outputs": [
        {
          "name": "stdout",
          "output_type": "stream",
          "text": [
            "AcresBurned 634\n",
            "AirTankers 7\n",
            "ConditionStatement 258\n",
            "ControlStatement 92\n",
            "CrewsInvolved 40\n",
            "Dozers 24\n",
            "Engines 54\n",
            "Extinguished 1038\n",
            "Fatalities 8\n",
            "FuelType 8\n",
            "Helicopters 17\n",
            "Injuries 17\n",
            "PercentContained 1\n",
            "PersonnelInvolved 151\n",
            "SearchDescription 1591\n",
            "SearchKeywords 1382\n",
            "StructuresDamaged 28\n",
            "StructuresDestroyed 61\n",
            "StructuresEvacuated 0\n",
            "StructuresThreatened 14\n",
            "WaterTenders 24\n"
          ]
        }
      ],
      "source": [
        "for col in null_cols:\n",
        "    print(col,len(california_fire_incidents[col].unique())-1)"
      ]
    },
    {
      "cell_type": "markdown",
      "metadata": {
        "id": "X-HG3-0ZFZn0"
      },
      "source": [
        "Finding the unique values in the null columns"
      ]
    },
    {
      "cell_type": "code",
      "execution_count": null,
      "metadata": {
        "execution": {
          "iopub.execute_input": "2022-04-13T12:37:12.329223Z",
          "iopub.status.busy": "2022-04-13T12:37:12.328685Z",
          "iopub.status.idle": "2022-04-13T12:37:12.372644Z",
          "shell.execute_reply": "2022-04-13T12:37:12.367940Z",
          "shell.execute_reply.started": "2022-04-13T12:37:12.329181Z"
        },
        "id": "dYcsKuthFZn0",
        "outputId": "cdbc2f2b-5790-4b0c-e08d-5cc1ca79a6c6"
      },
      "outputs": [
        {
          "name": "stdout",
          "output_type": "stream",
          "text": [
            "AcresBurned [2.57314e+05 3.02740e+04 2.75310e+04 2.74400e+04 2.42510e+04 2.29920e+04\n",
            " 2.02920e+04 1.47540e+04 1.25030e+04 1.14290e+04 8.07300e+03 7.05500e+03\n",
            " 6.96500e+03 4.34600e+03 3.50500e+03 3.16600e+03 3.11100e+03 2.78100e+03\n",
            " 2.46200e+03 2.23600e+03 2.06000e+03 1.98400e+03 1.70800e+03 1.38300e+03\n",
            " 1.27100e+03 1.07000e+03 9.17000e+02 7.94000e+02 7.12000e+02 6.12000e+02\n",
            " 5.72000e+02 5.34000e+02 5.13000e+02 5.10000e+02 5.02000e+02 5.00000e+02\n",
            " 4.92000e+02 4.82000e+02 4.13000e+02 4.06000e+02 3.76000e+02 3.54000e+02\n",
            " 3.11000e+02 3.05000e+02 3.03000e+02 2.98000e+02 2.96000e+02 2.74000e+02\n",
            " 2.68000e+02 2.63000e+02 2.43000e+02 2.40000e+02 2.37000e+02 2.26000e+02\n",
            " 2.17000e+02 2.13000e+02 2.00000e+02 1.96000e+02 1.95000e+02 1.90000e+02\n",
            " 1.70000e+02 1.63000e+02 1.59000e+02 1.58000e+02 1.50000e+02 1.49000e+02\n",
            " 1.34000e+02 1.25000e+02 1.24000e+02 1.20000e+02 1.16000e+02 1.10000e+02\n",
            " 1.08000e+02 1.05000e+02 1.00000e+02 9.80000e+01 9.70000e+01 9.60000e+01\n",
            " 9.40000e+01 9.20000e+01 9.10000e+01 9.00000e+01 8.50000e+01 8.20000e+01\n",
            " 8.00000e+01 7.50000e+01 7.30000e+01 7.20000e+01 7.00000e+01 6.80000e+01\n",
            " 6.40000e+01 6.00000e+01 5.20000e+01 5.10000e+01 5.00000e+01 4.60000e+01\n",
            " 4.50000e+01 4.40000e+01 4.30000e+01 4.20000e+01 4.10000e+01 4.00000e+01\n",
            " 3.80000e+01 3.50000e+01 3.40000e+01 3.30000e+01 3.10000e+01 3.00000e+01\n",
            " 2.80000e+01 2.70000e+01 2.50000e+01 2.30000e+01 1.50000e+01 0.00000e+00\n",
            " 9.77170e+04 5.00420e+04 3.97360e+04 3.53020e+04 3.24960e+04 3.24160e+04\n",
            " 1.44160e+04 1.38380e+04 1.31530e+04 1.26610e+04 1.25360e+04 6.48800e+03\n",
            " 6.25800e+03 5.50300e+03 5.36700e+03 4.84000e+03 4.77200e+03 4.68900e+03\n",
            " 4.30000e+03 4.24000e+03 4.04500e+03 3.89500e+03 2.14300e+03 1.99500e+03\n",
            " 1.95200e+03 1.68000e+03 1.65100e+03 1.54800e+03 1.46900e+03 1.45700e+03\n",
            " 1.37500e+03 1.08000e+03 9.68000e+02 8.65000e+02 6.77000e+02 6.32000e+02\n",
            " 6.00000e+02 5.80000e+02 5.16000e+02 4.87000e+02 4.59000e+02 4.03000e+02\n",
            " 4.00000e+02 3.89000e+02 3.80000e+02 3.50000e+02 3.33000e+02 3.20000e+02\n",
            " 3.00000e+02 2.69000e+02 2.47000e+02 2.25000e+02 2.10000e+02 1.75000e+02\n",
            " 1.43000e+02 1.30000e+02 1.13000e+02 1.06000e+02 1.01000e+02 8.40000e+01\n",
            " 7.90000e+01 7.80000e+01 6.50000e+01 6.20000e+01 5.70000e+01 5.60000e+01\n",
            " 4.80000e+01 4.70000e+01 3.70000e+01 2.90000e+01 2.00000e+01 1.80000e+01\n",
            " 1.40000e+01 1.00000e+01 6.00000e+00 1.51623e+05 7.70810e+04 6.94380e+04\n",
            " 3.65030e+04 3.13590e+04 3.03610e+04 2.94160e+04 2.51180e+04 1.05700e+04\n",
            " 7.50900e+03 7.00000e+03 6.98000e+03 5.70200e+03 4.88300e+03 4.86300e+03\n",
            " 4.25000e+03 3.67600e+03 2.70000e+03 2.44600e+03 2.30400e+03 1.85000e+03\n",
            " 1.79100e+03 1.54200e+03 1.45000e+03 1.33300e+03 1.08600e+03 1.04900e+03\n",
            " 1.04200e+03 9.20000e+02 8.60000e+02 6.73000e+02 6.70000e+02 5.43000e+02\n",
            " 5.09000e+02 4.30000e+02 4.15000e+02 3.74000e+02 3.55000e+02 2.82000e+02\n",
            " 2.75000e+02 2.42000e+02 2.27000e+02 2.15000e+02 2.14000e+02 2.12000e+02\n",
            " 2.11000e+02 2.04000e+02 1.86000e+02 1.81000e+02 1.71000e+02 1.67000e+02\n",
            " 1.64000e+02 1.46000e+02 1.37000e+02 1.35000e+02 1.28000e+02 1.22000e+02\n",
            " 1.14000e+02 1.12000e+02 1.11000e+02 1.09000e+02 1.04000e+02 9.50000e+01\n",
            " 8.60000e+01 7.70000e+01 6.90000e+01 6.70000e+01 5.90000e+01 5.80000e+01\n",
            " 5.50000e+01 5.40000e+01 5.30000e+01 3.60000e+01 2.60000e+01 2.40000e+01\n",
            " 2.20000e+01 2.10000e+01 1.90000e+01 1.60000e+01 1.32127e+05 4.80190e+04\n",
            " 4.63440e+04 3.62740e+04 3.38670e+04 3.26060e+04 2.93220e+04 1.25180e+04\n",
            " 8.11000e+03 7.60900e+03 7.47400e+03 7.05000e+03 5.73100e+03 5.64600e+03\n",
            " 5.44300e+03 5.39900e+03 4.82400e+03 4.47400e+03 4.34700e+03 3.92900e+03\n",
            " 3.87600e+03 3.71200e+03 2.94400e+03 2.86000e+03 2.81900e+03 2.65200e+03\n",
            " 2.57500e+03 2.52000e+03 2.24100e+03 2.10000e+03 1.78500e+03 1.54700e+03\n",
            " 1.47000e+03 1.24600e+03 1.24500e+03 1.10900e+03 8.50000e+02 7.10000e+02\n",
            " 6.50000e+02 5.99000e+02 5.54000e+02 5.50000e+02 5.18000e+02 4.64000e+02\n",
            " 4.50000e+02 4.41000e+02 3.95000e+02 3.72000e+02 3.60000e+02 3.41000e+02\n",
            " 3.10000e+02 3.06000e+02 3.04000e+02 2.78000e+02 2.77000e+02 2.48000e+02\n",
            " 2.21000e+02 1.88000e+02 1.76000e+02 1.73000e+02 1.69000e+02 1.56000e+02\n",
            " 1.51000e+02 1.47000e+02 1.45000e+02 1.40000e+02 1.39000e+02 1.38000e+02\n",
            " 1.32000e+02 1.23000e+02 1.03000e+02 8.80000e+01 8.70000e+01 8.30000e+01\n",
            " 6.10000e+01 4.90000e+01 3.20000e+01 1.10000e+01 2.81893e+05 8.37330e+04\n",
            " 8.31200e+04 8.18260e+04 7.86980e+04 5.65560e+04 5.16240e+04 4.88890e+04\n",
            " 3.97150e+04 3.68070e+04 3.65560e+04 3.65230e+04 2.86870e+04 2.72760e+04\n",
            " 2.18460e+04 1.89000e+04 1.86180e+04 1.84300e+04 1.73570e+04 1.60310e+04\n",
            " 1.56190e+04 1.34170e+04 1.24070e+04 1.03430e+04 9.98900e+03 9.21700e+03\n",
            " 8.92500e+03 8.41700e+03 8.09400e+03 7.69700e+03 7.19400e+03 6.30900e+03\n",
            " 6.15100e+03 6.04900e+03 6.04200e+03 6.03300e+03 5.73800e+03 5.24700e+03\n",
            " 4.73600e+03 4.31000e+03 4.10000e+03 4.01600e+03 3.87400e+03 3.14200e+03\n",
            " 2.94000e+03 2.66200e+03 2.31200e+03 2.29500e+03 2.28900e+03 2.26900e+03\n",
            " 2.20700e+03 2.05600e+03 1.86800e+03 1.81600e+03 1.80000e+03 1.74900e+03\n",
            " 1.66000e+03 1.64900e+03 1.62600e+03 1.59800e+03 1.53800e+03 1.52200e+03\n",
            " 1.50300e+03 1.43100e+03 1.35000e+03 1.31900e+03 1.28600e+03 1.20000e+03\n",
            " 1.08800e+03 1.08300e+03 1.04400e+03 1.03500e+03 1.02000e+03 1.00000e+03\n",
            " 9.95000e+02 9.76000e+02 9.00000e+02 8.67000e+02 8.66000e+02 8.59000e+02\n",
            " 8.21000e+02 8.00000e+02 7.75000e+02 7.60000e+02 7.47000e+02 6.90000e+02\n",
            " 6.80000e+02 6.30000e+02 5.62000e+02 5.45000e+02 5.30000e+02 5.06000e+02\n",
            " 4.86000e+02 4.69000e+02 4.60000e+02 4.44000e+02 4.29000e+02 4.26000e+02\n",
            " 4.22000e+02 4.16000e+02 4.10000e+02 3.92000e+02 3.91000e+02 3.70000e+02\n",
            " 3.57000e+02 3.40000e+02 3.39000e+02 3.38000e+02 3.25000e+02 3.19000e+02\n",
            " 2.88000e+02 2.60000e+02 2.55000e+02 2.45000e+02 2.36000e+02 2.31000e+02\n",
            " 2.06000e+02 2.05000e+02 1.94000e+02 1.84000e+02 1.83000e+02 1.80000e+02\n",
            " 1.68000e+02 1.66000e+02 1.57000e+02 1.55000e+02 1.53000e+02 1.48000e+02\n",
            " 1.36000e+02 1.26000e+02 1.17000e+02 1.02000e+02 9.90000e+01 8.10000e+01\n",
            " 7.60000e+01 7.40000e+01 6.30000e+01 3.90000e+01 1.70000e+01 1.30000e+01\n",
            " 1.20000e+01 4.10203e+05 2.29651e+05 1.53336e+05 9.69490e+04 9.69010e+04\n",
            " 9.02880e+04 6.33110e+04 4.89200e+04 4.61500e+04 3.93870e+04 3.80080e+04\n",
            " 3.64500e+04 2.31360e+04 1.87030e+04 1.51850e+04 1.31390e+04 1.23000e+04\n",
            " 6.97400e+03 4.56400e+03 4.53100e+03 4.50000e+03 4.06400e+03 3.88900e+03\n",
            " 3.71600e+03 3.67400e+03 3.38000e+03 2.99500e+03 2.95600e+03 2.95000e+03\n",
            " 2.88300e+03 2.49000e+03 2.29000e+03 2.22500e+03 2.16200e+03 2.07000e+03\n",
            " 1.90000e+03 1.75600e+03 1.75100e+03 1.67800e+03 1.50000e+03 1.35200e+03\n",
            " 1.31400e+03 1.26500e+03 1.26100e+03 1.12000e+03 1.01400e+03 9.93000e+02\n",
            " 9.72000e+02 9.62000e+02 8.56000e+02 8.25000e+02 8.22000e+02 7.00000e+02\n",
            " 6.68000e+02 6.46000e+02 6.40000e+02 5.73000e+02 5.04000e+02 4.84000e+02\n",
            " 3.75000e+02 3.67000e+02 3.65000e+02 3.47000e+02 3.28000e+02 3.16000e+02\n",
            " 2.93000e+02 2.90000e+02 2.89000e+02 2.65000e+02 2.61000e+02 2.58000e+02\n",
            " 2.50000e+02 2.24000e+02 2.07000e+02 1.91000e+02 1.85000e+02 1.72000e+02\n",
            " 1.60000e+02 1.54000e+02 1.52000e+02 1.27000e+02 1.15000e+02 8.90000e+01\n",
            " 6.60000e+01 1.80600e+03 1.30000e+03 1.01100e+03 6.05000e+02 4.94000e+02\n",
            " 1.07000e+02 7.77580e+04 5.46120e+04 1.42170e+04 1.02960e+04 9.99900e+03\n",
            " 8.83800e+03 8.79900e+03 5.73700e+03 5.56300e+03 5.33200e+03 4.61500e+03\n",
            " 3.43500e+03 3.12600e+03 2.54600e+03 2.53400e+03 2.51200e+03 2.50000e+03\n",
            " 2.43800e+03 2.42200e+03 1.97500e+03 1.92600e+03 1.87200e+03 1.76400e+03\n",
            " 1.50700e+03 1.30100e+03 1.16500e+03 1.12700e+03 9.74000e+02 8.35000e+02\n",
            " 7.57000e+02 7.56000e+02 7.45000e+02 7.03000e+02 6.04000e+02 5.26000e+02\n",
            " 5.25000e+02 5.20000e+02 4.96000e+02 4.48000e+02 4.23000e+02 4.20000e+02\n",
            " 3.81000e+02 2.83000e+02 2.80000e+02 2.79000e+02 2.57000e+02 2.44000e+02\n",
            " 2.20000e+02 2.08000e+02 2.02000e+02 1.93000e+02 1.61000e+02 1.44000e+02\n",
            " 1.31000e+02 1.21000e+02 9.00000e+00 2.00000e+00         nan]\n",
            "AirTankers [nan 25. 27.  4.  2.  5.  0.  3.]\n",
            "ConditionStatement [nan\n",
            " 'Acreage has been reduced based upon more accurate mapping. \\r\\r\\n<p>Continue to mop up in areas very visible to public. Continue demobilization, fire damage inspections, and suppression repair.  <p>\\r\\r\\n                                     \\r\\r\\n \\r\\r\\n\\r\\r\\n\\r\\r\\n\\r\\r\\n'\n",
            " 'Firefighters closed the containment lines today. Large scale demobilization of incident resources continues.\\r\\r\\nCommand of the incident will be turned over to Riverside County effective Tuesday August 8th. Silent Valley RV Club remains\\r\\r\\nclosed. For questions regarding the closure, please the Silent Valley RV Club.'\n",
            " 'Fire suppression repair will continue throughout the weekend. Fireline personnel will continue mopping up the interior of the fire area until fully controlled. All hiking trails within the Ishi Wilderness are temporarily closed, but are scheduled to be reopened to the public this Saturday, August 31, 2013.'\n",
            " 'California Incident Management Team 5 will transition the Clover incident back to the Shasta-Trinity Unit this afternoon.\\r\\r\\n<p>All evacuations and road closures have been lifted. Remaining firefighters continue to mop up and patrol the fire perimeter while fire suppression repair and rehabilitation continues. Demobilization of firefighting resources continues.'\n",
            " 'Firefighters continue to mop up within the fire area and improve the perimeter containment\\r\\r\\nlines for the next few days. However isolated pockets of downed heavy fuels, timber slash piles and dead trees, remain hot and are hampering mop-up operations. The Butte unit assuming control of fire at 0800 5/9/13.\\r\\r\\n\\r\\r\\n<p>Road Closures: Unstable road surfaces due to the rain are impeding resource traffic and are becoming a dangerous situation. Therefore the L Line has been closed to all traffic. Because of this dangerous situation we ask that all remain out of the fire area except for fire personnel. The area between Highway 32 and Highway 36\\r\\r\\nknown as the Deer Creek and Mill Creek recreation Area as well as the Ishi Wilderness are closed to the public. Highway 32 and Highway 36 will remain open but be aware of the heavy fire equipment traffic on those highways throughout the day.\\r\\r\\n<p>Additional Information: Sections of the fire have moved into fire suppression repairstages. More than 80\\r\\r\\nlocal government agencies have assisted with the suppression of this fire. Every Year the first full week of May is proclaimed “Wildfire Awareness Week”. This will serve as the final fact sheet for the incident.'\n",
            " '<p>Little to no fire behavior has been observed, however there are still isolated hot spots in the area requiring extinguishment and continued monitoring. Smoke could be visible for the next several weeks.  Demobilization will continue as needed through the remainder of the week.  </p>\\r\\r\\n\\r\\r\\n<p>Road Closures:  Hungry Valley State Park and Gold Hill Road are scheduled to be reopened on 5/22/2013 during daylight hours.  Frazier Mtn. Road will remain closed until 5/24/2013.</p>'\n",
            " 'Demobilization of equipment will continue.  We ask that the public drive cautiously as there will be a large amount of fire equipment on the surrounding roadways.'\n",
            " 'Crews are containing the mop up in the area.'\n",
            " 'Firefighters will continue mopping up inside the fire containment lines as well as performing suppression repair. Demobilization of resources continuing. Fire resources are still in the communities so residents need to be aware and use caution when driving in the fire area.'\n",
            " 'Firefighters are continuing to strengthen existing containment lines and mop up hot spots within the fire area. Islands of unburned vegetation within the fire perimeter will be burning over the next few days and smoke from such may drift and settle in the valley areas. We ask that the citizens living in the areas affected by the fire be aware of the fire resources still working in the area and to drive safely. Be aware that fire suppression repair crews will be working in the area over the next few days. A Red Flag Warning remains in effect throughout the day for dry lightning storms that have moved into the area.'\n",
            " '<p>Firefighters continue to mop up and patrol for hot spots. Fire suppression rehabilitation to repair damage from fire line construction will be implemented. Road damage is being repaired from heavy firefighting traffic. Please drive slowly and allow large fire equipment to pass.\\r\\r\\n<p>The Natural Resources Conservation Service is available to assist private landowners with rehabilitating property affected by the fire. Fore more information, contact: 209-966-3431, or: www.ca.nrcs.usda.gov.'\n",
            " 'The fire is burning East towards the desert and away from homes.\\r\\r\\n'\n",
            " 'Last night crews continued to patrol the lines. Late night precipitation assisted in\\r\\r\\ncontainment efforts with potential for more today. Today crews continued mopping up 100 plus feet into the perimeter as well continue rehab efforts. Additional thunderstorm activity is occurring nearby. A transition from the current Type 3 management team to a Type 4 team is expected for tomorrow. I5 open.\\r\\r\\n<p>The evacuation center will be located at Gorman School at 49847 Gorman School Rd.'\n",
            " 'Highway 38 is open. <p> Firefighters continue to build containment lines and mop up hot spots.'\n",
            " 'Gusty winds and thick bush are posing a challenge towards containment for firefighters. Full containment is expected on Thursday. '\n",
            " 'Multiple fires along Lone Tree Rd merged into 3 significant fires; 23, 210 and 65 acres respectively.  Good progress was made holding the perimeter while structure defenses and control efforts continue in the interior of the fires.<p>All residents are urged to use caution while driving in the fire area as emergency equipment and crews will remain on scene throughout the night.'\n",
            " 'CAL FIRE will no longer be in unified command as of 6:00 this evening. Cleveland National Forest will be handling the incident from this point on.'\n",
            " 'Firefighters have made good progress. Fire is burning in steep and inaccessible terrain making access for equipment difficult.  '\n",
            " 'Firefighters continue to strengthen and patrol fire line.  Heavy mop up.  Weather 67 degrees, 11% humidity, wind 2mph.'\n",
            " 'The fire was driven by high wind gusts as well as sustaining winds and was contained at approximately 2:30 AM.'\n",
            " 'The fire is 100% contained. Engine crews will be patrolling the fire area for the next few days.\\r\\r\\n<p>\\r\\r\\nPlease use caution when driving in the incident vicinity due to personnel and equipment use in the area. \\r\\r\\n<p>\\r\\r\\nAll roads are open to traffic.'\n",
            " 'Evacuation center at Diamond Springs Hall <br> Animal Services assistance at 530-621-7631'\n",
            " 'Containment lines have been completed around the fire.  Crews will continue to patrol the fire and work within the perimeter to extinguish any remaining hot spots.  Smoke may be visible from the interior of the fire for the next few days.'\n",
            " 'The fire is located above Helltown Rd., west of Centerville Rd. and east of Butte Creek. As predicted the fire will be contained at 6:00 pm this evening. Fire personnel will continue to mop up hot spots in the difficult and dangerous terrain for several days until control of the fire is attained. Because of this we ask those driving in the area to remain vigilant and drive slowly and safely because of the heavy fire resource traffic on the narrow roads. If an emergency develops around a residence within the fire area call 911 and fire resources will be directed to that incident. http://www.readyforwildfire.org/'\n",
            " 'Full containment at 6:00 PM on May 15, 2013.'\n",
            " 'The decrease of acreage of yesterday’s estimate of 75 acres is due to more accurate mapping, using global positioning system (GPS) equipment.  As a precaution firefighters will continue to patrol the burned area for the next couple of days.'\n",
            " 'Current Situation: Brush and oak woodland vegetation. Access has been an issue. Steep, rocky terrain makes fire suppression work extremely difficult especially during the nighttime hours.\\r\\r\\n\\r\\r\\n<p>Additional Information: Please exercise great caution while driving through the towns of Angels Camp and Vallecito, and in the areas of Parrott’s Ferry Road and Camp Nine Road. Please watch for fire vehicles and personnel. Smoke may reduce visibility, especially at night. Until smoke dissipates air quality may continue to be an issue for sensitive groups. Keep windows closed and limit strenuous outdoor activities until air quality improves.'\n",
            " 'Go to Administrative Unit Link for full description.'\n",
            " 'Current Situation: 28 remote wildland fires, ranging from a single tree to 4 acres are now 100% contained.\\r\\r\\n\\r\\r\\n<p>The wildland fires were reported early in the morning of June 10 through last report of June 12, in the late afternoon.  \\r\\r\\n\\r\\r\\n<p>Wildfire location by county:<br>\\r\\r\\nSonoma County - 20 fires <br>\\r\\r\\nAreas:  Healdsburg - Chalk Hill Road, East of Santa Rosa - Mountain Home Ranch Road, Geyserville/Knights Valley, Sea Ranch, Cazadero - Mohrhardt Ridge Road, Bohemian Grove – Stoetz Lane, Occidental and Mount Jackson. \\r\\r\\n<p>\\r\\r\\nSolano County – 4 fires <br>\\r\\r\\nAreas: North of Vacaville - Cantelow Road, Northeast of Vacaville - Pleasant Valley Road, Northwest of Vacaville - Quail Canyon Road and Pleasant Valley. \\r\\r\\n<p>Lake County – 3 fires <br>\\r\\r\\nAreas: North of Upper Lake - Elk Mountain Road, Northeast of Upper Lake - Clover Valley Road. \\r\\r\\n\\r\\r\\n<p>Colusa County – 1 fire <br>\\r\\r\\nArea: West of Williams - Leesville-Ladoga Road.\\r\\r\\n\\r\\r\\n'\n",
            " 'Fire engines and crews continue to mop up and patrol the fire perimeter. Watch for slow moving firefighting equipment on the roadway in and around the fire area. Fire \\r\\r\\nSuppression Repair Teams are actively engaged working around the fire perimeter and affected areas. Demobilization of \\r\\r\\nresources continues, allowing them to be available for other incidents. <p>“Wildfire is coming, are you ready?” Take action immediately when wildfire strikes, visit www.readyforwildfire.org and GO, when asked to evacuate. \\r\\r\\n'\n",
            " 'Command of the Day Fire has transitioned to the Lassen-Modoc-Plumas Unit of CAL FIRE. Firefighters made great progress in constructing firelines and mopping up hot \\r\\r\\nspots. Warmer temperatures are forecasted and firefighters working to fully contain the fire remain vigilant.\\r\\r\\n<p>Continue to watch for slow-moving firefighting equipment on the roadway in and around the fire area. \\r\\r\\n<p>For information on other fires contact: Bald Fire: (530) 336-6553, Eiler Fire: (530) 225-2510 \\r\\r\\n<br>General information on surrounding fires: (530) 252-6450 '\n",
            " 'Areas outside the control lines will be closely monitored for any new spot fires and the crew will continue mopping up and looking for hot spots within containment lines, as well.<p>Interior portions of the fire will continue to burn and may produce smoke for an extended period of time in the Laytonville & South Leggett area.\\r\\r\\n'\n",
            " 'Full containment expected later today.\\r\\r\\n<p>\\r\\r\\nWith summer weather and extreme drought conditions, we are asking everyone to continue to use caution, “one less spark - one less wildfire”. For more information on how to prepare for wildfires, go to www.readyforwildfire.org.\\r\\r\\nCooperating'\n",
            " 'With the current weather conditions and elevated fire danger, we are asking everyone to use extreme caution, “one less\\r\\r\\nspark- one less wildfire”. For more information on how to prepare for wildfires, go to <a href=\"http://www.readyforwildfire.org\">www.ReadyForWildfire.org</a>'\n",
            " 'Patrol and mop-up of the fire will continue for several days.  Excess resources are being released and/or reassigned to other incidents.'\n",
            " 'A gradual trend towards cooler temperatures will continue through Tuesday. Mop-up and demobilization of resources continues.'\n",
            " 'Cocos fire activity has\\tbeen limited to smoldering within the fire perimeter.\\t\\r\\r\\nFirefighters continue to construct new\\tcontainment lines and improve existing containment lines on the Cocos fire'\n",
            " 'Firefighters continue to strengthen and improve containment lines as well as mop up and patrol. Fire suppression repair proceeds. Exercise caution while driving in the fire affected area due to presence of fire equipment.  '\n",
            " 'Fire suppression repair to continue until 8/25\\r\\r\\n\\r\\r\\n<p>\\r\\r\\nThe number of damaged and destroyed structures has been updated and increased due to ground based validation by a \\r\\r\\ndamage inspection team. The majority of the increase results from minor structures, such as outbuildings, motorhomes, \\r\\r\\nand storage containers. \\r\\r\\n</P>\\r\\r\\n\\r\\r\\n<p>With summer weather and extreme drought conditions, we are asking everyone to continue to use caution, “one less spark - one less wildfire”.  For more information on how to prepare for wildfires, go to www.readyforwildfire.org.\\r\\r\\n'\n",
            " 'Firefighters continue to work on mop up and patrol. Many resources have been demobilized today.<p>Please exercise caution when driving in the fire area and be aware of emergency personnel and equipment.'\n",
            " '<p>Firefighters will continue to mop up and perform overhaul work within the fire perimeter. Damage Assessment Teams have concluded their inspections and are working with the City and County to produce a final damage inspection report. Excess resources are being released and made available for other incidents as necessary. Utility crews are continuing to assess and repair damaged equipment and infrastructure.\\r\\r\\n</p>\\r\\r\\n\\r\\r\\n<p>If you feel you have information regarding the Boles Fire, please contact 1-800-468-4408. A reward will be offered up to $10,000 leading to the cause of the fire.</p>'\n",
            " '<p>Firefighters continue mop-up of the fire interior and patrol the fire perimeter. Fire \\r\\r\\nsuppression repair work is continuing. Demobilization of fire resources continues, allowing them to return \\r\\r\\nto their respective jurisdictions. The fire will be turned over to the Nevada, Yuba, Placer unit at 7:00 A.M. \\r\\r\\nTuesday October 14th 2014.</p>\\r\\r\\n'\n",
            " 'The fire is 100% contained. Firefighters continue patrol operations. Continuing demobilization of resources.'\n",
            " 'Firefighters worked through the day to complete containment lines around the perimeter of the fire.  While the fire is considered 100% contained, active fire will continue to burn within the control lines.  Fire crews and equipment will remain on scene to mop up and patrol the fire for several days.'\n",
            " 'Firefighters continue to mop up interior hot spots. They will assist and oversee the community during repopulation.'\n",
            " 'Mop up continues.'\n",
            " 'Firefighters continue construction of the containment line around fire perimeter, as well as mopping up in heavy fuels.  The fire is within the SRA (State Responsibility Area) with cooperative agencies assisting in the fire suppression efforts.'\n",
            " 'The fire is 100% contained.  Firefighters continue mop-up and patrol operations.  \\r\\r\\n\\r\\r\\n<p>With the current weather conditions and elevated fire danger, CAL FIRE is asking everyone to use extreme caution, “one less spark – one less wildfire”.  For more information on how to prepare for wildfires, go to www.readyforwildfire.org. \\r\\r\\n'\n",
            " 'The 24 separate lighting-sparked fires burning in Siskiyou County that totaled 30 acres are now contained.\\r\\r\\n'\n",
            " 'There are still isolated pockets of smoldering fuel deep within the interior of the burn with minimal fire activity near the perimeter. Resources will continue to construct line, mop up hot spots and patrol the line for several days. “RESIDENTS ARE URGED TO STAY VIGILANT AND ADHERE TO ANY CHANGES IN EVACUATIONS AND ROAD CLOSURES”. Fire activity and direction can change at any time, be prepared and stay informed.  With the elevated fire danger, we are asking everyone to use extreme caution, “Ready, Set, Go”. For more information on how to prepare for wildfires, go to <a href=\"http://www.readyforwildfire.org\">www.ReadyForWildfire.org</a>'\n",
            " '<p>The Jerusalem Fire, north of Middletown, in Lake County is 100% as of 8/24/15 at 6:00 PM.  An engine crew will be patrolling the fire area and monitoring conditions for the next few days.  All other fire personnel have been released or reassigned to other incidents.\\r\\r\\n\\r\\r\\nFire season will continue in all areas of California until a significant amount of rain (consistent wet \\r\\r\\nweather pattern) reaches the drought stricken State.  CAL FIRE asks all residents to review the READY, SET, GO Program with their families and be ready to implement the Program, if an emergency incident occurs in your neighborhood.  Plan, Prepare and Practice!  \\r\\r\\n\\r\\r\\n</p>\\r\\r\\n\\r\\r\\n<p>“RESIDENTS ARE URGED TO STAY VIGILANT AND ADHERE TO ANY CHANGES IN EVACUATIONS AND ROAD CLOSURES”. Fire activity and direction can change at any time, be prepared and stay informed.  With the elevated fire danger, we are asking everyone to use extreme caution, “Ready, Set, Go”. For more information on how to prepare for wildfires, go to www.readyforwildfire.org.</p>'\n",
            " 'Smoking debris may be seen on the western edge of the fire, but does not pose a threat to residents.<p>Fire crews will remain on patrol and working in the communities to remove hazard trees.<p>Repopulation for Paradise and Swall Meadows residents began Monday at 4 p.m.<p>Residents will need to use extreme caution in and around damaged and destroyed homes. Structural instability, hot ash pockets and fire weakened chimneys pose a risk for injury. Hazardous chemicals may remain in the ash and soil.<p>Red Cross will be available at the Crowley Lake Community Center and the Salvation Army will continue to be at the Tri County Fairgrounds.\\r\\r\\n<p>For additional information visit  \\r\\r\\n<a href=\"https://gis.mono.ca.gov/roundfire/\">County of Mono</a>.\\r\\r\\n<p>\\r\\r\\n<a href=\"https://www.google.com/maps/d/embed?mid=zp8nK_5H0MFQ.kzTmU5XK-qJQ\">Link to Round Fire Perimeter Map</a>\\r\\r\\n</p>'\n",
            " '<p>The Humboldt Complex currently consists of 3 fires ranging in size from 203 to 1,774 acres.  The overall acreage burned on the Humboldt Complex is a total of 4,883 acres. Currently, no additional fire growth is anticipated. Fire suppression repair has begun on the Pine Fire and is ongoing on the Steelhead, Wildcat, Dobbyn, Bluford, Blocksburg and Winchester fires.\\r\\r\\n<p>Fires are burning in steep, rugged terrain with poor access and heavy timber fuels. Fires threaten Mount Lassic Wilderness, as well as commercial timberland. Much of the timberland is owned by small timberland and rangeland owners who rely on timber and range revenue for a steady source of income. Fires threaten habitat for threatened and endangered species.\\r\\r\\n<p>There are several fires burning near the Humboldt Complex in United States Forest Service jurisdiction, including in the Shasta/Trinity National Forest. CAL FIRE is coordinating with the USFS to implement control lines on some of these fires, and additional heavy equipment is in the area. For information on the USFS fires contact: 530-628-0039.'\n",
            " 'Unit is now in control of incident.'\n",
            " '<p>A Forest Closure Order was ordered for the Santa Lucia Wilderness Area in the Los Padres National Forest. For more information please visit http://www.Inciweb.nwcg.gov </p>'\n",
            " 'Firefighter are engaged in mop up operations. Fire suppression repair is also continuing.'\n",
            " 'Fire spread has been stopped. Heavy mop-up and patrol efforts have started and will continue for the next few days. PG&E continues to repair burned poles and lines.'\n",
            " 'Firefighters are continuing to mop up and patrol the fire area, making sure hot spots are mitigated and control lines are strengthened. Fire Suppression repair actions did start today.\\r\\r\\nElectricity continues to be restored to areas within the fire area.\\r\\r\\n<p>A joint investigation between CAL FIRE and the Monterey County Sheriff’s office has determined that the fire was caused as a result of an individual committing suicide.\\r\\r\\n<p>The Laureles Fire is 95 acres and 100% contained.\\r\\r\\n\\r\\r\\n\\r\\r\\n'\n",
            " 'Firefighters focused their efforts today on imnproving containment lines and suppressing hot spots. Crews will continue to patrol the fire throughout the night and extinguish hot spots that persist within the fire perimeter. As progress continues to improve, resources will be released to their home units or other active incidents throughout the state. <p>All evacuation orders and warnings for the incident have been lifted. Ponderosa Way is open to local traffic only from Lower Forbestown Rd to the Ponderosa Reservoir/S Fork Feather River.'\n",
            " 'Fire burning between Road 222 and Box Canyon Road which is 1.5 miles north of Kerckhoff Lake.'\n",
            " 'Firefighters continue mopping up the Elk Fire north of Upper Lake in Lake County. The fire is now 90% contained. Command of the fire will transition to the Mendocino National Forest on Tuesday morning (9/8) and crews will continue to mop-up and patrol for hot spots over the next 3-5 days.\\r\\r\\n<p>CAL FIRE and the USFS continue to urge the public to be extremely cautious while working or recreating near dry fuels for the remainder of the fire season.  Using equipment, parking in dry grass, mowing, dragging tow chains, and cooking are all avoidable causes of fire.  You can learn more by visiting: <a href=\"http://www.preventwildfireca.org\">www.preventwildfireca.org</a>\\r\\r\\n'\n",
            " 'On July 21st 2015, at 12:22pm the CAL FIRE Tulare Unit received 911 calls of a possible vegetation fire in the Springville area of Tulare County. \\r\\r\\n<br>\\r\\r\\nCAL FIRE would like to remind all residents and visitors to the area that we remain in a drought situation and remember ONE LESS SPARK ONE LESS WILDFIRE.\\r\\r\\n'\n",
            " 'Fire crews will remain the area for several days.\\r\\r\\n\\r\\r\\n<p>Updated acreage due to better mapping.'\n",
            " 'Though the fire will be 100% contained at 6pm today, daily CALFIRE engine patrols will continue to check for any residual smokes.  Thank you to Lake County Sheriff’s office, North Shore, Lakeport, Kelseyville, South lake, and Lake County fire districts.  Also Lake County public works department, the Lakeport Rod and Gun Club and Lampson Field for their cooperation during this and all the recent fires in Lake County.\\r\\r\\n\\r\\r\\n<p>CAL FIRE would also like to thank the citizens affected by the fires and their willingness to evacuate early for their safety and helping to allow our firefighters to focus on structure defense and fire perimeter control.</p>\\r\\r\\n'\n",
            " 'Firefighters continued overnight to aggressively fight the fire. Fire crews made great progress last night but are concerned about the weather forecasted for today. Weather continues to be hot and dry with very low moisture recovery at night. Firefighters will the day to gain containment and re- evaluate road closures and evacuations. Damage assessment is ongoing. Please be cautious of fire equipment and personnel when driving in the area.'\n",
            " 'Crews are continuing mop-up and fire suppression repair operations. Demobilization has begun, releasing unneeded fire equipment and personnel. Motorists driving in the area of the fire on Highway 120, especially after dark, are asked to exercise great caution to avoid fire equipment and crews. '\n",
            " 'Threat to Commercial Timberlands, Critical watershed habitat in the Klamath River drainage has decreased. '\n",
            " '<br>June 18, 2015 CAL FIRE was conducting a critical training class for fire fighters in the use of low water fire suppression operations at the U.C. Berkeley Field Station, Yuba County. This training included the use of live fire for crews to train on fire fighting tactics. The original prescribed burn area was set at 212 acres in size. The fire is currently holding at approximately 180 acres within the burn area.\\r\\r\\n<br>\\r\\r\\n<br>CAL FIRE personnel aggressively engaged the spot fires within the burn area using engines, dozers, hand crews and aircraft. The fire is currently holding at approximately 180 acres. Drought conditions will continue to influence fire behavior throughout the summer causing rapid aggressive fire activity. CAL FIRE reminds everyone to do their part and maintain a defensible space.'\n",
            " '<p>One less spark means one less wildfire. Do your part…don’t let fires start! For additional information on how to prepare your family and harden your home against wildfires, visit www.readyforwildfire.org. For more fire information about statewide fire activity, visit www.fire.ca.gov. </p>'\n",
            " 'Crews have made good progress, completing control lines and mopping up the perimeter. '\n",
            " 'Firefighters are battling a wind driven grass fire off Apple Rd in Wilton, CA. Currently no structures are threatened. Forward progress has been stopped.'\n",
            " 'Full containment has been reached and firefighters will patrol the area for the next few days. Limited resources will remain committed working on fire suppression repair and backhauling of hose utilized for fire suppression.\\r\\r\\n'\n",
            " 'Please watch for firefighting personnel and equipment on the road. For firefighter safety and your own, use extreme caution when driving in the area, and consider staying completely away unless you are a resident.\\r\\r\\n<p>Firefighters are continuing to mopup and patrol the area.'\n",
            " 'The fire experienced minimal fire behavior overnight but firefighters will continue to remain on scene as they continue to mop up and begin suppression repair efforts within the fire area.  '\n",
            " 'Firefighters made good overnight progress in their efforts to contain the fire. Fire crews will continue to work aggressively until full containment is achieved. '\n",
            " 'Firefighters continued overnight to aggressively fight the fire. Fire crews made great progress last night but are concerned about the weather forecasted for today. Weather continues to be hot and dry with very low moisture recovery at night. Firefighters will work throughout the day mopping up and making sure all hot spots are extinguished.'\n",
            " 'Fire crews battled a wildland fire that threatened several structures in the area. Aircraft and ground crews held the fire at 51 acres and limited damage to one travel trailer. Crews will remain at scene throughout the night.'\n",
            " 'Firefighters responded to a vegetation fire in the West Valley area and were quickly able to stop the forward spread of the fire. Fire crews have made excellent progress containing the fire and will continue until full containment is reached. '\n",
            " 'CAL FIRE, Napa County Fire Department, and St Helena City Fire Department responded to a fast-moving wildland fire east of Chiles Pope Valley Road. The fire burned in steep terrain, pushed by gusty winds. Air and ground firefighting forces kept the fire from reaching a residence above it. CAL FIRE Battalion Chief Jason Martin, the Incident Commander, said “the well-maintained driveway, clear signage, defensible space, and water supply on site definitely aided our firefighting effort.” <br>\\r\\r\\nFind out more about wildfire readiness at <a href=\"http://www.readyforwildfire.org/\">http://www.ReadyForWildfire.org</a>\\r\\r\\n'\n",
            " 'CAL FIRE and Napa County Fire Department responded to a vegetation fire that started near the intersection at Howell Mountain Road and Pope Valley Road. Air tanker and helicopter drops, in concert with ground forces, kept the fire away from structures that were initially threatened. Suppressing the fire was a challenge due to gusty winds and steep terrain. Forward progress of the fire was stopped when fire line around its perimeter was complete at 4:06PM. Engine companies and fire crews will be working mop-up and patrol throughout the night. Approximately 220 residents in the Pope Valley and Berryessa Estates communities will be without electrical power until about midnight, until PG&E completes power line repairs.'\n",
            " 'Concerns for today are areas of unburned grass and brush within the fire perimeter. Conditions caused by 4 years of drought in the area contributed to eratic fire conditions with trees torching and spot fires starting ahead of the main fire around homes. Firefighters continue to work through the day to improve containment in expected 100+ degree temperatures. '\n",
            " 'The fire is burning in heavy fuels (vegetation) which is requiring extended mop-up. Location of the fire is remote with extended travel times for suppression resources. Fire is expected to be 100% contained around 6:00 pm on 6/11/15.'\n",
            " 'Although full containment has been achieved, crews will continue to patrol the fire area for the next few days.'\n",
            " 'As of August 26, CAL FIRE is no longer in unified command of the fire as the majority of the activity is now burning on Los Padres National Forest land.  Visit <a href=\"http://inciweb.nwcg.gov/incident/4888/\" target=\"_blank\"> Inciweb</a> for more information on this incidents. \\r\\r\\n\\r\\r\\n<p><a href=\"http://www.fire.ca.gov/communications/downloads/Watershed_reports/20160930_SoberanesWERT_Final.pdf\" target=\"_blank\">See the State\\'s Post Fire Watershed Emergency Response Report.</a>'\n",
            " 'The Chimney fire is now fully contained. There may be lingering smoke that is not a threat to escape control lines. Should you see a large dark column of smoke, you should report it by calling 911. Crews will be in the fire area for several days continuing suppression repair work.\\r\\r\\nNow is the time to prepare your home for a wildfire.'\n",
            " 'Minimal fire behavior was observed overnight.  Crews continue to extinguish hot spots inside of the fire perimeter.\\r\\r\\nFire suppression repair efforts, which include erosion control, are in progress and the San Bernardino National Forest has requested a BAER (Burned Area Emergency Response) team.\\r\\r\\nUtility companies will continue to work in the fire area to replace damaged and destroyed infrastructure.  Assessment and repair of rail corridor should be complete within 24 hours.  Rail lines have resumed active operations.\\r\\r\\nThe Damage Assessment Team has confirmed that the fire destroyed 105 single family homes and 213 other minor structures.\\r\\r\\nFor information on damaged or destroyed homes, please contact the Local Assistance Center at 760-539-3093 between the hours of 8:00 a.m. and 5:00 p.m.'\n",
            " 'The Pilot Fire is located between Pilot Rock Ridge and State Highway 173 in Hesperia. So. Calif. Incident Management Team 3 has transitioned the fire to a smaller incident management team from The San Bernardino National Forest. Firefighters will be on the fire for the next several days patrolling for any last remaining hot spots A Burned Area Emergency Response (BAER) Team is to assess watershed damage.\\r\\r\\n\\r\\r\\n<p>Temperatures will be in the 90-degree range today across the Pilot Fire. Humidity values will be near 15% in the afternoon. Winds are expected to remain in the 10-15 mph range today with a few higher gusts to 25 mph this afternoon and evening.\\r\\r\\n\\r\\r\\n<p>The Pacific Crest Trail is CLOSED from the Deep Creek Hot Springs (3W02) to Silverwood State Park, and the Pinnacles Trail 3W16 is closed off of Highway 173.'\n",
            " 'Firefighters continue to strengthen containment lines and mop up on the fire.\\r\\r\\nSDG&E and AT&T continue to make repairs on many of the downed power lines and the\\r\\r\\nreplacement of poles. Suppression repair has been implemented and is ongoing.\\r\\r\\nResidents are asked to listen and follow the direction of the all emergency personnel.'\n",
            " 'Mineral Fire is 100% contained. For more information on preparing for wildfire visit: ReadyForWildfire.org'\n",
            " 'Firefighters continue to patrol the fire perimeter.'\n",
            " 'The Eldorado National Forest will assume management of the fire at 6am on July 8, 2016. Crews will remain in place and working for the duration of the fire, and updates will continue until the fire is 100% contained, and then be generated as needed. The fire information line number will remain the same.\\r\\r\\n<p>\\r\\r\\nAll evacuations on the Trailhead fire were lifted as of 5pm on July 6, 2016. Fire traffic is still heavy as firefighters work to fully contain the fire. Please drive slowly and use caution on roadways.\\r\\r\\n<p>\\r\\r\\nAs of 8am, July 7, 2016 access to the Middle Fork of the American River from Oxbow Reservior put in to Ruck-A-Chucky take out is OPEN.\\r\\r\\n<p>\\r\\r\\nThe fire remained quiet overnight, with the last piece of open line (on the southwest corner) burning down to the river yesterday. Mop up and suppression repair continued around the rest of the fire. Suppression repair includes putting in erosion mitigation measures, like waterbars, which divert the flow of water off the fireline, and chipping, which aids in the revegetation of recently burned areas.\\r\\r\\n<p>\\r\\r\\nUnburned islands of vegetation inside the perimeter will continue to burn in the coming days, and residents and visitors in the area should expect to see smoke.'\n",
            " '<P>Fire crews remain throughout the fire perimeter to provide fire suppression repair, remove firefighting equipment, mop up and patrol. Please drive slowly and use caution as emergency crews and equipment are still working in the area.\\r\\r\\n</p>\\r\\r\\n\\r\\r\\n<a href=\"http://www.fire.ca.gov/communications/downloads/Watershed_reports/20161026_LomaWERT_FINAL.pdf\" target=\"_blank\">See the State\\'s Post Fire Watershed Emergency Response Report. (October 2016)</a>\\r\\r\\n\\r\\r\\n<p>\\r\\r\\n\\r\\r\\n<a href=\"http://www.fire.ca.gov/communications/downloads/Watershed_reports/LomaFireWERT_PostStorm_Report_SantaClaraOES_2017-Coastal_29698_20170206sec.pdf\" target=\"_blank\">Loma Fire WERT Report - Storm Damage Response (February 2017)</a>'\n",
            " 'The cause of the Clayton Fire was determined to be arson. <a href=\"http://www.fire.ca.gov/communications/downloads/newsreleases/2016/2016_Clayton.pdf\"_blank\">Click here for more details.</a>\\r\\r\\n<p>\\r\\r\\n<a href=\"http://cdfdata.fire.ca.gov/pub/cdf/images/incidentfile1390_2195.pdf\">Lower Lake Residents Returning Home - Safety Message ... click here for more</a>\\r\\r\\n\\r\\r\\n<p>\\r\\r\\nControl lines continue to be strengthened and improved. Firefighters are concentrating on fire suppression repair and are assisting returning homeowners. Damage Inspection Teams continue to survey the fire area to determine how many structures have been damaged or destroyed.  Current data indicates that the fire has destroyed 299 structures; including 189 single-family homes, 8 commercial structures, and 102 other structures such as sheds and smaller outbuildings. As surveys are completed and additional data is confirmed, the number of structures damaged or destroyed may change.  \\r\\r\\n<p>\\r\\r\\nCAL FIRE Incident Management Team 3 will transition command of the Clayton Fire to the CAL \\r\\r\\nFIRE/Sonoma Lake Napa Unit on August 21, 2016. Beginning on August 20, 2016 ay 6:00 PM, the St. Helena Call Center will become the primary source for further fire information. They can be reached at (707) 967-4207.  \\r\\r\\n\\r\\r\\n<p>\\r\\r\\nFor more information visit www.fire.ca.gov  and www.readyforwildfire.org      '\n",
            " 'A passing weather system will maintain a cool and unstable air-mass over the region. Below average temperatures will assist in containment efforts. Isolated showers and thunderstorms are possible in the afternoon and evening.'\n",
            " 'Firefighters will continue throughout the day to construct containment lines around the perimeter of the fire as well as strengthening the existing containment lines. Mop up and patrol has started within the fire area as well. Fire suppression repair will begin today to repair those areas affected by the fire suppression activities.\\r\\r\\n<p>Highway 198 is now open. Fire equipment will be working along Highway 198 for the next few days so we ask that you drive slowly and safely within this area.\\r\\r\\n<p>There are more than 10 major wildfires currently burning in California. With the holiday weekend upon us we ask that you be aware of your surroundings for “One Less Spark” will prevent “One Less Wildfire”. For more information on how you can be prepared for wildland fires go to www.readyforwildfire.org or load the free “CAL FIRE” app onto your cell phone for both Android and IPhone users.'\n",
            " 'The Willard Fire is now 100% contained. Crews will continue to monitor the fire over the next few weeks. CAL FIRE wishes to thank the local, state and federal agencies that assisted with fire suppression, traffic control, and evacuations and to also thank the community for their support during this incident.\\r\\r\\n\\r\\r\\n<p>For information on how to prepare for wildfires, go to: <a href=\"http://www.readyforwildfire.org\" target=\"_blank\">www.readyforwildfire.org</a>'\n",
            " 'Please be aware of emergency personnel and equipment in the area and drive safely. Crews continue to extinguish hot spots and improve containment lines. Resources are being released and reassigned to new incidents in the state. \\r\\r\\n<p>For information on preparing for a fire, go to www.readyforwildfire.org'\n",
            " 'Residents need to be prepared for this fire season. The prolonged drought has cause epidemic levels of Bark Beetles that have increased tree mortality to over 66 million dead trees.\\r\\r\\n<p>For more information visit the following websites; www.readykern.com to register and receive fire updates and evacuation orders and www.readyforwildfire.org\\r\\r\\nSAFETY MESSAGE - The public is reminded to stay vigilant on current fire conditions. Please drive slowly as emergency personnel are in the area.'\n",
            " 'This fire is 100% contained.   '\n",
            " 'Containment is increasing as crews continue building and reinforcing many miles of fire line across difficult terrain and through dense brush. Much of the fire area has not burned in over thirty years, resulting in a major buildup of dead vegetation. Firefighters must also continuously watch for rattlesnakes and yellow jackets which survived the flames in underground burrows, and are now out and moving through the burn. \\r\\r\\n<p>\\r\\r\\nPotential threat to 230 KV power lines from Moccasin Powerhouse still exists. '\n",
            " 'Fire crews will continue to work in the area for several days.\\r\\r\\n<p>Residents are urged to use caution when traveling in the fire areas. Emergency equipment and personnel will be working throughout the day and night.\\r\\r\\n<p>The Lime Saddle Marina & Campground and the Lake Oroville Boat Ramp at Lime Saddle are\\r\\r\\nnow open to the public.'\n",
            " '<b>Safety Message</b>\\r\\r\\n<br>If there are electrical wires on the ground, stay clear and contact PP&L immediately. Trees and poles with deep charring, particularly if still smoking, should be considered hazardous.\\r\\r\\n<p><b>PLEASE DRIVE SLOWLY AS EMERGENCY PERSONNEL ARE IN THE AREA</B>'\n",
            " 'Forward progress has been stopped and all structure threat has been mitigated.  Priorities are to improve containment lines, mop up and patrol. '\n",
            " '<b>Cause of Willow Fire</b>\\r\\r\\n<p><a href=\"http://cdfdata.fire.ca.gov/pub/cdf/images/incidentfile1411_2257.pdf\"_blank\">Vehicle</a>'\n",
            " 'Firefighters are making good progress on both flanks of the fire. There are no structures threatened. '\n",
            " 'The Reservoir fire is burning on the northwest side of Indian Valley Reservoir in Lake County.  CAL FIRE currently has multiple fire suppression resources at scene from Sonoma-Lake-Napa Unit as well as from other CAL FIRE Units across the Northern Region.  The fire that is burning in oak grass woodland and heavy brush is 60 % contained.  Fire Crews continue to work steadily through the day establishing containment lines around the south part of the fire. '\n",
            " 'The Emerald Fire is 100% contained. Debris continues to impact the roadway due to the high winds and torrential rains. Fire suppression repair is ongoing. \\r\\r\\n\\r\\r\\n<p>Fire crews, law enforcement, Caltrans and Liberty Utilities continue to work in the area. Residents and visitors are advised to take extra caution while driving in these areas.  \\r\\r\\n\\r\\r\\n<p>Liberty Utilities is working to restore damaged infrastructure in the fire area in order to reestablish power to Spring Creek Tract.\\r\\r\\n<p>\\r\\r\\nAgency cooperators would like to thank the community for their continued patience and support throughout this emergency.\\r\\r\\n'\n",
            " ' '\n",
            " 'CAL FIRE and Lake County firefighters are on scene of a vegetation fire in the area of Foothill Drive at Country Club Drive in the community of Lucerne. The fire is burning in grass and brush.'\n",
            " 'Firefighters continued improving fire lines and mopping up the Creek Fire which was mapped in more detail at 65 acres in the western hills of Napa Valley today. Although the spread of the fire has stopped firefighters are calling it 80% contained while hot spots are being extinguished near the line.  The fire is projected to be 100% contained by tomorrow night (10/12).\\r\\r\\n<p>Motorists in the area need to use caution to allow for firefighter safety.\\r\\r\\n'\n",
            " 'Fire is now 100% contained. '\n",
            " 'Multiple Spot fires on the North side of Hwy 70 between Clark Rd and Wheelock Rd. Total of 5 fires that have burned together into 3 fires. '\n",
            " 'Firefighters are making great progress on the Rock Fire in Ramona near Highway 67 and Rockhouse Road. Please slow down for firefighters still working in the area. \\r\\r\\n \\r\\r\\n\\r\\r\\n'\n",
            " 'Fire was burning in a grassy oak woodland. No structures were damaged. Forward Progress of the fire has been stopped'\n",
            " 'Moderate rate of spread, firefighters are making good progress.'\n",
            " 'As of December 27, 2017 CAL FIRE is no longer in unified command of the fire. Visit <a href=\" https://inciweb.nwcg.gov/incident/5670/\" target=\"_blank\">inciweb</a> for more information on this incident.\\r\\r\\n\\r\\r\\n<p><a href=\"http://cdfdata.fire.ca.gov/admin8327985/cdf/images/incidentfile1922_3383.pdf\" target=\"_blank\">Thomas Fire - Watershed Emergency Response Team (WERT) Report</a>\\r\\r\\n\\r\\r\\n<p><a href=\"http://cdfdata.fire.ca.gov/pub/cdf/images/incidentfile1922_3384.pdf\" target=\"_blank\">Thomas Fire CORE Report - Ventura County</a>\\r\\r\\n\\r\\r\\n<p><a href=\"http://cdfdata.fire.ca.gov/pub/cdf/images/incidentfile1922_3385.pdf\" target=\"_blank\">Thomas Fire CORE Report - Santa Barbara County</a>'\n",
            " 'State\\'s Post Fire <a href=\"http://www.fire.ca.gov/communications/downloads/Watershed_reports/20170818_Detwiler_WERT_Draft (b).pdf\" target=\"_blank\">Watershed Emergency Response Report</a>\\r\\r\\n\\r\\r\\n<p>“One Less Spark-One Less Wildfire” For more information, visit www.readyforwildfire.org'\n",
            " '<p><a href=\"http://www.fire.ca.gov/communications/downloads/Watershed_reports/20171115_NunsWERT.pdf\" target=\"_blank\">State\\'s Post Fire Watershed Emergency Response Report</a> \\r\\r\\n\\r\\r\\n<p>See the latest <a href=\"http://cdfdata.fire.ca.gov/admin8327985/cdf/images/incidentfile1868_3120.pdf\" target=\"_blank\">Incident Update</a> for more information on this fire.\\r\\r\\n<p> <a href=\"http://sonomamap.maps.arcgis.com/apps/webappviewer/index.html?id=f41e7c1816254598a8d1099b1ec36f8d \"target=\"_blank\">Central LNU Complex Evacuation Map</a> \\r\\r\\n\\r\\r\\n<p> Resources:\\r\\r\\n<p> <li> <a href=\" http://www.sonomacounty.com/fire\" target=\"_blank\">Sonoma County Fire Information</a> \\r\\r\\n<li> <a href=\" http://sonomacounty.ca.gov/Home/\" target=\"_blank\">Sonoma County Website</a> \\r\\r\\n<li> <a href=\"http://calfire-forestry.maps.arcgis.com/apps/PublicInformation/index.html?appid=5bbcbed430ad45e5a38e6be155ef5fec\" target=\"_blank\">CAL FIRE Structure Status Map</a> Please note that damage assessment is still on-going. If a structure point does not appear on the map it may still have been impacted by the fires.\\r\\r\\n\\r\\r\\n'\n",
            " '<p><a href=\"http://www.fire.ca.gov/communications/downloads/Watershed_reports/20171115_AtlasFireWERT.pdf\" target=\"_blank\">State\\'s Post Fire Watershed Emergency Response Report</a> \\r\\r\\n<p>Crews continue to mop-up and do tactical patrol throughout the fire area with unit resources assigned.'\n",
            " 'Firefighters continue to improve containment lines and patrol the fire perimeter to check for hot spots. Smoke will likely remain visible as interior pockets of vegetation continue to burn for several more days.'\n",
            " '<p><a href=\"http://www.fire.ca.gov/communications/downloads/Watershed_reports/20171115_TubbsWERT.pdf\" target=\"_blank\">State\\'s Post Fire Watershed Emergency Response Report</a> <p>See the latest <a href=\"http://cdfdata.fire.ca.gov/admin8327985/cdf/images/incidentfile1868_3120.pdf\" target=\"_blank\">Incident Update</a> for more information on this fire.\\r\\r\\n\\r\\r\\n<p> <a href=\"http://sonomamap.maps.arcgis.com/apps/webappviewer/index.html?id=f41e7c1816254598a8d1099b1ec36f8d \"target=\"_blank\">Central LNU Complex Evacuation Map</a> \\r\\r\\n\\r\\r\\n<p> Resources:\\r\\r\\n<p> <li> <a href=\" http://www.sonomacounty.com/fire\" target=\"_blank\">Sonoma County Fire Information</a> \\r\\r\\n<li> <a href=\" http://sonomacounty.ca.gov/Home/\" target=\"_blank\">Sonoma County Website</a> \\r\\r\\n<li> <a href=\"http://calfire-forestry.maps.arcgis.com/apps/PublicInformation/index.html?appid=5bbcbed430ad45e5a38e6be155ef5fec\" target=\"_blank\">CAL FIRE Structure Status Map</a> Please note that damage assessment is still on-going. If a structure point does not appear on the map it may still have been impacted by the fires.'\n",
            " '<p><a href=\"http://www.fire.ca.gov/communications/downloads/Watershed_reports/20171115_RedwoodWERT.pdf\" target=\"_blank\">State\\'s Post Fire Watershed Emergency Response Report</a> '\n",
            " '<p>CAL FIRE Incident Management Team 1 (IMT1) appreciates all the community support in battling the Alamo Fire. CAL FIRE IMT1 will transition management of the Alamo Fire back to the local CAL FIRE SLU unit today at 2:00 PM.\\r\\r\\n<p>For up-to-date CAL FIRE incident’s, download the free CALFIRE app from you app store. You can also find up-to-date information on our Twitter handle, @CAL_FIRE'\n",
            " '<p><a href=\"http://www.fire.ca.gov/communications/downloads/Watershed_reports/20171115_PocketFireWERT.pdf\" target=\"_blank\">State\\'s Post Fire Watershed Emergency Response Report</a> <p>See the latest <a href=\"http://cdfdata.fire.ca.gov/admin8327985/cdf/images/incidentfile1868_3120.pdf\" target=\"_blank\">Incident Update</a> for more information on this fire.\\r\\r\\n\\r\\r\\n<p> <a href=\"http://sonomamap.maps.arcgis.com/apps/webappviewer/index.html?id=f41e7c1816254598a8d1099b1ec36f8d \"target=\"_blank\">Central LNU Complex Evacuation Map</a> \\r\\r\\n\\r\\r\\n<p> Resources:\\r\\r\\n<p> <li> <a href=\" http://www.sonomacounty.com/fire\" target=\"_blank\">Sonoma County Fire Information</a> \\r\\r\\n<li> <a href=\" http://sonomacounty.ca.gov/Home/\" target=\"_blank\">Sonoma County Website</a> \\r\\r\\n<li> <a href=\"http://calfire-forestry.maps.arcgis.com/apps/PublicInformation/index.html?appid=5bbcbed430ad45e5a38e6be155ef5fec\" target=\"_blank\">CAL FIRE Structure Status Map</a> Please note that damage assessment is still on-going. If a structure point does not appear on the map it may still have been impacted by the fires.'\n",
            " 'Crews continue to reinforce and hold containment lines. Suppression repair has begun. Crews continue to mop up and focus on interior islands of the fire. The demobilization process has started and will continue through tomorrow. For more information visit: <a href=\"http://www.fire.ca.gov\" target=\"_blank\">link</a> and <a href=\"http://www.readyforwildfire.org\" target=\"_blank\">link</a>'\n",
            " 'Mop up and patrol continues as hose is pulled from the burn area. Firefighters improved containment line on both the Cascade and LaPorte fires while increasing line on the Lobo fire.  \\r\\r\\n \\r\\r\\n<p>Anyone needing information for recovery please contact your county OES office.\\r\\r\\n<br>Butte County (530) 538-7373\\r\\r\\n\\r\\r\\n<br>Yuba County (530) 749-7520\\r\\r\\n<br>Nevada County (530) 265-1515\\r\\r\\n<br>Butte County residents can call the Fire Assistance Center (530) 538-7473 starting\\r\\r\\nMonday, October 16th.\\r\\r\\n<p>CAL FIRE Incident Management Team 2 has transitioned the fires within the Wind Complex back to the local CAL FIRE Unit.\\r\\r\\n\\r\\r\\n\\r\\r\\n<p>See the latest <a href=\"http://cdfdata.fire.ca.gov/pub/cdf/images/incidentfile1870_2961.pdf\" target=\"_blank\">Incident Update</a> for more information on this fire.\\r\\r\\n\\r\\r\\n<p><a href=\" http://yuba.org/cascadefire/\" target=\"_blank\">Yuba County Fire Information</a> \\r\\r\\n'\n",
            " 'Minimal fire behavior was observed throughout the day. A Red Flag Warning was issued in the burn area but there was no significant fire activity. Firefighters continue to build and improve containment lines and made great progress throughout the weekend.\\r\\r\\n<p>All residential areas have been re-populated. The public is reminded to remain vigilant and monitor changes in weather and fire conditions. Please drive slowly as emergency crews and equipment are working throughout the fire area.'\n",
            " 'The BTU Call Center is open: (530) 538-7826. \\r\\r\\n\\r\\r\\n<p>South, West & East flanks of the fire are holding, making progress on the North Flank.'\n",
            " 'Mop up and patrol continues as hose is pulled from the burn area. Firefighters improved containment line on both the Cascade and LaPorte fires while increasing line on the Lobo fire. \\r\\r\\n\\r\\r\\np>See the latest <a href=\"http://cdfdata.fire.ca.gov/pub/cdf/images/incidentfile1870_2961.pdf\" target=\"_blank\">Incident Update</a> for more information on this fire.'\n",
            " '<a href=\"http://www.fire.ca.gov/communications/downloads/Watershed_reports/2017_201811118_RyeFireWERT.pdf\" target=\"_blank\">RYE FIRE Watershed Emergency Response Team Final Report </a> \\r\\r\\n<br><br>\\r\\r\\nToday firefighters continued to establish containment lines. Mop up will continue this\\r\\r\\nevening to ensure that the fire will remain within control lines. The Los Angeles County Fire\\r\\r\\nDepartment and The Los Angeles County Sheriff Department will remain in Unified Command\\r\\r\\nuntil fire containment is at 100%.\\r\\r\\n\\r\\r\\n\\r\\r\\n<p>12/12/17 PM - See the latest <a href=\"http://cdfdata.fire.ca.gov/admin8327985/cdf/images/incidentfile1924_3201.pdf\" target=\"_blank\">Incident Update</a> for more information on this fire.'\n",
            " 'Firefighters continue to hold and improve fire lines and mop up hot spots. All evacuation orders, warnings, and road closures have been lifted. Butte County has opened a Local Assistance Center at the Oroville Municipal Auditorium, 1200 Myers Street, for residents whose homes were damaged by the Wall Fire.\\r\\r\\n\\r\\r\\n<p>For tips on returning home after a fire visit: visit www.buttecounty.net/pathtorecovery'\n",
            " '<p>12/13/17 PM - See the latest <a href=\"http://cdfdata.fire.ca.gov/admin8327985/cdf/images/incidentfile1928_3229.pdf\" target=\"_blank\">Incident Update</a>  for more information on this fire. '\n",
            " 'All evacuations orders and warnings have been lifted as well as road closures.\\r\\r\\nWhen entering the area, please be cautious of emergency equipment and personnel as they\\r\\r\\nare operating in and around the area. Check the roof and exterior areas for sparks and\\r\\r\\nembers as well as the attic and throughout the house for hidden burning sparks and embers.'\n",
            " 'Firefighters have contained the fire and will demobilizing tomorrow morning for reassignment to new incidents.\\r\\r\\n'\n",
            " '<p><a href=\"http://www.fire.ca.gov/communications/downloads/Watershed_reports/20171115_SulphurFireWERT.pdf\" target=\"_blank\">State\\'s Post Fire Watershed Emergency Response Report</a> \\r\\r\\n<p>Fire personnel will remain at scene working to extinguish hot spots and improve containment lines. Damage assessment has been completed. Fire suppression repair continues to minimize\\r\\r\\nthe effects of the fire’s damage. \\r\\r\\n\\r\\r\\n<p>10/20/17 AM - See the latest <a href=\" http://cdfdata.fire.ca.gov/pub/cdf/images/incidentfile1874_3012.pdf\" target=\"_blank\">Incident Update</a> for more information on this fire.\\r\\r\\n\\r\\r\\n'\n",
            " 'Overnight temperatures and a rise in humidity allowed firefighters to make meaningful progress toward complete containment. Fire is primarily burning in grass with some sparse brush. '\n",
            " 'The Adobe Fire is now a part of the <a href=\" http://www.fire.ca.gov/current_incidents/incidentdetails/Index/1868\" target=\"_blank\">the Nuns Fire</a>\\r\\r\\n\\r\\r\\n'\n",
            " 'Firefighters are constructing and improving containment line, patrolling the fires perimeter and mopping up smoldering areas.\\r\\r\\n'\n",
            " 'Acreage reduced due to more accurate mapping.'\n",
            " 'All Mandatory Evacuation Orders and Advisories have been removed.'\n",
            " 'Firefighters continue working aggressively for full containment of the Berry Fire.\\r\\r\\n\\r\\r\\n<p><a href=\"https://twitter.com/CALFIRESHU\" target=\"_blank\">CAL FIRE Shasta-Trinity Unit Twitter</a>'\n",
            " 'Fire crews will remain on scene for patrol, to extinguish interior hot spots and strengthen control lines.'\n",
            " 'Mop up and patrol continues as hose is pulled from the burn area. Firefighters improved containment line on both the Cascade and LaPorte fires while increasing line on the Lobo fire. \\r\\r\\n\\r\\r\\n<p>Anyone needing information for recovery please contact your county OES office.\\r\\r\\n<br>Butte County (530) 538-7373\\r\\r\\n<br>Yuba County (530) 749-7520\\r\\r\\n<br>Nevada County (530) 265-1515\\r\\r\\n<br>Butte County residents can call the Fire Assistance Center (530) 538-7473 starting\\r\\r\\nMonday, October 16th.\\r\\r\\n<p>CAL FIRE Incident Management Team 2 has transitioned the fires within the Wind Complex back to the local CAL FIRE Unit.\\r\\r\\n\\r\\r\\n<p>See the latest <a href=\"http://cdfdata.fire.ca.gov/pub/cdf/images/incidentfile1870_2961.pdf\" target=\"_blank\">Incident Update</a> for more information on this fire.\\r\\r\\n'\n",
            " \"Forward progress has been stopped. Fire suppression resources continue to construct and improve containment lines around the fire's perimeter.\"\n",
            " '<a href=\"http://cdfdata.fire.ca.gov/pub/cdf/images/incidentfile1927_3371.pdf\" target=\"_blank\">Skirball Fire Watershed Emergency Response Team (WERT) Final Report</a>\\r\\r\\n\\r\\r\\n'\n",
            " 'Forward rate of spread has been stopped.'\n",
            " 'Fire suppression repair, mop-up and patrol continues throughout the burn area. Residents should see a reduced presents of fire personnel in the coming days. Thank you to the residents of North San Juan for your patience. We appreciate your support.  '\n",
            " 'Firefighters have achieved 100% containment and will shift to patrol status for the next few\\r\\r\\ndays. Residents are encouraged to be vigilant and report any possible signs of smoke.\\xa0\\xa0<br>\\r\\r\\n<br>\\r\\r\\nTonight is expected to be clear and 58?70 degrees, with minimum humidity of 25?35%, with\\r\\r\\nnortheast winds of 6?8 MPH.<br>\\r\\r\\n<br>\\r\\r\\nBURN BAN REMINDER: Due to critical weather conditions and fire activity, all Bay Area\\xa0\\xa0\\r\\r\\nCAL FIRE Units, including the San Mateo?Santa Cruz Unit implemented a burn suspension\\r\\r\\nbanning all outdoor burning as of October 13, 2017. This order is made under the authority\\r\\r\\nvested by the Director of the Department of Forestry and Fire Protection as per section\\r\\r\\n4423.1 of the Public Resources Code.'\n",
            " 'The public is reminded to stay vigilant on current fire conditions. Please continue to adhere to road closures and any evacuation warnings or advisories. If you see electrical wires on the ground, stay clear and contact PG&E immediately. Trees and poles with deep charring, particularly if still smoking, should be considered hazardous. '\n",
            " 'Fire crews will focus on mop-up and suppression repair. Starting Sunday, the National Park Service will be conducting a prescribed burn at the Sequoia National Park Headquarters that will last through mid-week.'\n",
            " 'Fire suppression resources continue to construct and improve containment lines around the fires perimeter.'\n",
            " 'The fire is burning in grasses oak woodland. Firefighters have been deploying aggressive air and ground strategies. The forward rate of spread has been stopped. Firefighters are focusing on building control lines around and strengthen the perimeter. Smoke is visible from Redding.'\n",
            " '<a href=\"https://twitter.com/CALFIRE_ButteCo\" target=\"_blank\">CAL FIRE / Butte County Fire Twitter</a>\\r\\r\\n'\n",
            " 'Fire units will remain at scene throughout the day to patrol the area looking for and taking action on: any smokes, hot spots, or hazards.'\n",
            " 'Fire is 100% contained.\\r\\r\\n\\r\\r\\n<p><a href=\"https://twitter.com/CALFIREAEU\" target=\"_blank\">CAL FIRE Amador - El Dorado Unit Twitter </a>'\n",
            " 'Firefighters continue today to strengthen and improve containment lines, and suppress interior hotspots.'\n",
            " 'Residents are being let back in. Hwy 26 open with restrictions.'\n",
            " '<p><a href=\"https://twitter.com/CALFIRESANDIEGO\" target=\"_blank\">CAL FIRE San Diego Unit Twitter</a>'\n",
            " 'The Central LNU Complex is being managed in Unified Command by CAL FIRE Incident Management Team 1 and The City of Santa Rosa.\\r\\r\\n\\r\\r\\n<p>To get information about the Oakmont Fire visit the <a href=\"http://www.fire.ca.gov/current_incidents/incidentdetails/Index/1868\" target=\"_blank\">Nuns Fire</a> for more information.\\r\\r\\n\\r\\r\\n<p> Resources:\\r\\r\\n<p> <li> <a href=\" http://www.sonomacounty.com/fire\" target=\"_blank\">Sonoma County Fire Information</a> \\r\\r\\n<li> <a href=\" http://sonomacounty.ca.gov/Home/\" target=\"_blank\">Sonoma County Website</a> \\r\\r\\n<li> <a href=\"http://calfire-forestry.maps.arcgis.com/apps/PublicInformation/index.html?appid=5bbcbed430ad45e5a38e6be155ef5fec\" target=\"_blank\">CAL FIRE Structure Status Map</a> Please note that damage assessment is still on-going. If a structure point does not appear on the map it may still have been impacted by the fires.'\n",
            " 'Firefighters are currently working a wildland fire near the community of Clearlake.  The terrain in the area is grassy oak woodland, steep terrains, and difficult access.'\n",
            " 'The total acreage reflects more accurate mapping.  Red Flag warning today through Sunday morning for gusty winds and low relative humidity. Firefighters will continue to monitor conditions. \\r\\r\\n<p>Damage Inspection Teams are continuing their assessments. All Evacuation Orders have been reduced to Warnings and all roads are now open.  Use caution when in the fire area as utility companies continue their repairs to infrastructure that was damaged due to the fire.   \\r\\r\\n<p>See the latest <a href=\"http://cdfdata.fire.ca.gov/pub/cdf/images/incidentfile1871_2817.pdf\" target=\"_blank\">Incident Update</a> for more information on this fire.\\r\\r\\n'\n",
            " 'Forward progress of the fire has been stopped. Crew are strengthening containment lines and performing mop up and patrol. Steep difficult terrain is hampering the mop up efforts.'\n",
            " 'Forward progress stopped.'\n",
            " 'Fire equipment is in the area please use caution. Citizens returning to the area are asked to not impede the ongoing fire fighting operations.'\n",
            " 'Firefighters will remain in the area for several more days to check for any hot spots. Use caution while driving or biking on Kings Mountain Road as large fire suppression equipment is still in the area.'\n",
            " 'Fire is in grassy oak woodland, burning on the north side of Lake Berryessa. All units clear from the incident and is 100% contained.'\n",
            " 'The fire is fully contained. '\n",
            " 'Full containment has been reached and firefighters will patrol the area tomorrow.'\n",
            " 'Reduced acreage due to better mapping.'\n",
            " 'The Central LNU Complex is being managed in Unified Command by CAL FIRE Incident Management Team 1 and The City of Santa Rosa. \\r\\r\\n<p>\\r\\r\\nTo get information about the Pressley Fire <a href=\" http://www.fire.ca.gov/current_incidents/incidentdetails/Index/1868\" target=\"_blank\">visit the Nuns Fire</a> for more information.\\r\\r\\n\\r\\r\\n<p> Resources:\\r\\r\\n<p> <li> <a href=\" http://www.sonomacounty.com/fire\" target=\"_blank\">Sonoma County Fire Information</a> \\r\\r\\n<li> <a href=\" http://sonomacounty.ca.gov/Home/\" target=\"_blank\">Sonoma County Website</a>\\r\\r\\n<li> <a href=\"http://calfire-forestry.maps.arcgis.com/apps/PublicInformation/index.html?appid=5bbcbed430ad45e5a38e6be155ef5fec\" target=\"_blank\">CAL FIRE Structure Status Map</a> Please note that damage assessment is still on-going. If a structure point does not appear on the map it may still have been impacted by the fires.'\n",
            " 'The Patrick Fire is now a part of the <a href=\" http://www.fire.ca.gov/current_incidents/incidentdetails/Index/1868\" target=\"_blank\">the Nuns Fire</a>\\r\\r\\n<p>\\r\\r\\n<a href=\"http://calfire-forestry.maps.arcgis.com/apps/PublicInformation/index.html?appid=5bbcbed430ad45e5a38e6be155ef5fec\" target=\"_blank\">CAL FIRE Structure Status Map</a> Please note that damage assessment is still on-going. If a structure point does not appear on the map it may still have been impacted by the fires.\\r\\r\\n'\n",
            " 'The Department of Water Resources (DWR) has increased flows to the Feather River through Oroville. Due to increased outflow from Hyatt Power Plant, flows to the Feather River will also increase incrementally throughout the day. This will cause the river to become gradually deeper and swifter so all anglers, boaters, and other river users should be advised of these conditions. Additional flow increases to the Feather River are expected to occur over the next few days.\\r\\r\\n\\r\\r\\n<p>To News Media: For your safety and the safety of crews working in the construction zone, members of the news media are advised to wear Personal Protection Equipment (PPEs) – hard hat, reflective vest, and sturdy shoes/boots. Those not following this guideline will be asked to leave the area.\\r\\r\\n\\r\\r\\n<p>The flood control spillway flows remain at 0 cubic feet per second (cfs). Inflows are approximately 10,000 to 15,000 cfs which has resulted in the lake rising from 858.8 feet to 859.7 feet elevation in the last 24 hours. All 5 operational units at the Hyatt Powerplant are currently running, allowing for a total outflow of 8,800 cfs. This situation will be monitored throughout the day to determine the efficiency and safety of excavation during flows.\\r\\r\\n\\r\\r\\n<p>Contractors continue to remove sediment and debris below the spillway. This operation will continue 24 hours per day. Approximately 715,000 cubic yards of material have been removed from the debris pile to date. Work continues on the area below the emergency spillway.\\r\\r\\n\\r\\r\\n<p>Flows to meet environmental requirements are being met by releases through the Thermalito Diversion Dam and Thermalito Afterbay River Outlet. The low flow section of the Feather River (the river channel through Oroville) is currently at 3,750 cfs. The total flow to the Feather River at the Thermalito Afterbay River Outlet is currently 5,650 cfs. Flows will gradually increase over the next 24 hours.\\r\\r\\n\\r\\r\\n<p>For information on lake conditions – including lake levels, inflows, and outflows – visit the <a href=\"http://cdec.water.ca.gov/cgi-progs/queryF?ORO\" target=\"_blank\">Oroville Reservoir page</a>  on the California Data Exchange Center. For more information, visit DWR’s <a href=\"http://www.water.ca.gov/oroville-spillway/index.cfm\" target=\"_blank\">Oroville Spillway Incident web page</a> . Download images from DWR’s <a href=\"https://pixel-ca-dwr.photoshelter.com/galleries/C0000OxvlgXg3yfg/G00003YCcmDTx48Y/Oroville-Spillway-Damage\" target=\"_blank\">photo gallery</a> . Log-in required for download.\\r\\r\\nVideo available on <a href=\"https://www.youtube.com/watch?v=-ejzKW0_i6s&list=PLeod6x87Tu6eVFnSyEtQeOVbxvSWywPlx\" target=\"_blank\">DWR’s YouTube page</a> .\\r\\r\\n'\n",
            " 'The fire has transitioned to the USFS Mendocino National Forest.  For future updates on this fire please visit Inciweb at:  https://inciweb.nwcg.gov/incident/6073/ '\n",
            " 'Although full containment has been achieved, firefighters will continue to patrol the fire area\\r\\r\\nfor several days and fire suppression repair remains ongoing.\\r\\r\\n\\r\\r\\n<p>\\r\\r\\n\\r\\r\\n<p>\\r\\r\\n<a href=\"http://calfire-forestry.maps.arcgis.com/apps/PublicInformation/index.html?appid=5bbcbed430ad45e5a38e6be155ef5fec\" target=\"_blank\">Carr Fire Structure Status Map</a>'\n",
            " '<a href=\"http://cdfdata.fire.ca.gov/pub/cdf/images/incidentfile2277_4330.pdf\" target=\"_blank\">Camp Fire WERT Report</a>'\n",
            " '<a href=\"http://cdfdata.fire.ca.gov/pub/cdf/images/incidentfile2282_4328.pdf\" target=\"_blank\">Woolsey-Hill Fires WERT Report - Final</a>\\r\\r\\n\\r\\r\\n<p><a href=\"http://cdfdata.fire.ca.gov/pub/cdf/images/incidentfile2282_4329.pdf\" target=\"_blank\">Woolsey-Hill Fires WERT Report - Appendix F </a>'\n",
            " 'Fire Suppression Repair Teams continue working around the fire perimeter and affected areas. This\\r\\r\\nwill be the final update'\n",
            " '<p>To sign up to receive news releases and fact sheets for the <a href=\"https://visitor.r20.constantcontact.com/manage/optin?v=001uWnjXQrYldC7E8KAawvX0U8k7-2jLoe5dMTXhvrHHBFNlTNVmL_s5fxasvBhMIS-9FCUqwZFi16W8jtPCEkOAp3wPpsnq06PVMFoVvSJLrg%3D\" target=\"_blank\"> Mendocino Complex </a> click the link.'\n",
            " 'A local assistance center will be open Monday and Tuesday next week in hornbrook, a location still to be determined. The fire is holding within the current perimeter with no additional fire spread anticipated. Fire suppression repair will continue throughout the fire area including erosion control near dozer lines. Fire equipment will be in and out of the area patrolling for smokes within the fire perimeter.\\r\\r\\n<br>\\r\\r\\n<br>\\r\\r\\nEmail Updates (Sign-Up): <a href=\"www.tinyurl.com/Klamathon\">www.tinyurl.com/Klamathon</a>\\r\\r\\n'\n",
            " '<p>Email Updates (Sign-Up): <a href=\"https://visitor.r20.constantcontact.com/manage/optin?v=001uWnjXQrYldC7E8KAawvX0Vu9ne-MrnIk6ucrkLtyCiPSADNvy-gpFi4HsXrrk_61hKqg7ZWlEJFevBJa316BGqczNdC-eSnbOPdxkdg7BG0%3D\" target=\"_blank\">www.tinyurl.com/pawnee2018\\r\\r\\n</a>'\n",
            " 'The incident transitioned out of Unified Command. The fire is being managed by SoCal Team 3, a Type 2 incident management team (assigned to the Inyo National Forest). Tomorrow, management of the fire will transition to a local Type 4 team, comprised of your local firefighters from the Inyo National Forest.\\r\\r\\n\\r\\r\\n<p>Much of the fireline of the Georges Fire is in steep, inaccessible terrain. Firefighters cannot safely gauge if these areas are contained or if pockets of heat still remain. However, the monsoonal moisture has substantially diminished the fire activity.\\r\\r\\n\\r\\r\\n<p>Crews will continue suppression repair, mop up, and collecting remaining backhaul. Firefighters will continue to patrol in the fire area. No structures have been destroyed, and no reportable injuries occurred.\\r\\r\\n\\r\\r\\n<p>Precipitation is likely today with some potential for erratic downdraft winds likely. Thunderstorms remain in the forecast and will decrease over the weekend.\\r\\r\\n\\r\\r\\n<p>The area burned is 82% U. S. Forest Service (2,364 acres), 12% Bureau of Land Management (345 acres), and 5% Los Angeles Department of Water and Power (154 acres).\\r\\r\\n\\r\\r\\n<p>Visit <a href=\"https://inciweb.nwcg.gov/incident/5907/\" target=\"_blank\">Inciweb</a> for future updates on this fire.\\r\\r\\n'\n",
            " 'Crews are making good progress on the fire and continue to work toward full containment. \\r\\r\\n\\r\\r\\n'\n",
            " 'This fire is no longer in unified command.  \\r\\r\\n\\r\\r\\n<p>To get more information on this incident, visit: <a href=\"https://inciweb.nwcg.gov/incident/5900/\" target=\"_blank\">US Forest Incident Information</a> page'\n",
            " '<p>\\r\\r\\nFor more information visit <a href=\"https://twitter.com/CALFIREBDU\" target=\"_blank\">CAL FIRE San Bernardino-Inyo Unit Twitter</a>\\r\\r\\n\\r\\r\\n'\n",
            " 'Excellent progress was made over night building containment lines and making the area safe for residents to return to their homes.  Evacuees returning to residences are urged to use caution and yield to public safety vehicles and crews.  Fire crews remain in the area mopping up smoldering brush and hot spots.'\n",
            " 'All fire equipment and personnel have been released.'\n",
            " 'Crews continue to patrol, mop up and improve fire line.'\n",
            " 'The fire has burned vegetation in and around Ed Levin County Park, adjacent private land and San Francisco Water land. The fire burned in a southeasterly direction from where it began toward Weller Road. The fire transitioned from grass into heavier brush in a very steep drainage. For a time the fire threatened the Mt. Allison communications site. With cooling and increased humidity in the nighttime hours, firefighters were able to contain this fire. Crews will remain in the area to locate and extinguish hot spots.'\n",
            " 'Forward spread of the fire stopped. Crews are making good progress. Some evacuees have returned home.'\n",
            " 'Forward rate of spread of the fire has stopped.'\n",
            " 'The fire is now 100% contained.'\n",
            " 'The Roxie Fire is now 100% contained. Crews will continue to monitor the fire over the next few weeks.'\n",
            " 'Communities of Lagunitas and Forest Knolls threatened.\\r\\r\\n<p> Communications and cellular Towers and Mt. Barnabe Fire Lookout.\\r\\r\\n<p> Acreage increase due to better mapping.'\n",
            " 'Forward progress has stopped. Firefighters continue to strengthen containment lines and are mopping up hot spots. '\n",
            " 'Steele Fire, July 2018, Napa County' 'Forward spread stopped.'\n",
            " 'Fire personnel are patrolling the area to put out any hot spots.'\n",
            " 'Fire personnel is patrolling the area to mop up any hot spots.'\n",
            " 'Fire suppression repair is now beginning as part of the land rehabilitation process.<br><br>\\r\\r\\nCrews made good progress today constructing line around the fire.<br><br>\\r\\r\\nSmoke may still be visible in the area over the next few days as crew work towards 100% containment.<br><br>\\r\\r\\nCrews are dealing with heavy fuels and steep terrain which require extensive mop-up work.<br><br>\\r\\r\\nThe cause of the fire was determined to be a campfire located at an illegal marijuana grow site. \\r\\r\\n\\r\\r\\n\\r\\r\\n\\r\\r\\n'\n",
            " 'Firefighters continue to improve containment lines around the fire. '\n",
            " 'Firefighters made good progress increasing and strengthening containment lines. They will continue to mop up and patrol throughout the night.'\n",
            " 'Firefighters continued to mop-up and patrol the fire while reinforcing contingency lines. Firefighters will remain at scene as the area is currently under a Red Flag Warning.'\n",
            " 'There is still fire equipment in the area, so residents should be cautious.  This fire was contained on September 23, 2018 and burned 12 acres.'\n",
            " 'Flooding and mudflows in the Santa Barbara County areas of Montecito, Summerland, and Carpenteria near the Thomas Fire burn scar. '\n",
            " 'Evacuation Information: <a href= \"https://twitter.com/VCFD_PIO\">https://twitter.com/VCFD_PIO</a>'\n",
            " 'For evacuation and road closure information\\r\\n<a href=\"http://www.rvcfire.org/_Layouts/Incident%20Information/IncidentInfoDetail.aspx?4517\"> click here</a>'\n",
            " 'Mandatory evacuations and road closures are in place:\\r\\n <a href=\"http://www.rvcfire.org/_Layouts/Incident%20Information/IncidentInfoDetail.aspx?4523\"> http://www.rvcfire.org/_Layouts/Incident%20Information/IncidentInfoDetail.aspx?4523</a>'\n",
            " '<p> Evacuation Center: Valley Center Community Center \\r\\n\\r\\n<p> Evacuation Shelter :  Valley Center Middle School, 28102 N Lake Wohlford Road.\\r\\n\\r\\n<p> Evacuation Order: All of Terrace View Ln, area West of Cool Valley Highlands, area North of Puma Trail.\\r\\n\\r\\n<p>Evacuation has been issued please see map. <a href=\"https://www.fire.ca.gov/media/9967/evacuation-grid-for-miller-fire.jpg\">Map Grid</a>\\r\\n\\r\\n<p> Road Closures: Cole Grade Rd. is closed at the intersections of Miller Ln., Valley Center Rd., and Oak Glen Pl.\\r\\n\\r\\n<p> Hard closures: Terrace View Lane at Cool Valley Rd, Wilhite Lane South of Puma Trail, Coyote Run at Rabbit Run, Cool Valley Highlands Rd at Cool Valley Rd'\n",
            " 'Firefighters have stopped forward progress on a Vegetation Fire in the area of Chaparral Drive and Latrobe Road in Latrobe'\n",
            " '<p>All evacuations have been lifted at this time; however, the Sonoma County Public Health Order is still in place. For any inquiries about this health order, please visit <a href=\"https://tinyurl.com/sonomacountypublichealthorder\">https://tinyurl.com/sonomacountypublichealthorder</a>.\\r\\n<P>\\r\\nFor recovery information please visit <a href=\"http:www.socoemergency.org\">www.socoemergency.org</a> or call 211\\r\\n<p>\\r\\nThe County of Sonoma is also working to establish processes for safe debris\\r\\nremoval. For more information on the recovery process: <b>Call 211 or 1-800-325-9604</b>\\r\\n<P>\\r\\n<B>\\r\\nFor information on returning home after a wildfire:\\r\\n<a href=\"https://tinyurl.com/calfirereturnhome\">https://tinyurl.com/calfirereturnhome</a>\\r\\n<P>\\r\\nFor gas and electric safety information tips:\\r\\n<a href=\"https://www.pge.com/returninghome\">https://www.pge.com/returninghome</a>\\r\\n<P>\\r\\nFor information on AT&T internet and phone services:\\r\\n<a href=\"https://www.att.com/capoweroutage\">www.att.com/capoweroutage</a>\\r\\n<P>\\r\\n<P>\\r\\n</B>\\r\\n<p>\\r\\n<p><b>Local Assistance Center (LAC):</b>: Healdsburg Community Center, 1557 Healdsburg Ave., Healdsburg, CA 95448. \\r\\n<p>\\r\\n<p><b><p>To view the interactive map for Sonoma, Napa or Lake county please visit the following site: <a href=\"https://tinyurl.com/kincadeincidentmap\">Kincade Incident Map</a> </b>\\r\\n\\r\\n<p>\\r\\nNew Kincade Fire Evacuation Warning and Order Update (11/03/19 @3:00PM) <a href=\"https://fire.ca.gov/media/10050/11319_1500_repop.pdf\">https://fire.ca.gov/media/10050/11319_1500_repop.pdf</a>\\r\\n\\r\\n<P>\\r\\n\\r\\nNew Kincade Fire Evacuation Warning and Order Update (11/02/19 @3:00PM) <a href=\"https://www.fire.ca.gov/media/10046/new-kincade-fire-evacuation-repopulation-information-11219_.pdf\">https://www.fire.ca.gov/media/10030/kincade-fire-11119_1300_repop.pdf</a>\\r\\n\\r\\n<P>\\r\\n\\r\\nNew Kincade Fire Evacuation Warning and Order Update (11/01/19 @1:00PM) <a href=\"https://www.fire.ca.gov/media/10030/kincade-fire-11119_1300_repop.pdf\">https://www.fire.ca.gov/media/10030/kincade-fire-11119_1300_repop.pdf</a>\\r\\n\\r\\n<P>\\r\\n\\r\\nNew Kincade Fire Evacuation Warning and Order Update (10/31/19 @2:00PM) <a href=\"https://www.fire.ca.gov/media/10019/103119repopulation.pdf\">https://www.fire.ca.gov/media/10019/103119repopulation.pdf,</a>\\r\\n\\r\\n<P>\\r\\n\\r\\nNew Kincade Fire Evacuation Warning and Order Update (10/28/19 @6:00PM) <a href=\"https://www.fire.ca.gov/media/9999/102819-kincade-fire-evacuation-warning-lake-county.pdf\">https://www.fire.ca.gov/media/9981/102619_1830_evac_ow.pdf</a>\\r\\n\\r\\n<P>\\r\\n\\r\\nNew Kincade Fire Evacuation Warning and Order Update (10/28/19 @2:00PM) <a href=\"https://gallery.mailchimp.com/1eab3f5545f6a6e4d33c94dcb/files/cae59ba9-f7ca-4481-b593-3dfa2851ab55/10.28.19_1300_repop_7.8_s.pdf\">https://www.fire.ca.gov/media/9981/102619_1830_evac_ow.pdf</a>\\r\\n<P>\\r\\n\\r\\nNew Kincade Fire Evacuation Warning and Order Update (10/27/19 @12:45PM) <a href=\"https://www.fire.ca.gov/media/9990/102719_1245_evac_o_napa.pdf\">https://www.fire.ca.gov/media/9981/102619_1830_evac_ow.pdf</a>\\r\\n<P>\\r\\n\\r\\nNew Kincade Fire Evacuation Warning and Order Update (10/27/19 @4:30AM) <a href=\"https://www.fire.ca.gov/media/9986/102719_0430_evac_o.pdf\">https://www.fire.ca.gov/media/9981/102619_1830_evac_ow.pdf</a>\\r\\n<p>\\r\\n\\r\\nNew Kincade Fire Evacuation Warning and Order Update (10/26/19 @6:30PM) <a href=\"https://www.fire.ca.gov/media/9981/102619_1830_evac_ow.pdf\">https://www.fire.ca.gov/media/9981/102619_1830_evac_ow.pdf</a>\\r\\n<p>\\r\\n\\r\\nNew Kincade Fire Evacuation Warning and Order Update (10/26/19 @10AM): <a href=\"https://www.fire.ca.gov/media/9980/102619_1000_evac_o.pdf\">https://www.fire.ca.gov/media/9980/102619_1000_evac_o.pdf</a>'\n",
            " '(Not a CAL FIRE Incident). CAL FIRE is assisting Modoc National Forest with air and ground resources.'\n",
            " 'Today, firefighters are preparing for significant weather change that will last through Friday. Temperatures will be significantly hotter and drier with light winds from the north. Due to the remote location of the fire, approximately 60 firefighting crews will be transported by helicopter to further enhance fire suppression efforts continuing to close in on containment lines.\\r\\n\\r\\n<p> CAL FIRE IMT 5 is working in conjunction with the United States Forest Service and CIIMT 16 resources, and has assumed suppression responsibilities for State Responsibility Area land located south of Cottonwood Creek. The total number of resources stated above includes both Branch Ten of the South Fire and the Red Bank Fire incident.\\r\\n\\r\\n<p> Motorists should drive cautiously and always yield to emergency vehicles that are traveling on and off of the roads and highways. Fire danger remains elevated and everyone should continue to use extreme caution and refrain from daily activities that may spark a wildland fire. “Ready, Set, Go” is a user-friendly website that shows homeowners step-by-step instructions for hardening their homes and protecting their families from the dangers of wildfires. For more information, visit www.readyforwildfire.org.'\n",
            " '<p>Firefighters from The Los Angeles City Fire Department, The Los Angeles County Fire Department, and\\r\\nAngeles National Forest have made significant progress working in their respective jurisdictions with\\r\\nsupport from assisting agencies to increase containment lines and address hot spots. \\r\\n\\r\\n<p>Tactical patrols will remain in place to monitor the area as low humidity and northerly winds remain a concern through Wednesday with the strongest gusts expected tonight and tomorrow morning. \\r\\n\\r\\n<p>The public is reminded to please drive cautiously and yield to emergency personnel working around the burn area.\\r\\n\\r\\n<p>The cause of the Saddle Ridge Fire remains under active investigation.\\r\\n\\r\\n<p>This will be the “Final” update on this incident in this format. Any additional updates will be distributed through each jurisdiction’s normal platforms.\\r\\n\\r\\n<p>Please be advised, due to decreased requests for assistance, demobilization of the Local Assistance Center (LAC) has begun. County and State agencies will be released at the closure of the LAC today, October 21, 2019. However, all LA City agencies will provide Saddle Ridge Fire recovery resources at the Sylmar Recreation Center until Tuesday, October 22, 2019 ending at 7:00pm. After the closure of the LAC, 211 will continue to provide recovery assistance information and referrals.\\r\\n\\r\\n<p>Sylmar Recreation Center.\\r\\n<p>Dates: Thursday, October 17, 2019 - Saturday, October 22, 2019\\r\\n<p>Hours of Operation: (Monday - Tuesday) 9:30am to 7:00pm\\r\\n<p>Public call 213-213-5228 or visit lacity.org/recovery\\r\\n<p>\\r\\nTo ensure the safety of both the public and first responders, the Angeles NF has closed a section of the forest due to the fire.\\r\\nPlease refer to go.usa.gov/xVzN5.'\n",
            " 'Highway 140 is open; please drive cautiously. Smoke will be visible within the fires boundary for potentially several weeks. This is the final update.\\r\\n\\r\\n<p>Yosemite National Park remains open. For information on Yosemite National Park, go to nps.gov/yose or call 209-372-0200.\\r\\n\\r\\n<p>Evacuations: All Mandatory Evacuation Orders and Fire advisements have been lifted. Buffalo Gulch Road is open.'\n",
            " '<p> For Evacuation Information <a href=\"https://twitter.com/SCVSHERIFF\">Santa Clarita Valley Sheriff</a>'\n",
            " 'The Cave Fire is no longer a CAL FIRE Incident. Please visit <a href=\"https://inciweb.nwcg.gov/incident/6662/\">https://inciweb.nwcg.gov/incident/6662/</a> for the latest information on the Cave Fire.'\n",
            " 'Del Puerto Canyon Rd remains closed'\n",
            " '<p> Firefighters continued patrol status and will continue containment and mop up operations for the next several days. Additionally firefighters are continuing suppression repair activities in the area. Please continue to be cautious while driving in the area as fire apparatus will remain working in the area.</p>\\r\\n\\r\\n<p>For the latest evacuation information:  <a href=\"http://rvcfire.org/_Layouts/Incident%20Information/IncidentInfoDetail.aspx?4504\">Tenaja Incident Information</a></p>\\r\\n\\r\\n<p><a href=\"https://countyofriverside.maps.arcgis.com/apps/webappviewer/index.html?id=0b92d93e12d34bf29b8c0d5e28b95815\">Interactive Evacuation Map</a></p>'\n",
            " 'CAL Fire is assisting Truckee Meadows Fire Protection District with air resource in Washoe County, Nevada.'\n",
            " 'The Creek incident is now 100% contained.'\n",
            " '<a> Evacuations warnings have been lifted.'\n",
            " \"All evacuations and road closures have been lifted.  Please see Shasta County Sheriff's website under agencies for the most current information.   \\r\\n\\r\\n<p>Firefighters continue to mop up and patrol. Fire suppression repair is ongoing. Residents traveling in the vicinity are asked to drive with caution as fire apparatus and personnel continue to work in the area.\"\n",
            " 'All evacuation orders have been lifted.\\r\\n\\r\\n<p>Ground resources continue to mop-up and strengthen control lines. Motorists should drive with caution in the fire area and yield to fire personnel and apparatus.'\n",
            " 'Fire line personnel have reached 100% containment on the Swedes Fire. All firefighters have been released from the incident. The fire will remain in patrol status for the next few days, being checked daily for smoke and hot spots.\\r\\n\\r\\nFire suppression repair continues as well, so we ask that residents and others be careful when traveling in the area, as heavy equipment will be on the roadways.'\n",
            " 'CAL FIRE is assisting City of San Diego Fire-Rescue with air and ground resources'\n",
            " 'Evacuations lifted for El Cap Canyon and Ocean Mesa RV Park. Full containment anticipated on 10/21/19.'\n",
            " 'The anticipated containment date is September 21, 2019.'\n",
            " 'CAL Fire is assisting US Forest Services with air and ground resources.'\n",
            " 'Forward progress has been stopped. No injuries and no structure damage. Crews will continue reinforcing fire lines and mopping-up isolated hot spots.'\n",
            " 'The fire is in patrol status. This is the final update unless significant activity occurs.'\n",
            " \"All evacuation warnings and orders have been lifted per the Mendocino County Sheriff's office.\"\n",
            " '</p> No longer in Unified Command, please refer to Los Padres National Forest for more information. \\r\\n<br><br>\\r\\n<p><b><font color = \"red\">Evacuations: Residents have been allowed to return home but are advised to stay fire ready.</font></b>\\r\\nEvacuation warning for French Camp and Upper Lopez Canyon Rd. \\r\\nEvacuation warning for 1700 block of Upper Lopez Canyon Rd.</p>'\n",
            " 'Resources will remain on scene working on full containment.'\n",
            " '<p>The forward rate of spread has been stopped. Overnight crews worked to mop up and construct containment lines.</p>'\n",
            " 'Structures threatened.  Evacuations in progress and Hwy 101 northbound is closed.'\n",
            " 'CAL Fire is assisting Bureau of Land Management with air and ground resources.'\n",
            " 'All evacuations have been lifted and all roads are now open.'\n",
            " 'The forward rate of spread has been stopped on this incident. Ground crews have transitioned to mop-up operations and constructing containment lines.'\n",
            " 'Evacuations: Currently there are mandatory evacuations in place for residents on Arrowhead Road, David Way north of 40th street and all connecting streets including Mariposa Drive\\r\\n\\r\\n<p>Evacuation Center: San Gorgonio High School, 2299 Pacific Street, San Bernardino CA 92404.\\r\\n\\r\\n<p>Road Closures: Highway 18 closed between 40th street in San Bernardino and Hwy 138 in Crestline, Lake Gregory Drive at Hwy 18.\\r\\n\\r\\n<p>For more information: https://inciweb.nwcg.gov/incident/6650/'\n",
            " 'Change in acreage from earlier reports is due to more accurate mapping.'\n",
            " 'CAL Fire is assisting Ventura County Fire Department with air and ground resources.'\n",
            " 'CAL Fire is assisting Modoc National Forest with air and ground resources.'\n",
            " 'Not a CAL FIRE Incident. CAL FIRE is assisting Los Padres National Forest with air and ground resources.'\n",
            " 'All evacuations orders and road closures have been lifted. Firefighters will remain on scene overnight for mop-up and containment line construction.'\n",
            " 'Final acreage was from 50 acres to 80 acres due to more accurate mapping.'\n",
            " 'Forward progress stopped.  Hwy 1 remains closed between Panoramic Hwy & #MuirWoods Road. No evacuation orders.'\n",
            " 'Evacuations in place.'\n",
            " 'CAL FIRE and cooperating agencies made significant progress overnight by\\r\\ncompleting containment lines around the fire. Smoke may be visible today from\\r\\nsmoldering heavy fuels well within the containment lines. Fire personnel will be\\r\\nextinguishing these areas today, and will be checking the fire area over the next\\r\\nseveral days. Safety is our number one priority.\\r\\n\\r\\n<p>Evacuations remain as an advisory. \\r\\n\\r\\n<p>All roads are open in both directions. Use caution when driving in the fire area as equipment and personnel may be present.'\n",
            " 'An evacuation order has been issued for 14000 block of Willow Road.'\n",
            " 'A report of smoke showing in the foothills north of Chico was called in to the Emergency Command Center\\r\\r\\nafter 4:30 pm on 5/1/19. Crews made access to a remote private property and found a fire burning\\r\\r\\napproximately 10 acres of grass and oak woodland with a slow rate of spread. By 6:30 pm firefighters had\\r\\r\\nstopped the forward progress of the fire.'\n",
            " 'Fire crews will continue to patrol the area and mop up hot spots throughout the\\r\\nnight.'\n",
            " 'Teamwork, training, and exceptional communication skills paid off for all agencies\\r\\ninvolved as the Glass Fire reaches full containment on all seven fires. Heavy\\r\\nequipment combined with fire personnel reinforced the containment lines to\\r\\ncompletion. Favorable weather helped in advancing the mission quickly, and there\\r\\nare no injuries to report. Expect to see fire personnel in the area checking these\\r\\nfires for the next several days, as your safety is our number one concern'\n",
            " 'Evacuations have been lifted for the areas north of Spruce Grove Rd and south of Noble Ranch Rd, Hwy 29 is closed in the area.'\n",
            " 'Air and ground resources have made progress in slowing the rate of spread.'\n",
            " 'Forward spread stopped'\n",
            " 'Forward rate of spread has been stopped. CAL FIRE resources will remain on scene for mop-up.'\n",
            " '<p>Great response by fire crews. Forward progress has stopped and structure threat mitigated. Fire crews will continue to patrol throughout the night for hot spots.\\r\\nFinal acreage decreased due to more accurate mapping.</p>\\r\\n\\r\\n<p>All evacuation warnings/orders have been lifted.</p>'\n",
            " 'As of 10:00 p.m. on 10/16, the fire is 90% contained and has been TURNED OVER TO THE BUREAU OF INDIAN AFFAIRS. This will be the final update provided by CAL FIRE/Riverside County Fire Department. the Torres-Martinez Indian Reservation.']\n",
            "ControlStatement [nan\n",
            " 'Hwy 243 remains closed between Twin Pines Road and Westley Street in Banning due to road damage.'\n",
            " 'Oak Knolls Road' 'All road closures have been lifted.'\n",
            " 'Toro Creek Road remains closed to non-emergency traffic at Summit Road North of Highway 41. '\n",
            " 'See evacuations above' 'Hwy 128 has been reopened. '\n",
            " 'The road closures have been lifted. '\n",
            " 'Weaver Bally Rd open to normal traffic flow' 'Black Bart Trail East'\n",
            " 'Interstate 15 is closed 3 1/2 miles south of Hwy 76 to .7 miles north of Hwy 76'\n",
            " 'Soft road closure is in place for residents only on Road 426 between Summit Road and Road 223. '\n",
            " 'Traffic on Dog Bar Rd. and associated streets is limited to residents only.'\n",
            " 'The following road closures are in effect: <li>State Route 78 at Manzanita Drive</li><li>Manzanita Drive at Lakeview Drive</li>'\n",
            " 'Bear Valley Road to Hunters Valley Road'\n",
            " 'Highway 168 has been reopened.' 'Open to residents only' 'Hwy 15 open'\n",
            " 'Mix Canyon Road'\n",
            " 'Old Oak Ranch Road  remains closed. Big Hill Road is open.'\n",
            " 'Temporary road closure to Mission Olive Road'\n",
            " 'Chiles Pope Valley Road between highway 128 and Lower Chiles Valley until at least 8:00 AM 6/17/15.'\n",
            " 'Howell Mountain Road between Pope Valley Road and Ink Grade Road. Will remain closed until PG&E completes power line repair.'\n",
            " 'Hwy 97 closed, Stateline Hwy 161 open with traffic control.'\n",
            " 'Bald Hills Road has one lane closed with controlled traffic. Motorist advised to stay out of the area if possible.'\n",
            " 'All road closures have been lifted. '\n",
            " 'All evacuations orders have been lifted.  Residents only will be allowed beyond the road closures. '\n",
            " 'Highway 173 between Grass Valley Rd. and Rock Camp<br>Forest Service Roads 2N33, 2N17X, 2N36, 2N37'\n",
            " 'No current road closures.' 'None'\n",
            " 'All road closures and traffic control points have lifted.' 'none'\n",
            " 'Hwy. 49 between Hwy. 120 and the Tuolumne-Mariposa County line remains closed. Hwy. 49 opened for single-lane traffic with a pilot car at 8:00 o’clock this morning. Marshes Flat Road open to residents only. The Tuolumne County Sheriff’s Department is maintaining the roadblock. '\n",
            " 'Nelson Bar Road at Lunt Road will reopen at 6:00 p.m. tonight (9/7/2016)'\n",
            " 'Rocky Gulch and Hawkinsville Humbug Rd will remain closed to non-residence.'\n",
            " 'All Road closures have been lifted' 'No road closures'\n",
            " 'Highway 89 is estimated to re-open today at noon.  Traffic will be metered through the fire area by Caltrans.  The Highway will be subject to future closure as repair work and tree removal continues and debris is removed from the highway. '\n",
            " 'Auberry Rd. between Granite Creek & Little Wildhorse is closed to traffic.'\n",
            " 'Hwy 32 is open to one-lane traffic'\n",
            " 'Hwy 70 between Clark Rd and Wheelock Rd'\n",
            " \"Mount Aukum Road closed from 4 corners to Tiger's Eye.\"\n",
            " 'All Road Closures are cancelled'\n",
            " 'All Evacuation Orders have been lifted for the impacted fire areas as of October 11, 2017 at 5:00 p.m'\n",
            " 'Cherokee Road is now open. ' 'All roads reopened.'\n",
            " 'San Timoteo Canyon Road CLOSED from Live Oak Road to Palmer Road'\n",
            " 'All Road Closures are lifted. Please drive with caution.'\n",
            " 'Parkfield – Coalinga Grade from Jacalitos Canyon Road to Valerian (V6) Ranch (where asphalt ends)'\n",
            " 'All road closures are lifted. Please drive with caution.'\n",
            " 'Douglas Station Road at Road 225; Rainbow Drive at Road 225; Cascade; Drive at Road 225'\n",
            " '<li>River Road is closed from Pit 4 Dam to Pit 3 Powerhouse</li>'\n",
            " 'Controlled traffic on Hwy 101 ' 'Road closures have been lifted'\n",
            " ' All road closures have been lifted. '\n",
            " 'All roads are open. Please watch your speed on Bear Creek Road as fire vehicles will continue to patrol the area. Be advised that all roads in the fire area are private roads and access should be limited to those with official business.'\n",
            " 'Soft road closures exist at the following locations: Highway 58 at Highway 229 and Highway 58 at O’Donovan Road'\n",
            " 'Hwy 49s is open with no escort, the right passing lane, on Spring Hill, is closed and for fire personnel only. Allred Rd. from Hwy 49s to Morningstar Ln. is open to residents only.'\n",
            " 'All road closures have been lifted in the area of the fire. '\n",
            " 'Honey Run Road remains closed in the fire area.' 'Highway 41 closed'\n",
            " 'There are traffic restrictions through the fire area.'\n",
            " 'All road closures lifted.' 'Hwy 299 shut down both directions'\n",
            " 'Forbestown Rd is now open' 'See Incident Update' 'I-5 is open'\n",
            " 'Walker Ridge Road at Highway 20' 'All roads are open.'\n",
            " 'Some closures still exist in the fire area. Please avoid the fire area for your safety and for our firefighters’ safety.'\n",
            " 'Peabody Road (between Foxboro Road and Chuck Hammond Drive)'\n",
            " 'All roads are opened.'\n",
            " 'All previously closed roads have been reopened. There is still heavy fire apparatus traffic in the area. Extreme caution is advised for people driving in the area.'\n",
            " 'All road closures have been lifted. Please drive with caution, emergency personnel will be working in the area.'\n",
            " 'All road closure have been lifted.' 'Creek Hollow Dr at Old Julian Hwy'\n",
            " 'Forward spreads stopped.'\n",
            " 'The forward spread has been stopped and firefighters continue to make good progress. All evacuation warnings have been lifted. Full containment expected later today.'\n",
            " 'Threat to City of Tecate, Mexico'\n",
            " 'All CAL FIRE Resources have been released from this incident.'\n",
            " 'Full containment expected on 7/16 at 6 p.m.'\n",
            " 'Final acreage: 1,020 (829 acres BLM and 191 Private).'\n",
            " 'Not a CAL FIRE Incident. Please contact the Bureau of Land Management for more information.'\n",
            " 'Fire resources will continue patrolling and mopping up.  Suppression repair work has begun.'\n",
            " 'Firefighters made good progress today extinguishing interior hotspots and securing containment lines. They will continue to mop up and patrol overnight. Residents traveling in the area are asked to drive with caution as fire apparatus and personnel continue to work in the area.'\n",
            " 'Not a CAL FIRE Incident. Please contact the Klamath National Forest for more information.'\n",
            " 'Forward spread has been stopped. Crews will continue with mop up operations to establish full containment.'\n",
            " 'Forward spread stopped.' 'All evacuation orders have been lifted.'\n",
            " 'Forward progress stopped.'\n",
            " 'Crews arrived to a vegetation fire approximately three acres in size. Some hazards in the path of the fire were straw bales and several bee boxes. Quick response from air tankers and firefighters saved both from any damage as well as any structures or infrastructure. The fire was held to 20 acres, no injuries were reported.'\n",
            " 'Cause: Improperly discarded cigarette'\n",
            " 'Fire fighters have made great progress and gained full containment of the fire. Fire crews will continue to patrol the area and mop up any hot spots throughout the evening. Total acreage reduced to 16 due to more accurate mapping.']\n",
            "CrewsInvolved [nan 47. 63. 30. 12. 56. 53. 29.  8. 36. 33.  2. 54. 20. 25.  4.  3. 11.\n",
            " 24.  6.  9. 10. 15. 13.  5. 18.  1.  7. 22. 82. 14. 39. 26. 21. 28. 17.\n",
            " 19. 23. 58.  0. 16.]\n",
            "Dozers [nan  8. 20.  3. 24. 22.  1.  5. 25. 28. 27. 29.  2.  6. 13.  4. 18. 14.\n",
            " 12.  9.  7.  0. 10. 48. 76.]\n",
            "Engines [ nan 117. 201.  36.  30. 183. 131.  34.   5.  62.   3.  73.  95.  42.\n",
            "  37.  29.  25.   1.  15.  26.   6.  31.  17.   4.  24.  10.  13.  21.\n",
            "  19.   8.  20.   2.   7.  46.  12.  57.  23.  35.  18.   9.  11.  14.\n",
            "  47. 138.  92.  51.  55.  41. 256.  22.  45.  98.  69.   0.  16.]\n",
            "Extinguished ['2013-09-06T18:30:00Z' '2013-06-08T18:30:00Z' '2013-07-30T18:00:00Z' ...\n",
            " '2019-06-21T14:23:00Z' '2019-10-10T18:11:00Z' '2019-06-28T17:33:00Z']\n",
            "Fatalities [nan  1.  3.  6. 22.  9.  4. 85.  2.]\n",
            "FuelType [nan 'Grass' 'timber' 'Vegetation' 'Brush' 'grass and brush'\n",
            " 'Grass and Brush' 'grass' 'brush and timber']\n",
            "Helicopters [nan 11. 20.  5.  9.  6.  1. 25. 27. 29.  2. 24. 18.  4. 10.  3.  0.  7.]\n",
            "Injuries [nan 10. 26.  5.  6. 12.  4.  2.  1. 11.  7. 21. 15.  3.  9. 14.  0.  8.]\n",
            "PercentContained [100.  nan]\n",
            "PersonnelInvolved [  nan 2167. 2106.  898.  342. 2147. 1811.  847.  188.  726.  231.  911.\n",
            " 1484.  112. 1217.  502.  282.  476.    4.  259.  294.  221.  347.  150.\n",
            "   60.  249.  285.   80.   35.  292.   44.  219.  169.   65.   78.  297.\n",
            "   87.    0.   40.  583.  514.  211.  427.   32.  548.   46.  453.   15.\n",
            "  835.   90.   53.   91.   10.  256.  356.  108.   42.   51.  227.  100.\n",
            " 1392.  215.   18.  692.   27.   13.   55.   54.  613.   43.  102.  270.\n",
            "    8.  120.  115.   57.  250.  275.   45.   20.   59.  379.  190.   70.\n",
            "  103.   49.  195.  914.  960.   58.   62.   22.  167.   14.   92.  133.\n",
            "  174.  241.  168.  350.   86. 1728.  153.  432.  677.   97.  652.  148.\n",
            "  123.  665.  727.  317.  380.   48.  435.  498.  212.  220.   76.   85.\n",
            "  596.  456. 1065. 3100.  196.  564.  180.  325.   98.  192.   83.  105.\n",
            "  247.  126.  468.  269.  626. 1936.  206.   19.  509.   69.  515.  185.\n",
            "  187.  163.  235.   16.    9.  328.   25.   74.]\n",
            "SearchDescription ['The Rim Fire was east of Groveland along Highway 20.'\n",
            " 'The Powerhouse Fire burned in May and June 2013 on the Angeles National Forest in Los Angeles County. '\n",
            " 'The Mountain Fire burned in July 2013 off Highway 243 and Highway 74 near Mountain Center in Riverside County on the San Bernardino National Forest. '\n",
            " ...\n",
            " 'The Cashe Fire started November 25, 2019 off County Road 102 and County Road 17, North of Woodland in Yolo county.'\n",
            " 'The Oak Fire started October 22, 2019 off near Basilone Road and Las Pulgas Road, near Camp Pendleton North in San Diego County.'\n",
            " 'The Johnson Fire started October 14, 2019 off Johnson Street and Ave 82 in Riverside County.']\n",
            "SearchKeywords ['Rim Fire, Stanislaus National Forest, Yosemite, Yosemite National Park, Rim Fire, Tuolumne County, Tuolumne, Groveland, Hwy 120, Highway 120'\n",
            " 'Powerhouse Fire, May 2013, June 2013, Angeles National Forest, Los Angeles County\\r\\r\\n267'\n",
            " 'Mountain Fire, July 2013, Highway 243, Highway 74, Mountain Center, Riverside County, San Bernardino National Forest'\n",
            " ... 'Preston Fire, Preston Lane, Jamestown, Tuolumne County'\n",
            " '32 Fire, Humboldt Road, Highway 32, Butte County'\n",
            " 'Electra Fire, September 25, 2019, Amador County.']\n",
            "StructuresDamaged [ nan   6.   8.  10.   9.   1.   7.   2.   5.   4.   3.  28. 280.  21.\n",
            " 172. 783. 317.  44.  26.  55.  60.  64.  61. 341.  12.  16.  88.  27.\n",
            "   0.]\n",
            "StructuresDestroyed [       nan 1.0000e+01 4.0000e+01 2.0100e+02 1.4900e+02 1.0000e+00\n",
            " 7.0000e+00 0.0000e+00 4.0000e+00 9.0000e+00 8.0000e+01 2.1000e+01\n",
            " 6.0000e+00 2.0000e+01 6.7000e+01 3.0000e+00 4.7000e+01 1.6500e+02\n",
            " 1.1000e+01 6.9000e+01 9.6000e+01 2.7000e+01 6.8000e+01 2.0000e+00\n",
            " 2.3000e+01 1.6000e+01 5.0000e+00 7.0000e+01 3.2100e+02 2.8000e+01\n",
            " 3.0000e+02 1.0630e+03 1.3100e+02 1.3550e+03 1.2000e+02 5.6360e+03\n",
            " 5.4600e+02 3.7000e+01 2.6400e+02 2.5000e+01 7.4000e+01 4.1000e+01\n",
            " 1.5700e+02 5.4000e+01 1.6200e+02 4.8000e+01 1.3000e+01 2.4600e+02\n",
            " 1.6140e+03 1.8804e+04 1.6430e+03 2.9000e+01 4.2000e+01 3.5000e+01\n",
            " 8.3000e+01 2.4000e+01 2.2000e+01 1.2000e+01 8.0000e+00 3.7400e+02\n",
            " 1.9000e+01 1.4000e+01]\n",
            "StructuresEvacuated [nan]\n",
            "StructuresThreatened [  nan    0.  176.   50. 1200. 1100.   40.   54. 2600.  540.    5. 1050.\n",
            " 1025.   10.   24.]\n",
            "WaterTenders [nan 11. 20.  8. 24. 40. 12.  7.  4. 26. 25. 27. 29.  3.  5.  2. 13. 18.\n",
            "  1. 10.  6.  9. 31. 79. 23.]\n"
          ]
        }
      ],
      "source": [
        "for col in null_cols:\n",
        "    print(col,(california_fire_incidents[col].unique()))"
      ]
    },
    {
      "cell_type": "markdown",
      "metadata": {
        "id": "vp4vYJbmFZn0"
      },
      "source": [
        "Differentiating numeric and non-numeric null columns"
      ]
    },
    {
      "cell_type": "code",
      "execution_count": null,
      "metadata": {
        "execution": {
          "iopub.execute_input": "2022-04-13T12:37:12.374621Z",
          "iopub.status.busy": "2022-04-13T12:37:12.374346Z",
          "iopub.status.idle": "2022-04-13T12:37:12.391294Z",
          "shell.execute_reply": "2022-04-13T12:37:12.389121Z",
          "shell.execute_reply.started": "2022-04-13T12:37:12.374592Z"
        },
        "id": "T4b4CIAPFZn1",
        "outputId": "68131cd4-451c-4fb5-f3d0-33b84fc0399f"
      },
      "outputs": [
        {
          "name": "stdout",
          "output_type": "stream",
          "text": [
            "AcresBurned float64\n",
            "AirTankers float64\n",
            "ConditionStatement object\n",
            "ControlStatement object\n",
            "CrewsInvolved float64\n",
            "Dozers float64\n",
            "Engines float64\n",
            "Extinguished object\n",
            "Fatalities float64\n",
            "FuelType object\n",
            "Helicopters float64\n",
            "Injuries float64\n",
            "PercentContained float64\n",
            "PersonnelInvolved float64\n",
            "SearchDescription object\n",
            "SearchKeywords object\n",
            "StructuresDamaged float64\n",
            "StructuresDestroyed float64\n",
            "StructuresEvacuated float64\n",
            "StructuresThreatened float64\n",
            "WaterTenders float64\n"
          ]
        }
      ],
      "source": [
        "numeric_null_cols = []\n",
        "non_numeric_null_cols = []\n",
        "for col in null_cols:\n",
        "    print(col,(california_fire_incidents[col].dtype))\n",
        "    numeric_null_cols.append(col) if np.issubdtype(california_fire_incidents[col].dtype,float) else non_numeric_null_cols.append(col)"
      ]
    },
    {
      "cell_type": "code",
      "execution_count": null,
      "metadata": {
        "execution": {
          "iopub.execute_input": "2022-04-13T12:37:12.394545Z",
          "iopub.status.busy": "2022-04-13T12:37:12.394195Z",
          "iopub.status.idle": "2022-04-13T12:37:12.416815Z",
          "shell.execute_reply": "2022-04-13T12:37:12.415848Z",
          "shell.execute_reply.started": "2022-04-13T12:37:12.394509Z"
        },
        "id": "7i6fC6YzFZn1",
        "outputId": "860dee5c-38dc-4b52-e278-87684b8a3f75"
      },
      "outputs": [
        {
          "name": "stdout",
          "output_type": "stream",
          "text": [
            "AcresBurned float64\n",
            "Active bool\n",
            "AdminUnit object\n",
            "AirTankers float64\n",
            "ArchiveYear int64\n",
            "CalFireIncident bool\n",
            "CanonicalUrl object\n",
            "ConditionStatement object\n",
            "ControlStatement object\n",
            "Counties object\n",
            "CountyIds object\n",
            "CrewsInvolved float64\n",
            "Dozers float64\n",
            "Engines float64\n",
            "Extinguished object\n",
            "Fatalities float64\n",
            "Featured bool\n",
            "Final bool\n",
            "FuelType object\n",
            "Helicopters float64\n",
            "Injuries float64\n",
            "Latitude float64\n",
            "Location object\n",
            "Longitude float64\n",
            "MajorIncident bool\n",
            "Name object\n",
            "PercentContained float64\n",
            "PersonnelInvolved float64\n",
            "Public bool\n",
            "SearchDescription object\n",
            "SearchKeywords object\n",
            "Started object\n",
            "Status object\n",
            "StructuresDamaged float64\n",
            "StructuresDestroyed float64\n",
            "StructuresEvacuated float64\n",
            "StructuresThreatened float64\n",
            "UniqueId object\n",
            "Updated object\n",
            "WaterTenders float64\n"
          ]
        }
      ],
      "source": [
        "numeric_cols = []\n",
        "non_numeric_cols = []\n",
        "for col in california_fire_incidents.columns:\n",
        "    print(col,(california_fire_incidents[col].dtype))\n",
        "    numeric_cols.append(col) if np.issubdtype(california_fire_incidents[col].dtype,float) else non_numeric_cols.append(col)"
      ]
    },
    {
      "cell_type": "code",
      "execution_count": null,
      "metadata": {
        "execution": {
          "iopub.execute_input": "2022-04-13T12:37:12.419111Z",
          "iopub.status.busy": "2022-04-13T12:37:12.418164Z",
          "iopub.status.idle": "2022-04-13T12:37:12.428283Z",
          "shell.execute_reply": "2022-04-13T12:37:12.426822Z",
          "shell.execute_reply.started": "2022-04-13T12:37:12.419071Z"
        },
        "id": "_G4jYFZ0FZn1",
        "outputId": "eefd862d-29b3-4c11-ea71-ba1ee543c577"
      },
      "outputs": [
        {
          "name": "stdout",
          "output_type": "stream",
          "text": [
            "17 23 40\n"
          ]
        }
      ],
      "source": [
        "print(len(numeric_cols),len(non_numeric_cols),len(california_fire_incidents.columns))"
      ]
    },
    {
      "cell_type": "markdown",
      "metadata": {
        "id": "f-D89M6pFZn1"
      },
      "source": [
        "## Data cleaning"
      ]
    },
    {
      "cell_type": "markdown",
      "metadata": {
        "id": "zqksbUHLFZn1"
      },
      "source": [
        "Finding columns which have more than 50% null values so that they can be removed."
      ]
    },
    {
      "cell_type": "code",
      "execution_count": null,
      "metadata": {
        "execution": {
          "iopub.execute_input": "2022-04-13T12:37:12.430159Z",
          "iopub.status.busy": "2022-04-13T12:37:12.429866Z",
          "iopub.status.idle": "2022-04-13T12:37:12.482297Z",
          "shell.execute_reply": "2022-04-13T12:37:12.481082Z",
          "shell.execute_reply.started": "2022-04-13T12:37:12.430113Z"
        },
        "id": "_ooPi24wFZn1",
        "outputId": "2b6dffa6-bcfb-40d3-8a85-dec6a1067f0a"
      },
      "outputs": [
        {
          "name": "stdout",
          "output_type": "stream",
          "text": [
            "AcresBurned\n",
            "0.18337408312958436\n",
            "\n",
            "Active\n",
            "0.0\n",
            "\n",
            "AdminUnit\n",
            "0.0\n",
            "\n",
            "AirTankers\n",
            "98.2885085574572\n",
            "To be removed\n",
            "\n",
            "ArchiveYear\n",
            "0.0\n",
            "\n",
            "CalFireIncident\n",
            "0.0\n",
            "\n",
            "CanonicalUrl\n",
            "0.0\n",
            "\n",
            "ConditionStatement\n",
            "82.64058679706602\n",
            "To be removed\n",
            "\n",
            "ControlStatement\n",
            "93.21515892420538\n",
            "To be removed\n",
            "\n",
            "Counties\n",
            "0.0\n",
            "\n",
            "CountyIds\n",
            "0.0\n",
            "\n",
            "CrewsInvolved\n",
            "89.54767726161369\n",
            "To be removed\n",
            "\n",
            "Dozers\n",
            "92.48166259168704\n",
            "To be removed\n",
            "\n",
            "Engines\n",
            "88.32518337408312\n",
            "To be removed\n",
            "\n",
            "Extinguished\n",
            "3.606356968215159\n",
            "\n",
            "Fatalities\n",
            "98.71638141809291\n",
            "To be removed\n",
            "\n",
            "Featured\n",
            "0.0\n",
            "\n",
            "Final\n",
            "0.0\n",
            "\n",
            "FuelType\n",
            "99.26650366748166\n",
            "To be removed\n",
            "\n",
            "Helicopters\n",
            "94.86552567237163\n",
            "To be removed\n",
            "\n",
            "Injuries\n",
            "92.66503667481662\n",
            "To be removed\n",
            "\n",
            "Latitude\n",
            "0.0\n",
            "\n",
            "Location\n",
            "0.0\n",
            "\n",
            "Longitude\n",
            "0.0\n",
            "\n",
            "MajorIncident\n",
            "0.0\n",
            "\n",
            "Name\n",
            "0.0\n",
            "\n",
            "PercentContained\n",
            "0.18337408312958436\n",
            "\n",
            "PersonnelInvolved\n",
            "87.53056234718827\n",
            "To be removed\n",
            "\n",
            "Public\n",
            "0.0\n",
            "\n",
            "SearchDescription\n",
            "1.039119804400978\n",
            "\n",
            "SearchKeywords\n",
            "12.408312958435207\n",
            "\n",
            "Started\n",
            "0.0\n",
            "\n",
            "Status\n",
            "0.0\n",
            "\n",
            "StructuresDamaged\n",
            "95.90464547677261\n",
            "To be removed\n",
            "\n",
            "StructuresDestroyed\n",
            "89.30317848410758\n",
            "To be removed\n",
            "\n",
            "StructuresEvacuated\n",
            "100.0\n",
            "To be removed\n",
            "\n",
            "StructuresThreatened\n",
            "98.16625916870416\n",
            "To be removed\n",
            "\n",
            "UniqueId\n",
            "0.0\n",
            "\n",
            "Updated\n",
            "0.0\n",
            "\n",
            "WaterTenders\n",
            "91.0757946210269\n",
            "To be removed\n",
            "\n"
          ]
        }
      ],
      "source": [
        "cols_to_remove = []\n",
        "for col in california_fire_incidents.columns:\n",
        "    print(col)\n",
        "    null_percentage = (california_fire_incidents[col].isna().sum()*100)/len(california_fire_incidents)\n",
        "    print(null_percentage)\n",
        "    if null_percentage > 50.0:\n",
        "        cols_to_remove.append(col)\n",
        "        print(\"To be removed\")\n",
        "    print()"
      ]
    },
    {
      "cell_type": "code",
      "execution_count": null,
      "metadata": {
        "execution": {
          "iopub.execute_input": "2022-04-13T12:37:12.485690Z",
          "iopub.status.busy": "2022-04-13T12:37:12.485345Z",
          "iopub.status.idle": "2022-04-13T12:37:12.493673Z",
          "shell.execute_reply": "2022-04-13T12:37:12.492269Z",
          "shell.execute_reply.started": "2022-04-13T12:37:12.485646Z"
        },
        "id": "ALS8I86-FZn2",
        "outputId": "4d4ca2a5-5590-4439-994c-9d67fab2e41f"
      },
      "outputs": [
        {
          "data": {
            "text/plain": [
              "['AirTankers',\n",
              " 'ConditionStatement',\n",
              " 'ControlStatement',\n",
              " 'CrewsInvolved',\n",
              " 'Dozers',\n",
              " 'Engines',\n",
              " 'Fatalities',\n",
              " 'FuelType',\n",
              " 'Helicopters',\n",
              " 'Injuries',\n",
              " 'PersonnelInvolved',\n",
              " 'StructuresDamaged',\n",
              " 'StructuresDestroyed',\n",
              " 'StructuresEvacuated',\n",
              " 'StructuresThreatened',\n",
              " 'WaterTenders']"
            ]
          },
          "execution_count": 67,
          "metadata": {},
          "output_type": "execute_result"
        }
      ],
      "source": [
        "cols_to_remove"
      ]
    },
    {
      "cell_type": "code",
      "execution_count": null,
      "metadata": {
        "execution": {
          "iopub.execute_input": "2022-04-13T12:37:12.495108Z",
          "iopub.status.busy": "2022-04-13T12:37:12.494769Z",
          "iopub.status.idle": "2022-04-13T12:37:12.506519Z",
          "shell.execute_reply": "2022-04-13T12:37:12.505786Z",
          "shell.execute_reply.started": "2022-04-13T12:37:12.495059Z"
        },
        "id": "soo2hL4eFZn2"
      },
      "outputs": [],
      "source": [
        "california_fire_incidents.drop(cols_to_remove,  axis='columns', inplace=True)"
      ]
    },
    {
      "cell_type": "code",
      "execution_count": null,
      "metadata": {
        "execution": {
          "iopub.execute_input": "2022-04-13T12:37:12.508493Z",
          "iopub.status.busy": "2022-04-13T12:37:12.507679Z",
          "iopub.status.idle": "2022-04-13T12:37:12.538940Z",
          "shell.execute_reply": "2022-04-13T12:37:12.537876Z",
          "shell.execute_reply.started": "2022-04-13T12:37:12.508455Z"
        },
        "id": "D_6Vs-piFZn2",
        "outputId": "51ec4a91-763d-4e46-a0ce-a726e12c2f81"
      },
      "outputs": [
        {
          "name": "stdout",
          "output_type": "stream",
          "text": [
            "<class 'pandas.core.frame.DataFrame'>\n",
            "RangeIndex: 1636 entries, 0 to 1635\n",
            "Data columns (total 24 columns):\n",
            " #   Column             Non-Null Count  Dtype  \n",
            "---  ------             --------------  -----  \n",
            " 0   AcresBurned        1633 non-null   float64\n",
            " 1   Active             1636 non-null   bool   \n",
            " 2   AdminUnit          1636 non-null   object \n",
            " 3   ArchiveYear        1636 non-null   int64  \n",
            " 4   CalFireIncident    1636 non-null   bool   \n",
            " 5   CanonicalUrl       1636 non-null   object \n",
            " 6   Counties           1636 non-null   object \n",
            " 7   CountyIds          1636 non-null   object \n",
            " 8   Extinguished       1577 non-null   object \n",
            " 9   Featured           1636 non-null   bool   \n",
            " 10  Final              1636 non-null   bool   \n",
            " 11  Latitude           1636 non-null   float64\n",
            " 12  Location           1636 non-null   object \n",
            " 13  Longitude          1636 non-null   float64\n",
            " 14  MajorIncident      1636 non-null   bool   \n",
            " 15  Name               1636 non-null   object \n",
            " 16  PercentContained   1633 non-null   float64\n",
            " 17  Public             1636 non-null   bool   \n",
            " 18  SearchDescription  1619 non-null   object \n",
            " 19  SearchKeywords     1433 non-null   object \n",
            " 20  Started            1636 non-null   object \n",
            " 21  Status             1636 non-null   object \n",
            " 22  UniqueId           1636 non-null   object \n",
            " 23  Updated            1636 non-null   object \n",
            "dtypes: bool(6), float64(4), int64(1), object(13)\n",
            "memory usage: 156.6+ KB\n"
          ]
        }
      ],
      "source": [
        "california_fire_incidents.info()"
      ]
    },
    {
      "cell_type": "markdown",
      "metadata": {
        "id": "k4A9amfnFZn2"
      },
      "source": [
        "## Imputing null values"
      ]
    },
    {
      "cell_type": "code",
      "execution_count": null,
      "metadata": {
        "execution": {
          "iopub.execute_input": "2022-04-13T12:37:12.541098Z",
          "iopub.status.busy": "2022-04-13T12:37:12.540783Z",
          "iopub.status.idle": "2022-04-13T12:37:12.620315Z",
          "shell.execute_reply": "2022-04-13T12:37:12.618356Z",
          "shell.execute_reply.started": "2022-04-13T12:37:12.541065Z"
        },
        "id": "kiaE4JxnFZn2",
        "outputId": "4d86a9e2-8f0e-4e88-fce1-023f992f312e"
      },
      "outputs": [
        {
          "name": "stdout",
          "output_type": "stream",
          "text": [
            "\n",
            "Non-categorical\n",
            "AcresBurned 4589.4439681567665\n",
            "\n",
            "Non-categorical\n",
            "Active 0.0\n",
            "\n",
            "Categorical\n",
            "AdminUnit CAL FIRE Sonoma-Lake-Napa Unit\n",
            "\n",
            "Non-categorical\n",
            "ArchiveYear 2016.6088019559902\n",
            "\n",
            "Non-categorical\n",
            "CalFireIncident 0.7646699266503667\n",
            "\n",
            "Categorical\n",
            "CanonicalUrl /incidents/2013/6/10/sonoma-lake-napa-unit-lightning-fires/\n",
            "\n",
            "Categorical\n",
            "Counties Riverside\n",
            "\n",
            "Categorical\n",
            "CountyIds 33\n",
            "\n",
            "Categorical\n",
            "Extinguished 2018-01-09T13:46:00Z\n",
            "\n",
            "Non-categorical\n",
            "Featured 0.01589242053789731\n",
            "\n",
            "Non-categorical\n",
            "Final 0.9987775061124694\n",
            "\n",
            "Non-categorical\n",
            "Latitude 37.20397519564249\n",
            "\n",
            "Categorical\n",
            "Location off Highway 20 near Potter Valley, northeast of Ukiah \n",
            "\n",
            "Non-categorical\n",
            "Longitude -108.08264222443425\n",
            "\n",
            "Non-categorical\n",
            "MajorIncident 0.2341075794621027\n",
            "\n",
            "Categorical\n",
            "Name Creek Fire\n",
            "\n",
            "Non-categorical\n",
            "PercentContained 100.0\n",
            "\n",
            "Non-categorical\n",
            "Public 1.0\n",
            "\n",
            "Categorical\n",
            "SearchDescription The Ranch Fire started July 27, 2018 off Highway 20 near Potter Valley, northeast of Ukiah (Mendocino County). This fire was contained on September 19, 2018 and burned 410,203 acres.\n",
            "\n",
            "Mendocino Complex - Size 459,123 total acres\n",
            "\n",
            "Categorical\n",
            "SearchKeywords June 2019\n",
            "\n",
            "Categorical\n",
            "Started 2013-06-10T00:46:00Z\n",
            "\n",
            "Categorical\n",
            "Status Finalized\n",
            "\n",
            "Categorical\n",
            "UniqueId 5ce45b6c-81b5-422c-9078-8c68dd872c8a\n",
            "\n",
            "Categorical\n",
            "Updated 2018-01-09T13:46:00Z\n"
          ]
        }
      ],
      "source": [
        "categorical_columns = []\n",
        "for col in california_fire_incidents.columns:\n",
        "    if np.issubdtype(california_fire_incidents[col].dtype,object):\n",
        "        print('\\nCategorical')\n",
        "        print(col,california_fire_incidents[col].mode()[0])\n",
        "        california_fire_incidents[col] = california_fire_incidents[col].fillna(california_fire_incidents[col].mode()[0])\n",
        "        categorical_columns.append(col)\n",
        "    \n",
        "    else:\n",
        "        print('\\nNon-categorical')\n",
        "        print(col,california_fire_incidents[col].mean())\n",
        "        california_fire_incidents[col] = california_fire_incidents[col].fillna(california_fire_incidents[col].median())"
      ]
    },
    {
      "cell_type": "markdown",
      "metadata": {
        "id": "ZMueSbYzFZn2"
      },
      "source": [
        "## Encoding categorical values"
      ]
    },
    {
      "cell_type": "code",
      "execution_count": null,
      "metadata": {
        "execution": {
          "iopub.execute_input": "2022-04-13T12:37:12.623542Z",
          "iopub.status.busy": "2022-04-13T12:37:12.623022Z",
          "iopub.status.idle": "2022-04-13T12:37:12.655442Z",
          "shell.execute_reply": "2022-04-13T12:37:12.654202Z",
          "shell.execute_reply.started": "2022-04-13T12:37:12.623493Z"
        },
        "id": "ESCRqH56FZn2"
      },
      "outputs": [],
      "source": [
        "labelencoder = preprocessing.LabelEncoder()\n",
        "\n",
        "for col in categorical_columns:\n",
        "    california_fire_incidents[col] = labelencoder.fit_transform(california_fire_incidents[col])"
      ]
    },
    {
      "cell_type": "code",
      "execution_count": null,
      "metadata": {
        "execution": {
          "iopub.execute_input": "2022-04-13T12:37:12.656987Z",
          "iopub.status.busy": "2022-04-13T12:37:12.656716Z",
          "iopub.status.idle": "2022-04-13T12:37:12.661746Z",
          "shell.execute_reply": "2022-04-13T12:37:12.660832Z",
          "shell.execute_reply.started": "2022-04-13T12:37:12.656955Z"
        },
        "id": "9Nf-N-QHFZn3"
      },
      "outputs": [],
      "source": [
        "# california_fire_incidents.fillna({'AcresBurned': 0, 'AirTankers': 0, 'ConditionStatement':'', 'ControlStatement':'', \n",
        "#                 'CrewsInvolved': 0, 'Dozers': 0, 'Engines': 0, 'Extinguished': 0, 'Fatalities': 0,\n",
        "#                'FuelType':'', 'Helicopters': 0, 'Injuries': 0, 'PersonnelInvolved': 0,\n",
        "#                'SearchDescription':'', 'StructuresDamaged': 0, 'StructuresDestroyed': 0,\n",
        "#                'StructuresEvacuated': 0, 'StructuresThreatened': 0, 'WaterTenders': 0}, inplace=True)"
      ]
    },
    {
      "cell_type": "markdown",
      "metadata": {
        "id": "Yy0JDk2UFZn3"
      },
      "source": [
        "# EDA after First Stage of Cleaning "
      ]
    },
    {
      "cell_type": "code",
      "execution_count": null,
      "metadata": {
        "execution": {
          "iopub.execute_input": "2022-04-13T12:37:12.663545Z",
          "iopub.status.busy": "2022-04-13T12:37:12.663221Z",
          "iopub.status.idle": "2022-04-13T12:37:17.221339Z",
          "shell.execute_reply": "2022-04-13T12:37:17.220226Z",
          "shell.execute_reply.started": "2022-04-13T12:37:12.663502Z"
        },
        "id": "rkDgGlShFZn3",
        "outputId": "a6a1044c-bdac-4e1f-8ede-aa4e4b9596a3"
      },
      "outputs": [
        {
          "name": "stdout",
          "output_type": "stream",
          "text": [
            "AcresBurned\n"
          ]
        },
        {
          "data": {
            "image/png": "[encoded data removed]",
            "text/plain": [
              "<Figure size 432x288 with 1 Axes>"
            ]
          },
          "metadata": {
            "needs_background": "light"
          },
          "output_type": "display_data"
        },
        {
          "name": "stdout",
          "output_type": "stream",
          "text": [
            "Active\n"
          ]
        },
        {
          "data": {
            "image/png": "[encoded data removed]",
            "text/plain": [
              "<Figure size 432x288 with 1 Axes>"
            ]
          },
          "metadata": {
            "needs_background": "light"
          },
          "output_type": "display_data"
        },
        {
          "name": "stdout",
          "output_type": "stream",
          "text": [
            "AdminUnit\n"
          ]
        },
        {
          "data": {
            "image/png": "[encoded data removed]",
            "text/plain": [
              "<Figure size 432x288 with 1 Axes>"
            ]
          },
          "metadata": {
            "needs_background": "light"
          },
          "output_type": "display_data"
        },
        {
          "name": "stdout",
          "output_type": "stream",
          "text": [
            "ArchiveYear\n"
          ]
        },
        {
          "data": {
            "image/png": "[encoded data removed]",
            "text/plain": [
              "<Figure size 432x288 with 1 Axes>"
            ]
          },
          "metadata": {
            "needs_background": "light"
          },
          "output_type": "display_data"
        },
        {
          "name": "stdout",
          "output_type": "stream",
          "text": [
            "CalFireIncident\n"
          ]
        },
        {
          "data": {
            "image/png": "[encoded data removed]",
            "text/plain": [
              "<Figure size 432x288 with 1 Axes>"
            ]
          },
          "metadata": {
            "needs_background": "light"
          },
          "output_type": "display_data"
        },
        {
          "name": "stdout",
          "output_type": "stream",
          "text": [
            "CanonicalUrl\n"
          ]
        },
        {
          "data": {
            "image/png": "[encoded data removed]",
            "text/plain": [
              "<Figure size 432x288 with 1 Axes>"
            ]
          },
          "metadata": {
            "needs_background": "light"
          },
          "output_type": "display_data"
        },
        {
          "name": "stdout",
          "output_type": "stream",
          "text": [
            "Counties\n"
          ]
        },
        {
          "data": {
            "image/png": "[encoded data removed]",
            "text/plain": [
              "<Figure size 432x288 with 1 Axes>"
            ]
          },
          "metadata": {
            "needs_background": "light"
          },
          "output_type": "display_data"
        },
        {
          "name": "stdout",
          "output_type": "stream",
          "text": [
            "CountyIds\n"
          ]
        },
        {
          "data": {
            "image/png": "[encoded data removed]",
            "text/plain": [
              "<Figure size 432x288 with 1 Axes>"
            ]
          },
          "metadata": {
            "needs_background": "light"
          },
          "output_type": "display_data"
        },
        {
          "name": "stdout",
          "output_type": "stream",
          "text": [
            "Extinguished\n"
          ]
        },
        {
          "data": {
            "image/png": "[encoded data removed]",
            "text/plain": [
              "<Figure size 432x288 with 1 Axes>"
            ]
          },
          "metadata": {
            "needs_background": "light"
          },
          "output_type": "display_data"
        },
        {
          "name": "stdout",
          "output_type": "stream",
          "text": [
            "Featured\n"
          ]
        },
        {
          "data": {
            "image/png": "[encoded data removed]",
            "text/plain": [
              "<Figure size 432x288 with 1 Axes>"
            ]
          },
          "metadata": {
            "needs_background": "light"
          },
          "output_type": "display_data"
        },
        {
          "name": "stdout",
          "output_type": "stream",
          "text": [
            "Final\n"
          ]
        },
        {
          "data": {
            "image/png": "[encoded data removed]",
            "text/plain": [
              "<Figure size 432x288 with 1 Axes>"
            ]
          },
          "metadata": {
            "needs_background": "light"
          },
          "output_type": "display_data"
        },
        {
          "name": "stdout",
          "output_type": "stream",
          "text": [
            "Latitude\n"
          ]
        },
        {
          "data": {
            "image/png": "[encoded data removed]",
            "text/plain": [
              "<Figure size 432x288 with 1 Axes>"
            ]
          },
          "metadata": {
            "needs_background": "light"
          },
          "output_type": "display_data"
        },
        {
          "name": "stdout",
          "output_type": "stream",
          "text": [
            "Location\n"
          ]
        },
        {
          "data": {
            "image/png": "[encoded data removed]",
            "text/plain": [
              "<Figure size 432x288 with 1 Axes>"
            ]
          },
          "metadata": {
            "needs_background": "light"
          },
          "output_type": "display_data"
        },
        {
          "name": "stdout",
          "output_type": "stream",
          "text": [
            "Longitude\n"
          ]
        },
        {
          "data": {
            "image/png": "[encoded data removed]",
            "text/plain": [
              "<Figure size 432x288 with 1 Axes>"
            ]
          },
          "metadata": {
            "needs_background": "light"
          },
          "output_type": "display_data"
        },
        {
          "name": "stdout",
          "output_type": "stream",
          "text": [
            "MajorIncident\n"
          ]
        },
        {
          "data": {
            "image/png": "[encoded data removed]",
            "text/plain": [
              "<Figure size 432x288 with 1 Axes>"
            ]
          },
          "metadata": {
            "needs_background": "light"
          },
          "output_type": "display_data"
        },
        {
          "name": "stdout",
          "output_type": "stream",
          "text": [
            "Name\n"
          ]
        },
        {
          "data": {
            "image/png": "[encoded data removed]",
            "text/plain": [
              "<Figure size 432x288 with 1 Axes>"
            ]
          },
          "metadata": {
            "needs_background": "light"
          },
          "output_type": "display_data"
        },
        {
          "name": "stdout",
          "output_type": "stream",
          "text": [
            "PercentContained\n"
          ]
        },
        {
          "data": {
            "image/png": "[encoded data removed]",
            "text/plain": [
              "<Figure size 432x288 with 1 Axes>"
            ]
          },
          "metadata": {
            "needs_background": "light"
          },
          "output_type": "display_data"
        },
        {
          "name": "stdout",
          "output_type": "stream",
          "text": [
            "Public\n"
          ]
        },
        {
          "data": {
            "image/png": "[encoded data removed]",
            "text/plain": [
              "<Figure size 432x288 with 1 Axes>"
            ]
          },
          "metadata": {
            "needs_background": "light"
          },
          "output_type": "display_data"
        },
        {
          "name": "stdout",
          "output_type": "stream",
          "text": [
            "SearchDescription\n"
          ]
        },
        {
          "data": {
            "image/png": "[encoded data removed]",
            "text/plain": [
              "<Figure size 432x288 with 1 Axes>"
            ]
          },
          "metadata": {
            "needs_background": "light"
          },
          "output_type": "display_data"
        },
        {
          "name": "stdout",
          "output_type": "stream",
          "text": [
            "SearchKeywords\n"
          ]
        },
        {
          "data": {
            "image/png": "[encoded data removed]",
            "text/plain": [
              "<Figure size 432x288 with 1 Axes>"
            ]
          },
          "metadata": {
            "needs_background": "light"
          },
          "output_type": "display_data"
        },
        {
          "name": "stdout",
          "output_type": "stream",
          "text": [
            "Started\n"
          ]
        },
        {
          "data": {
            "image/png": "[encoded data removed]",
            "text/plain": [
              "<Figure size 432x288 with 1 Axes>"
            ]
          },
          "metadata": {
            "needs_background": "light"
          },
          "output_type": "display_data"
        },
        {
          "name": "stdout",
          "output_type": "stream",
          "text": [
            "Status\n"
          ]
        },
        {
          "data": {
            "image/png": "[encoded data removed]",
            "text/plain": [
              "<Figure size 432x288 with 1 Axes>"
            ]
          },
          "metadata": {
            "needs_background": "light"
          },
          "output_type": "display_data"
        },
        {
          "name": "stdout",
          "output_type": "stream",
          "text": [
            "UniqueId\n"
          ]
        },
        {
          "data": {
            "image/png": "[encoded data removed]",
            "text/plain": [
              "<Figure size 432x288 with 1 Axes>"
            ]
          },
          "metadata": {
            "needs_background": "light"
          },
          "output_type": "display_data"
        },
        {
          "name": "stdout",
          "output_type": "stream",
          "text": [
            "Updated\n"
          ]
        },
        {
          "data": {
            "image/png": "[encoded data removed]",
            "text/plain": [
              "<Figure size 432x288 with 1 Axes>"
            ]
          },
          "metadata": {
            "needs_background": "light"
          },
          "output_type": "display_data"
        }
      ],
      "source": [
        "for col in california_fire_incidents.columns:\n",
        "    print(col)\n",
        "    plt.boxplot(california_fire_incidents[col])\n",
        "    plt.show()"
      ]
    },
    {
      "cell_type": "markdown",
      "metadata": {
        "id": "1Cq-2ZomFZn4"
      },
      "source": [
        "Now we can see that there are many outliers"
      ]
    },
    {
      "cell_type": "code",
      "execution_count": null,
      "metadata": {
        "execution": {
          "iopub.execute_input": "2022-04-13T12:37:17.226209Z",
          "iopub.status.busy": "2022-04-13T12:37:17.225516Z",
          "iopub.status.idle": "2022-04-13T12:37:17.233685Z",
          "shell.execute_reply": "2022-04-13T12:37:17.232773Z",
          "shell.execute_reply.started": "2022-04-13T12:37:17.226167Z"
        },
        "id": "Cy1YWT_YFZn4",
        "outputId": "780852cc-1d03-4133-c114-5bb02c7d3f14"
      },
      "outputs": [
        {
          "data": {
            "text/plain": [
              "Index(['AcresBurned', 'Active', 'AdminUnit', 'ArchiveYear', 'CalFireIncident',\n",
              "       'CanonicalUrl', 'Counties', 'CountyIds', 'Extinguished', 'Featured',\n",
              "       'Final', 'Latitude', 'Location', 'Longitude', 'MajorIncident', 'Name',\n",
              "       'PercentContained', 'Public', 'SearchDescription', 'SearchKeywords',\n",
              "       'Started', 'Status', 'UniqueId', 'Updated'],\n",
              "      dtype='object')"
            ]
          },
          "execution_count": 74,
          "metadata": {},
          "output_type": "execute_result"
        }
      ],
      "source": [
        "california_fire_incidents.columns"
      ]
    },
    {
      "cell_type": "code",
      "execution_count": null,
      "metadata": {
        "execution": {
          "iopub.execute_input": "2022-04-13T12:37:33.640373Z",
          "iopub.status.busy": "2022-04-13T12:37:33.639425Z",
          "iopub.status.idle": "2022-04-13T12:37:33.669322Z",
          "shell.execute_reply": "2022-04-13T12:37:33.668243Z",
          "shell.execute_reply.started": "2022-04-13T12:37:33.640323Z"
        },
        "id": "C904in17FZn4",
        "outputId": "15d1d431-02e1-4b14-fcc5-e7412dc707da"
      },
      "outputs": [
        {
          "name": "stdout",
          "output_type": "stream",
          "text": [
            "AcresBurned [2.57314e+05 3.02740e+04 2.75310e+04 2.74400e+04 2.42510e+04 2.29920e+04\n",
            " 2.02920e+04 1.47540e+04 1.25030e+04 1.14290e+04 8.07300e+03 7.05500e+03\n",
            " 6.96500e+03 4.34600e+03 3.50500e+03 3.16600e+03 3.11100e+03 2.78100e+03\n",
            " 2.46200e+03 2.23600e+03 2.06000e+03 1.98400e+03 1.70800e+03 1.38300e+03\n",
            " 1.27100e+03 1.07000e+03 9.17000e+02 7.94000e+02 7.12000e+02 6.12000e+02\n",
            " 5.72000e+02 5.34000e+02 5.13000e+02 5.10000e+02 5.02000e+02 5.00000e+02\n",
            " 4.92000e+02 4.82000e+02 4.13000e+02 4.06000e+02 3.76000e+02 3.54000e+02\n",
            " 3.11000e+02 3.05000e+02 3.03000e+02 2.98000e+02 2.96000e+02 2.74000e+02\n",
            " 2.68000e+02 2.63000e+02 2.43000e+02 2.40000e+02 2.37000e+02 2.26000e+02\n",
            " 2.17000e+02 2.13000e+02 2.00000e+02 1.96000e+02 1.95000e+02 1.90000e+02\n",
            " 1.70000e+02 1.63000e+02 1.59000e+02 1.58000e+02 1.50000e+02 1.49000e+02\n",
            " 1.34000e+02 1.25000e+02 1.24000e+02 1.20000e+02 1.16000e+02 1.10000e+02\n",
            " 1.08000e+02 1.05000e+02 1.00000e+02 9.80000e+01 9.70000e+01 9.60000e+01\n",
            " 9.40000e+01 9.20000e+01 9.10000e+01 9.00000e+01 8.50000e+01 8.20000e+01\n",
            " 8.00000e+01 7.50000e+01 7.30000e+01 7.20000e+01 7.00000e+01 6.80000e+01\n",
            " 6.40000e+01 6.00000e+01 5.20000e+01 5.10000e+01 5.00000e+01 4.60000e+01\n",
            " 4.50000e+01 4.40000e+01 4.30000e+01 4.20000e+01 4.10000e+01 4.00000e+01\n",
            " 3.80000e+01 3.50000e+01 3.40000e+01 3.30000e+01 3.10000e+01 3.00000e+01\n",
            " 2.80000e+01 2.70000e+01 2.50000e+01 2.30000e+01 1.50000e+01 0.00000e+00\n",
            " 9.77170e+04 5.00420e+04 3.97360e+04 3.53020e+04 3.24960e+04 3.24160e+04\n",
            " 1.44160e+04 1.38380e+04 1.31530e+04 1.26610e+04 1.25360e+04 6.48800e+03\n",
            " 6.25800e+03 5.50300e+03 5.36700e+03 4.84000e+03 4.77200e+03 4.68900e+03\n",
            " 4.30000e+03 4.24000e+03 4.04500e+03 3.89500e+03 2.14300e+03 1.99500e+03\n",
            " 1.95200e+03 1.68000e+03 1.65100e+03 1.54800e+03 1.46900e+03 1.45700e+03\n",
            " 1.37500e+03 1.08000e+03 9.68000e+02 8.65000e+02 6.77000e+02 6.32000e+02\n",
            " 6.00000e+02 5.80000e+02 5.16000e+02 4.87000e+02 4.59000e+02 4.03000e+02\n",
            " 4.00000e+02 3.89000e+02 3.80000e+02 3.50000e+02 3.33000e+02 3.20000e+02\n",
            " 3.00000e+02 2.69000e+02 2.47000e+02 2.25000e+02 2.10000e+02 1.75000e+02\n",
            " 1.43000e+02 1.30000e+02 1.13000e+02 1.06000e+02 1.01000e+02 8.40000e+01\n",
            " 7.90000e+01 7.80000e+01 6.50000e+01 6.20000e+01 5.70000e+01 5.60000e+01\n",
            " 4.80000e+01 4.70000e+01 3.70000e+01 2.90000e+01 2.00000e+01 1.80000e+01\n",
            " 1.40000e+01 1.00000e+01 6.00000e+00 1.51623e+05 7.70810e+04 6.94380e+04\n",
            " 3.65030e+04 3.13590e+04 3.03610e+04 2.94160e+04 2.51180e+04 1.05700e+04\n",
            " 7.50900e+03 7.00000e+03 6.98000e+03 5.70200e+03 4.88300e+03 4.86300e+03\n",
            " 4.25000e+03 3.67600e+03 2.70000e+03 2.44600e+03 2.30400e+03 1.85000e+03\n",
            " 1.79100e+03 1.54200e+03 1.45000e+03 1.33300e+03 1.08600e+03 1.04900e+03\n",
            " 1.04200e+03 9.20000e+02 8.60000e+02 6.73000e+02 6.70000e+02 5.43000e+02\n",
            " 5.09000e+02 4.30000e+02 4.15000e+02 3.74000e+02 3.55000e+02 2.82000e+02\n",
            " 2.75000e+02 2.42000e+02 2.27000e+02 2.15000e+02 2.14000e+02 2.12000e+02\n",
            " 2.11000e+02 2.04000e+02 1.86000e+02 1.81000e+02 1.71000e+02 1.67000e+02\n",
            " 1.64000e+02 1.46000e+02 1.37000e+02 1.35000e+02 1.28000e+02 1.22000e+02\n",
            " 1.14000e+02 1.12000e+02 1.11000e+02 1.09000e+02 1.04000e+02 9.50000e+01\n",
            " 8.60000e+01 7.70000e+01 6.90000e+01 6.70000e+01 5.90000e+01 5.80000e+01\n",
            " 5.50000e+01 5.40000e+01 5.30000e+01 3.60000e+01 2.60000e+01 2.40000e+01\n",
            " 2.20000e+01 2.10000e+01 1.90000e+01 1.60000e+01 1.32127e+05 4.80190e+04\n",
            " 4.63440e+04 3.62740e+04 3.38670e+04 3.26060e+04 2.93220e+04 1.25180e+04\n",
            " 8.11000e+03 7.60900e+03 7.47400e+03 7.05000e+03 5.73100e+03 5.64600e+03\n",
            " 5.44300e+03 5.39900e+03 4.82400e+03 4.47400e+03 4.34700e+03 3.92900e+03\n",
            " 3.87600e+03 3.71200e+03 2.94400e+03 2.86000e+03 2.81900e+03 2.65200e+03\n",
            " 2.57500e+03 2.52000e+03 2.24100e+03 2.10000e+03 1.78500e+03 1.54700e+03\n",
            " 1.47000e+03 1.24600e+03 1.24500e+03 1.10900e+03 8.50000e+02 7.10000e+02\n",
            " 6.50000e+02 5.99000e+02 5.54000e+02 5.50000e+02 5.18000e+02 4.64000e+02\n",
            " 4.50000e+02 4.41000e+02 3.95000e+02 3.72000e+02 3.60000e+02 3.41000e+02\n",
            " 3.10000e+02 3.06000e+02 3.04000e+02 2.78000e+02 2.77000e+02 2.48000e+02\n",
            " 2.21000e+02 1.88000e+02 1.76000e+02 1.73000e+02 1.69000e+02 1.56000e+02\n",
            " 1.51000e+02 1.47000e+02 1.45000e+02 1.40000e+02 1.39000e+02 1.38000e+02\n",
            " 1.32000e+02 1.23000e+02 1.03000e+02 8.80000e+01 8.70000e+01 8.30000e+01\n",
            " 6.10000e+01 4.90000e+01 3.20000e+01 1.10000e+01 2.81893e+05 8.37330e+04\n",
            " 8.31200e+04 8.18260e+04 7.86980e+04 5.65560e+04 5.16240e+04 4.88890e+04\n",
            " 3.97150e+04 3.68070e+04 3.65560e+04 3.65230e+04 2.86870e+04 2.72760e+04\n",
            " 2.18460e+04 1.89000e+04 1.86180e+04 1.84300e+04 1.73570e+04 1.60310e+04\n",
            " 1.56190e+04 1.34170e+04 1.24070e+04 1.03430e+04 9.98900e+03 9.21700e+03\n",
            " 8.92500e+03 8.41700e+03 8.09400e+03 7.69700e+03 7.19400e+03 6.30900e+03\n",
            " 6.15100e+03 6.04900e+03 6.04200e+03 6.03300e+03 5.73800e+03 5.24700e+03\n",
            " 4.73600e+03 4.31000e+03 4.10000e+03 4.01600e+03 3.87400e+03 3.14200e+03\n",
            " 2.94000e+03 2.66200e+03 2.31200e+03 2.29500e+03 2.28900e+03 2.26900e+03\n",
            " 2.20700e+03 2.05600e+03 1.86800e+03 1.81600e+03 1.80000e+03 1.74900e+03\n",
            " 1.66000e+03 1.64900e+03 1.62600e+03 1.59800e+03 1.53800e+03 1.52200e+03\n",
            " 1.50300e+03 1.43100e+03 1.35000e+03 1.31900e+03 1.28600e+03 1.20000e+03\n",
            " 1.08800e+03 1.08300e+03 1.04400e+03 1.03500e+03 1.02000e+03 1.00000e+03\n",
            " 9.95000e+02 9.76000e+02 9.00000e+02 8.67000e+02 8.66000e+02 8.59000e+02\n",
            " 8.21000e+02 8.00000e+02 7.75000e+02 7.60000e+02 7.47000e+02 6.90000e+02\n",
            " 6.80000e+02 6.30000e+02 5.62000e+02 5.45000e+02 5.30000e+02 5.06000e+02\n",
            " 4.86000e+02 4.69000e+02 4.60000e+02 4.44000e+02 4.29000e+02 4.26000e+02\n",
            " 4.22000e+02 4.16000e+02 4.10000e+02 3.92000e+02 3.91000e+02 3.70000e+02\n",
            " 3.57000e+02 3.40000e+02 3.39000e+02 3.38000e+02 3.25000e+02 3.19000e+02\n",
            " 2.88000e+02 2.60000e+02 2.55000e+02 2.45000e+02 2.36000e+02 2.31000e+02\n",
            " 2.06000e+02 2.05000e+02 1.94000e+02 1.84000e+02 1.83000e+02 1.80000e+02\n",
            " 1.68000e+02 1.66000e+02 1.57000e+02 1.55000e+02 1.53000e+02 1.48000e+02\n",
            " 1.36000e+02 1.26000e+02 1.17000e+02 1.02000e+02 9.90000e+01 8.10000e+01\n",
            " 7.60000e+01 7.40000e+01 6.30000e+01 3.90000e+01 1.70000e+01 1.30000e+01\n",
            " 1.20000e+01 4.10203e+05 2.29651e+05 1.53336e+05 9.69490e+04 9.69010e+04\n",
            " 9.02880e+04 6.33110e+04 4.89200e+04 4.61500e+04 3.93870e+04 3.80080e+04\n",
            " 3.64500e+04 2.31360e+04 1.87030e+04 1.51850e+04 1.31390e+04 1.23000e+04\n",
            " 6.97400e+03 4.56400e+03 4.53100e+03 4.50000e+03 4.06400e+03 3.88900e+03\n",
            " 3.71600e+03 3.67400e+03 3.38000e+03 2.99500e+03 2.95600e+03 2.95000e+03\n",
            " 2.88300e+03 2.49000e+03 2.29000e+03 2.22500e+03 2.16200e+03 2.07000e+03\n",
            " 1.90000e+03 1.75600e+03 1.75100e+03 1.67800e+03 1.50000e+03 1.35200e+03\n",
            " 1.31400e+03 1.26500e+03 1.26100e+03 1.12000e+03 1.01400e+03 9.93000e+02\n",
            " 9.72000e+02 9.62000e+02 8.56000e+02 8.25000e+02 8.22000e+02 7.00000e+02\n",
            " 6.68000e+02 6.46000e+02 6.40000e+02 5.73000e+02 5.04000e+02 4.84000e+02\n",
            " 3.75000e+02 3.67000e+02 3.65000e+02 3.47000e+02 3.28000e+02 3.16000e+02\n",
            " 2.93000e+02 2.90000e+02 2.89000e+02 2.65000e+02 2.61000e+02 2.58000e+02\n",
            " 2.50000e+02 2.24000e+02 2.07000e+02 1.91000e+02 1.85000e+02 1.72000e+02\n",
            " 1.60000e+02 1.54000e+02 1.52000e+02 1.27000e+02 1.15000e+02 8.90000e+01\n",
            " 6.60000e+01 1.80600e+03 1.30000e+03 1.01100e+03 6.05000e+02 4.94000e+02\n",
            " 1.07000e+02 7.77580e+04 5.46120e+04 1.42170e+04 1.02960e+04 9.99900e+03\n",
            " 8.83800e+03 8.79900e+03 5.73700e+03 5.56300e+03 5.33200e+03 4.61500e+03\n",
            " 3.43500e+03 3.12600e+03 2.54600e+03 2.53400e+03 2.51200e+03 2.50000e+03\n",
            " 2.43800e+03 2.42200e+03 1.97500e+03 1.92600e+03 1.87200e+03 1.76400e+03\n",
            " 1.50700e+03 1.30100e+03 1.16500e+03 1.12700e+03 9.74000e+02 8.35000e+02\n",
            " 7.57000e+02 7.56000e+02 7.45000e+02 7.03000e+02 6.04000e+02 5.26000e+02\n",
            " 5.25000e+02 5.20000e+02 4.96000e+02 4.48000e+02 4.23000e+02 4.20000e+02\n",
            " 3.81000e+02 2.83000e+02 2.80000e+02 2.79000e+02 2.57000e+02 2.44000e+02\n",
            " 2.20000e+02 2.08000e+02 2.02000e+02 1.93000e+02 1.61000e+02 1.44000e+02\n",
            " 1.31000e+02 1.21000e+02 9.00000e+00 2.00000e+00]\n",
            "Active [False]\n",
            "AdminUnit [371 419 117 377 487 362 284 364 198 172 145  58  41 188 219 168 143 236\n",
            " 356 424  94 252 369 302  29 215 274 262 133 325 218  82 300 163  90 338\n",
            " 128 123  31 207  12   8 216 311 341 171 351  34 212 295 162  52 125  10\n",
            " 206  97 314 152 148  28 333 431 101 313 483 217 104 177 160 322 115 165\n",
            " 430  39 181  85 180 387  40 310 396 395 259 491 493 276 127 347  11 147\n",
            "  84 384 289 240 124  33  73 209 383 400 204 102  70 320 392 116 385 398\n",
            " 370 205 271 309 130 103  75 111 388 357 416  30 363 415  35 417 414  19\n",
            " 413 397  72 427 134 154 237 434  61 190 119 404 201 418 294 297  43 406\n",
            " 407 353 399 360 178  66 278 482 187   6  22  59 144   5 402 337  69 361\n",
            " 411 135 277 409  80  46 100  92 183  76 386 389 339 421 481 381 184 106\n",
            "   9 229 239  67 422 435 293  27 225 394  48 432  16 393  65  50 114 288\n",
            " 251 159 136 197  53 120 195 173  71 191 334  54 107  49 208  45  42 261\n",
            " 170  74 298  20 390 331 203  96 453  14 359 469  23 490 286 492 211 468\n",
            "  25 382 109 326 282 189 255 275  93 235 266 443 439 156 287 270 412  24\n",
            " 153 447 401 290 451 161 269 214 132 317 449 232 350  68 174 446 403 440\n",
            " 155 306 299  91 471 346 166 223   0 220 122 234  17 231 438 330 279 303\n",
            "  38 248 199 332 222 336 315 479 308   4 307 210 441 213 280 227 200 488\n",
            "  37 305 319 367 175 340  99 131 221 247 179 379 258 437 426 459 467 485\n",
            " 436 433 476 466  89 470 373 268 283 273 461  15 444 463 372 238 475 445\n",
            " 376 425 242 318  62 452  81 450  87  60 456 257 472 464 241 454 142  18\n",
            " 292 321 378  83 366 265 328 296 312 342 429   3 263  78  95 478 167 194\n",
            " 391  79 264 316 457 327 344 355 253 110 442 140 365 291 410 462 157 358\n",
            " 169  47 349 186 146 354 348 226 486 473 113 126 246 138  36  51 118 304\n",
            " 428 272 484 196 474 408 420 281  26 405 151 465 375 323  98 423 455   2\n",
            " 460 108  55 249 352  32 112  63 374  21 329  88 335   1 224 164 267 243\n",
            " 458 480 149  13 233  86 256 139 228 285  44 230 345 245 380 158 477 260\n",
            " 301 448 137 254 202 150 250   7 324  77 368 141 105 244 192 185 121  64\n",
            " 176 182  57 129 193 343  56 489]\n"
          ]
        },
        {
          "name": "stdout",
          "output_type": "stream",
          "text": [
            "ArchiveYear [2013 2014 2015 2016 2017 2018 2019]\n",
            "CalFireIncident [ True False]\n",
            "CanonicalUrl [ 120   52   83 ... 1400 1365 1357]\n",
            "Counties [55 17 32 30 56  9 45 11 52 43 36 13 47  6  3 54 40 20 26  8 35 31 24 38\n",
            " 18 12 27 34 37 15  0 10 57 33 48 46 22 21 16  2 58 28 41  4 39 29  5 53\n",
            "  7 25  1 51 14 44 42 19 23 50 49]\n",
            "CountyIds [63 13 36 34 64  2 53  4 60 50 41  8 55 74 43 62 46 18 37 23  7 76 40 35\n",
            " 21 44 16  5 25 39 42 10  1  3 65 78 58 54 20 19 12 31 66 30 48 57 45 33\n",
            " 56 26 32 61  0 75 11  6 22 38 15 77 59 47 28 27  9 24 52 49 68 17 69 51\n",
            " 14 29 70 72 71 67 73]\n",
            "Extinguished [ 118   40   84 ...  874 1000  890]\n",
            "Featured [False  True]\n",
            "Final [ True False]\n",
            "Latitude [37.857    34.585595 33.7095   ... 38.734634 33.351145 33.45148 ]\n",
            "Location [ 43  72 413 ... 204 614 504]\n",
            "Longitude [-120.086    -118.423176 -116.72885  ... -121.729691 -117.403719\n",
            " -116.05898 ]\n",
            "MajorIncident [False  True]\n",
            "Name [904 847 735 ... 174 188 547]\n",
            "PercentContained [100.]\n",
            "Public [ True]\n",
            "SearchDescription [1217 1142  985 ...  352 1026  780]\n",
            "SearchKeywords [1016  962  806 ...  967   16  364]\n",
            "Started [ 111   35   73 ... 1594 1568 1560]\n",
            "Status [0 1]\n",
            "UniqueId [ 589 1195 1026 ...  982  698  860]\n",
            "Updated [ 118   40   84 ... 1127 1124 1101]\n"
          ]
        }
      ],
      "source": [
        "for col in california_fire_incidents.columns:\n",
        "    print(col,(california_fire_incidents[col].unique()))"
      ]
    },
    {
      "cell_type": "code",
      "execution_count": null,
      "metadata": {
        "execution": {
          "iopub.execute_input": "2022-04-13T12:48:37.342576Z",
          "iopub.status.busy": "2022-04-13T12:48:37.341592Z",
          "iopub.status.idle": "2022-04-13T12:48:37.371669Z",
          "shell.execute_reply": "2022-04-13T12:48:37.370705Z",
          "shell.execute_reply.started": "2022-04-13T12:48:37.342521Z"
        },
        "id": "yipP9Jw4FZn4",
        "outputId": "16aa7ac5-51ae-49ee-e74f-8b8f23980336"
      },
      "outputs": [
        {
          "name": "stdout",
          "output_type": "stream",
          "text": [
            "AcresBurned:\n",
            "length: 634, \n",
            "minimum: 0.0, \n",
            "maximum: 410203.0\n",
            "\n",
            "Active:\n",
            "length: 1, \n",
            "minimum: False, \n",
            "maximum: False\n",
            "\n",
            "AdminUnit:\n",
            "length: 494, \n",
            "minimum: 0, \n",
            "maximum: 493\n",
            "\n",
            "ArchiveYear:\n",
            "length: 7, \n",
            "minimum: 2013, \n",
            "maximum: 2019\n",
            "\n",
            "CalFireIncident:\n",
            "length: 2, \n",
            "minimum: False, \n",
            "maximum: True\n",
            "\n",
            "CanonicalUrl:\n",
            "length: 1607, \n",
            "minimum: 0, \n",
            "maximum: 1606\n",
            "\n",
            "Counties:\n",
            "length: 59, \n",
            "minimum: 0, \n",
            "maximum: 58\n",
            "\n",
            "CountyIds:\n",
            "length: 79, \n",
            "minimum: 0, \n",
            "maximum: 78\n",
            "\n",
            "Extinguished:\n",
            "length: 1038, \n",
            "minimum: 0, \n",
            "maximum: 1037\n",
            "\n",
            "Featured:\n",
            "length: 2, \n",
            "minimum: False, \n",
            "maximum: True\n",
            "\n",
            "Final:\n",
            "length: 2, \n",
            "minimum: False, \n",
            "maximum: True\n",
            "\n",
            "Latitude:\n",
            "length: 1441, \n",
            "minimum: -120.258, \n",
            "maximum: 5487.0\n",
            "\n",
            "Location:\n",
            "length: 1606, \n",
            "minimum: 0, \n",
            "maximum: 1605\n",
            "\n",
            "Longitude:\n",
            "length: 1448, \n",
            "minimum: -124.19628999999999, \n",
            "maximum: 118.9082\n",
            "\n",
            "MajorIncident:\n",
            "length: 2, \n",
            "minimum: False, \n",
            "maximum: True\n",
            "\n",
            "Name:\n",
            "length: 1193, \n",
            "minimum: 0, \n",
            "maximum: 1192\n",
            "\n",
            "PercentContained:\n",
            "length: 1, \n",
            "minimum: 100.0, \n",
            "maximum: 100.0\n",
            "\n",
            "Public:\n",
            "length: 1, \n",
            "minimum: True, \n",
            "maximum: True\n",
            "\n",
            "SearchDescription:\n",
            "length: 1591, \n",
            "minimum: 0, \n",
            "maximum: 1590\n",
            "\n",
            "SearchKeywords:\n",
            "length: 1382, \n",
            "minimum: 0, \n",
            "maximum: 1381\n",
            "\n",
            "Started:\n",
            "length: 1597, \n",
            "minimum: 0, \n",
            "maximum: 1596\n",
            "\n",
            "Status:\n",
            "length: 2, \n",
            "minimum: 0, \n",
            "maximum: 1\n",
            "\n",
            "UniqueId:\n",
            "length: 1609, \n",
            "minimum: 0, \n",
            "maximum: 1608\n",
            "\n",
            "Updated:\n",
            "length: 1134, \n",
            "minimum: 0, \n",
            "maximum: 1133\n",
            "\n"
          ]
        }
      ],
      "source": [
        "for col in california_fire_incidents.columns:\n",
        "    print(f'''{col}:\n",
        "length: {len(california_fire_incidents[col].unique())}, \n",
        "minimum: {min(california_fire_incidents[col].unique())}, \n",
        "maximum: {max(california_fire_incidents[col].unique())}\n",
        "''')"
      ]
    },
    {
      "cell_type": "code",
      "execution_count": null,
      "metadata": {
        "execution": {
          "iopub.execute_input": "2022-04-13T12:32:53.165401Z",
          "iopub.status.busy": "2022-04-13T12:32:53.165058Z",
          "iopub.status.idle": "2022-04-13T12:32:59.540024Z",
          "shell.execute_reply": "2022-04-13T12:32:59.539149Z",
          "shell.execute_reply.started": "2022-04-13T12:32:53.165364Z"
        },
        "id": "HAAcvKu6FZn5",
        "outputId": "a5e06525-bb60-46f8-bac7-bf9aa6ac9074"
      },
      "outputs": [
        {
          "data": {
            "image/png": "[encoded data removed]",
            "text/plain": [
              "<Figure size 864x504 with 1 Axes>"
            ]
          },
          "metadata": {
            "needs_background": "light"
          },
          "output_type": "display_data"
        }
      ],
      "source": [
        "california_fire_incidents['AdminUnit'].value_counts().sort_index().plot(kind='bar', figsize=(12,7))\n",
        "\n",
        "plt.xlabel('Units')\n",
        "plt.ylabel('Number of Fire Incidents')\n",
        "plt.title('Frequency of Fire Incidents per Year Between 2013-2019');"
      ]
    },
    {
      "cell_type": "code",
      "execution_count": null,
      "metadata": {
        "execution": {
          "iopub.execute_input": "2022-04-13T12:33:24.119406Z",
          "iopub.status.busy": "2022-04-13T12:33:24.119069Z",
          "iopub.status.idle": "2022-04-13T12:33:45.244272Z",
          "shell.execute_reply": "2022-04-13T12:33:45.243249Z",
          "shell.execute_reply.started": "2022-04-13T12:33:24.119373Z"
        },
        "id": "BITIeKC4FZn5",
        "outputId": "388e107c-e9dc-4312-91f0-33904f489e3c"
      },
      "outputs": [
        {
          "data": {
            "image/png": "[encoded data removed]",
            "text/plain": [
              "<Figure size 864x504 with 1 Axes>"
            ]
          },
          "metadata": {
            "needs_background": "light"
          },
          "output_type": "display_data"
        }
      ],
      "source": [
        "california_fire_incidents['Started'].value_counts().sort_index().plot(kind='bar', figsize=(12,7))\n",
        "\n",
        "plt.xlabel('Units')\n",
        "plt.ylabel('Number of Fire Incidents')\n",
        "plt.title('Frequency of Fire Incidents per Year Between 2013-2019');"
      ]
    },
    {
      "cell_type": "code",
      "execution_count": null,
      "metadata": {
        "execution": {
          "iopub.execute_input": "2022-04-13T12:38:34.413105Z",
          "iopub.status.busy": "2022-04-13T12:38:34.412736Z",
          "iopub.status.idle": "2022-04-13T12:38:34.605410Z",
          "shell.execute_reply": "2022-04-13T12:38:34.604728Z",
          "shell.execute_reply.started": "2022-04-13T12:38:34.413068Z"
        },
        "id": "dDMVo4TNFZn5",
        "outputId": "72150280-4d20-4b94-82b3-3d00fb75668d"
      },
      "outputs": [
        {
          "data": {
            "image/png": "[encoded data removed]",
            "text/plain": [
              "<Figure size 864x504 with 1 Axes>"
            ]
          },
          "metadata": {
            "needs_background": "light"
          },
          "output_type": "display_data"
        }
      ],
      "source": [
        "california_fire_incidents['Featured'].value_counts().sort_index().plot(kind='bar', figsize=(12,7))\n",
        "\n",
        "plt.xlabel('Units')\n",
        "plt.ylabel('Number of Fire Incidents')\n",
        "plt.title('Frequency of Fire Incidents per Year Between 2013-2019');"
      ]
    },
    {
      "cell_type": "code",
      "execution_count": null,
      "metadata": {
        "execution": {
          "iopub.execute_input": "2022-04-13T12:38:59.143495Z",
          "iopub.status.busy": "2022-04-13T12:38:59.142860Z",
          "iopub.status.idle": "2022-04-13T12:38:59.335382Z",
          "shell.execute_reply": "2022-04-13T12:38:59.334280Z",
          "shell.execute_reply.started": "2022-04-13T12:38:59.143444Z"
        },
        "id": "jr6SUmIXFZn5",
        "outputId": "4bc4b546-094a-4e85-ea11-4908b6aed09d"
      },
      "outputs": [
        {
          "data": {
            "image/png": "[encoded data removed]",
            "text/plain": [
              "<Figure size 864x504 with 1 Axes>"
            ]
          },
          "metadata": {
            "needs_background": "light"
          },
          "output_type": "display_data"
        }
      ],
      "source": [
        "california_fire_incidents['Final'].value_counts().sort_index().plot(kind='bar', figsize=(12,7))\n",
        "\n",
        "plt.xlabel('Units')\n",
        "plt.ylabel('Number of Fire Incidents')\n",
        "plt.title('Frequency of Fire Incidents per Year Between 2013-2019');"
      ]
    },
    {
      "cell_type": "code",
      "execution_count": null,
      "metadata": {
        "execution": {
          "iopub.execute_input": "2022-04-13T12:39:49.969131Z",
          "iopub.status.busy": "2022-04-13T12:39:49.968790Z",
          "iopub.status.idle": "2022-04-13T12:39:50.149343Z",
          "shell.execute_reply": "2022-04-13T12:39:50.148256Z",
          "shell.execute_reply.started": "2022-04-13T12:39:49.969097Z"
        },
        "id": "J9o7jY2tFZn5",
        "outputId": "224f650b-6630-43e6-d92a-3cc6cfe70b08"
      },
      "outputs": [
        {
          "data": {
            "image/png": "[encoded data removed]",
            "text/plain": [
              "<Figure size 864x504 with 1 Axes>"
            ]
          },
          "metadata": {
            "needs_background": "light"
          },
          "output_type": "display_data"
        }
      ],
      "source": [
        "california_fire_incidents['CalFireIncident'].value_counts().sort_index().plot(kind='bar', figsize=(12,7))\n",
        "\n",
        "plt.xlabel('Units')\n",
        "plt.ylabel('Number of Fire Incidents')\n",
        "plt.title('Frequency of Fire Incidents per Year Between 2013-2019');"
      ]
    },
    {
      "cell_type": "code",
      "execution_count": null,
      "metadata": {
        "execution": {
          "iopub.execute_input": "2022-04-13T12:41:54.255949Z",
          "iopub.status.busy": "2022-04-13T12:41:54.255237Z",
          "iopub.status.idle": "2022-04-13T12:41:54.481498Z",
          "shell.execute_reply": "2022-04-13T12:41:54.480685Z",
          "shell.execute_reply.started": "2022-04-13T12:41:54.255904Z"
        },
        "id": "Z9sB5-d3FZn5",
        "outputId": "7a775cce-0602-42dd-a29e-cd0577cded12"
      },
      "outputs": [
        {
          "data": {
            "image/png": "[encoded data removed]",
            "text/plain": [
              "<Figure size 864x504 with 1 Axes>"
            ]
          },
          "metadata": {
            "needs_background": "light"
          },
          "output_type": "display_data"
        }
      ],
      "source": [
        "california_fire_incidents['ArchiveYear'].value_counts().sort_index().plot(kind='bar', figsize=(12,7))\n",
        "\n",
        "plt.xlabel('Units')\n",
        "plt.ylabel('Number of Fire Incidents')\n",
        "plt.title('Frequency of Fire Incidents per Year Between 2013-2019');"
      ]
    },
    {
      "cell_type": "markdown",
      "metadata": {
        "id": "xoGfhwG3FZn5"
      },
      "source": [
        "Binned bar graphs"
      ]
    },
    {
      "cell_type": "code",
      "execution_count": null,
      "metadata": {
        "execution": {
          "iopub.execute_input": "2022-04-13T12:51:09.817085Z",
          "iopub.status.busy": "2022-04-13T12:51:09.816120Z",
          "iopub.status.idle": "2022-04-13T12:51:10.016852Z",
          "shell.execute_reply": "2022-04-13T12:51:10.015672Z",
          "shell.execute_reply.started": "2022-04-13T12:51:09.817021Z"
        },
        "id": "eIIc9yo6FZn6",
        "outputId": "b7f087dd-218b-4df9-b083-9ad084258438"
      },
      "outputs": [
        {
          "data": {
            "image/png": "[encoded data removed]",
            "text/plain": [
              "<Figure size 432x288 with 1 Axes>"
            ]
          },
          "metadata": {
            "needs_background": "light"
          },
          "output_type": "display_data"
        }
      ],
      "source": [
        "out = pd.cut(california_fire_incidents['Location'], bins=[0, 500, 1000, 1500, 2000], include_lowest=True)\n",
        "ax = out.value_counts(sort=False).plot.bar(rot=0, color=\"b\", figsize=(6,4))\n",
        "# ax.set_xticklabels([c[1:-1].replace(\",\",\" to\") for c in out.cat.categories])\n",
        "plt.show()"
      ]
    },
    {
      "cell_type": "code",
      "execution_count": null,
      "metadata": {
        "execution": {
          "iopub.execute_input": "2022-04-13T12:51:58.389940Z",
          "iopub.status.busy": "2022-04-13T12:51:58.389420Z",
          "iopub.status.idle": "2022-04-13T12:51:58.580242Z",
          "shell.execute_reply": "2022-04-13T12:51:58.579593Z",
          "shell.execute_reply.started": "2022-04-13T12:51:58.389885Z"
        },
        "id": "fYnLz94hFZn6",
        "outputId": "51536d3c-d1b2-422c-b369-f853251f2b47"
      },
      "outputs": [
        {
          "data": {
            "image/png": "[encoded data removed]",
            "text/plain": [
              "<Figure size 432x288 with 1 Axes>"
            ]
          },
          "metadata": {
            "needs_background": "light"
          },
          "output_type": "display_data"
        }
      ],
      "source": [
        "out = pd.cut(california_fire_incidents['SearchDescription'], bins=[0, 500, 1000, 1500, 2000], include_lowest=True)\n",
        "ax = out.value_counts(sort=False).plot.bar(rot=0, color=\"b\", figsize=(6,4))\n",
        "# ax.set_xticklabels([c[1:-1].replace(\",\",\" to\") for c in out.cat.categories])\n",
        "plt.show()"
      ]
    },
    {
      "cell_type": "code",
      "execution_count": null,
      "metadata": {
        "execution": {
          "iopub.execute_input": "2022-04-13T12:53:07.786626Z",
          "iopub.status.busy": "2022-04-13T12:53:07.785533Z",
          "iopub.status.idle": "2022-04-13T12:53:07.970333Z",
          "shell.execute_reply": "2022-04-13T12:53:07.969443Z",
          "shell.execute_reply.started": "2022-04-13T12:53:07.786582Z"
        },
        "id": "ceHhnQYvFZn6",
        "outputId": "85073b4a-3053-4750-dcb3-6ba936654a35"
      },
      "outputs": [
        {
          "data": {
            "image/png": "[encoded data removed]",
            "text/plain": [
              "<Figure size 432x288 with 1 Axes>"
            ]
          },
          "metadata": {
            "needs_background": "light"
          },
          "output_type": "display_data"
        }
      ],
      "source": [
        "out = pd.cut(california_fire_incidents['Extinguished'], bins=[0, 500, 1000, 1500], include_lowest=True)\n",
        "ax = out.value_counts(sort=False).plot.bar(rot=0, color=\"b\", figsize=(6,4))\n",
        "# ax.set_xticklabels([c[1:-1].replace(\",\",\" to\") for c in out.cat.categories])\n",
        "plt.show()"
      ]
    },
    {
      "cell_type": "markdown",
      "metadata": {
        "id": "wjlxLzVHFZn6"
      },
      "source": [
        "Line Plots to see the trends"
      ]
    },
    {
      "cell_type": "code",
      "execution_count": null,
      "metadata": {
        "execution": {
          "iopub.execute_input": "2022-04-13T12:58:46.382688Z",
          "iopub.status.busy": "2022-04-13T12:58:46.381342Z",
          "iopub.status.idle": "2022-04-13T12:58:46.391615Z",
          "shell.execute_reply": "2022-04-13T12:58:46.390376Z",
          "shell.execute_reply.started": "2022-04-13T12:58:46.382575Z"
        },
        "id": "n7pfbpYIFZn6",
        "outputId": "d0ce4c34-3f8e-4f92-9a4c-52ea82ec06fe"
      },
      "outputs": [
        {
          "data": {
            "text/plain": [
              "Index(['AcresBurned', 'Active', 'AdminUnit', 'ArchiveYear', 'CalFireIncident',\n",
              "       'CanonicalUrl', 'Counties', 'CountyIds', 'Extinguished', 'Featured',\n",
              "       'Final', 'Latitude', 'Location', 'Longitude', 'MajorIncident', 'Name',\n",
              "       'PercentContained', 'Public', 'SearchDescription', 'SearchKeywords',\n",
              "       'Started', 'Status', 'UniqueId', 'Updated'],\n",
              "      dtype='object')"
            ]
          },
          "execution_count": 86,
          "metadata": {},
          "output_type": "execute_result"
        }
      ],
      "source": [
        "california_fire_incidents.columns"
      ]
    },
    {
      "cell_type": "code",
      "execution_count": null,
      "metadata": {
        "execution": {
          "iopub.execute_input": "2022-04-13T12:58:18.821672Z",
          "iopub.status.busy": "2022-04-13T12:58:18.821311Z",
          "iopub.status.idle": "2022-04-13T12:58:19.112911Z",
          "shell.execute_reply": "2022-04-13T12:58:19.111823Z",
          "shell.execute_reply.started": "2022-04-13T12:58:18.821635Z"
        },
        "id": "artkjIZVFZn6",
        "outputId": "09af54f6-661f-4b44-9ba4-1ffb7984c9fb"
      },
      "outputs": [
        {
          "data": {
            "image/png": "[encoded data removed]",
            "text/plain": [
              "<Figure size 432x288 with 2 Axes>"
            ]
          },
          "metadata": {
            "needs_background": "light"
          },
          "output_type": "display_data"
        }
      ],
      "source": [
        "ax = plt.gca()\n",
        "california_fire_incidents.plot(secondary_y=True,kind='line',x='ArchiveYear',y='AcresBurned',color='red', ax=ax)\n",
        "plt.ylabel(\"Acres burned\")\n",
        "plt.suptitle(\"California wildfire acres burned\")\n",
        "plt.show()"
      ]
    },
    {
      "cell_type": "code",
      "execution_count": null,
      "metadata": {
        "execution": {
          "iopub.execute_input": "2022-04-13T13:02:45.013864Z",
          "iopub.status.busy": "2022-04-13T13:02:45.013509Z",
          "iopub.status.idle": "2022-04-13T13:02:45.236828Z",
          "shell.execute_reply": "2022-04-13T13:02:45.235937Z",
          "shell.execute_reply.started": "2022-04-13T13:02:45.013829Z"
        },
        "id": "sUvWxZYoFZn6",
        "outputId": "76305573-112d-4fb6-f97d-791140c31b6f"
      },
      "outputs": [
        {
          "data": {
            "image/png": "[encoded data removed]",
            "text/plain": [
              "<Figure size 432x288 with 2 Axes>"
            ]
          },
          "metadata": {
            "needs_background": "light"
          },
          "output_type": "display_data"
        }
      ],
      "source": [
        "ax = plt.gca()\n",
        "california_fire_incidents.plot(secondary_y=True,kind='line',x='ArchiveYear',y='Extinguished',color='blue', ax=ax)\n",
        "plt.ylabel(\"Active\")\n",
        "plt.suptitle(\"California wildfire acres burned\")\n",
        "plt.show()"
      ]
    },
    {
      "cell_type": "code",
      "execution_count": null,
      "metadata": {
        "execution": {
          "iopub.execute_input": "2022-04-13T13:01:11.685989Z",
          "iopub.status.busy": "2022-04-13T13:01:11.685640Z",
          "iopub.status.idle": "2022-04-13T13:01:11.992499Z",
          "shell.execute_reply": "2022-04-13T13:01:11.991073Z",
          "shell.execute_reply.started": "2022-04-13T13:01:11.685955Z"
        },
        "id": "LGoj0gQVFZn6",
        "outputId": "0daa97da-d1e7-467e-b5bb-d42d2a4bad12"
      },
      "outputs": [
        {
          "data": {
            "image/png": "[encoded data removed]",
            "text/plain": [
              "<Figure size 432x288 with 2 Axes>"
            ]
          },
          "metadata": {
            "needs_background": "light"
          },
          "output_type": "display_data"
        }
      ],
      "source": [
        "ax = plt.gca()\n",
        "california_fire_incidents.plot(secondary_y=True,kind='line',x='ArchiveYear',y='Status',color='green', ax=ax)\n",
        "plt.ylabel(\"Acres burned\")\n",
        "plt.suptitle(\"California wildfire acres burned\")\n",
        "plt.show()"
      ]
    },
    {
      "cell_type": "markdown",
      "metadata": {
        "id": "R1lKWcc8FZn6"
      },
      "source": [
        "# Removing Outliers"
      ]
    },
    {
      "cell_type": "code",
      "execution_count": null,
      "metadata": {
        "id": "88tPOAkiFZn6",
        "outputId": "356e56c2-d265-44dc-c750-49db81805e71"
      },
      "outputs": [
        {
          "name": "stdout",
          "output_type": "stream",
          "text": [
            "<class 'pandas.core.frame.DataFrame'>\n",
            "RangeIndex: 1636 entries, 0 to 1635\n",
            "Data columns (total 24 columns):\n",
            " #   Column             Non-Null Count  Dtype  \n",
            "---  ------             --------------  -----  \n",
            " 0   AcresBurned        1636 non-null   float64\n",
            " 1   Active             1636 non-null   bool   \n",
            " 2   AdminUnit          1636 non-null   int32  \n",
            " 3   ArchiveYear        1636 non-null   int64  \n",
            " 4   CalFireIncident    1636 non-null   bool   \n",
            " 5   CanonicalUrl       1636 non-null   int32  \n",
            " 6   Counties           1636 non-null   int32  \n",
            " 7   CountyIds          1636 non-null   int32  \n",
            " 8   Extinguished       1636 non-null   int32  \n",
            " 9   Featured           1636 non-null   bool   \n",
            " 10  Final              1636 non-null   bool   \n",
            " 11  Latitude           1636 non-null   float64\n",
            " 12  Location           1636 non-null   int32  \n",
            " 13  Longitude          1636 non-null   float64\n",
            " 14  MajorIncident      1636 non-null   bool   \n",
            " 15  Name               1636 non-null   int32  \n",
            " 16  PercentContained   1636 non-null   float64\n",
            " 17  Public             1636 non-null   bool   \n",
            " 18  SearchDescription  1636 non-null   int32  \n",
            " 19  SearchKeywords     1636 non-null   int32  \n",
            " 20  Started            1636 non-null   int32  \n",
            " 21  Status             1636 non-null   int32  \n",
            " 22  UniqueId           1636 non-null   int32  \n",
            " 23  Updated            1636 non-null   int32  \n",
            "dtypes: bool(6), float64(4), int32(13), int64(1)\n",
            "memory usage: 156.6 KB\n"
          ]
        }
      ],
      "source": [
        "california_fire_incidents.info()"
      ]
    },
    {
      "cell_type": "code",
      "execution_count": null,
      "metadata": {
        "id": "HRcwcP77FZn7",
        "outputId": "a961e5d7-1802-4e6a-fef9-8d1188add5ef"
      },
      "outputs": [
        {
          "data": {
            "text/html": [
              "<div>\n",
              "<style scoped>\n",
              "    .dataframe tbody tr th:only-of-type {\n",
              "        vertical-align: middle;\n",
              "    }\n",
              "\n",
              "    .dataframe tbody tr th {\n",
              "        vertical-align: top;\n",
              "    }\n",
              "\n",
              "    .dataframe thead th {\n",
              "        text-align: right;\n",
              "    }\n",
              "</style>\n",
              "<table border=\"1\" class=\"dataframe\">\n",
              "  <thead>\n",
              "    <tr style=\"text-align: right;\">\n",
              "      <th></th>\n",
              "      <th>AcresBurned</th>\n",
              "      <th>AdminUnit</th>\n",
              "      <th>ArchiveYear</th>\n",
              "      <th>CanonicalUrl</th>\n",
              "      <th>Counties</th>\n",
              "      <th>CountyIds</th>\n",
              "      <th>Extinguished</th>\n",
              "      <th>Latitude</th>\n",
              "      <th>Location</th>\n",
              "      <th>Longitude</th>\n",
              "      <th>Name</th>\n",
              "      <th>PercentContained</th>\n",
              "      <th>SearchDescription</th>\n",
              "      <th>SearchKeywords</th>\n",
              "      <th>Started</th>\n",
              "      <th>Status</th>\n",
              "      <th>UniqueId</th>\n",
              "      <th>Updated</th>\n",
              "    </tr>\n",
              "  </thead>\n",
              "  <tbody>\n",
              "    <tr>\n",
              "      <th>count</th>\n",
              "      <td>1636.000000</td>\n",
              "      <td>1636.000000</td>\n",
              "      <td>1636.000000</td>\n",
              "      <td>1636.000000</td>\n",
              "      <td>1636.000000</td>\n",
              "      <td>1636.000000</td>\n",
              "      <td>1636.000000</td>\n",
              "      <td>1636.000000</td>\n",
              "      <td>1636.000000</td>\n",
              "      <td>1636.000000</td>\n",
              "      <td>1636.000000</td>\n",
              "      <td>1636.0</td>\n",
              "      <td>1636.000000</td>\n",
              "      <td>1636.000000</td>\n",
              "      <td>1636.000000</td>\n",
              "      <td>1636.000000</td>\n",
              "      <td>1636.000000</td>\n",
              "      <td>1636.000000</td>\n",
              "    </tr>\n",
              "    <tr>\n",
              "      <th>mean</th>\n",
              "      <td>4581.211491</td>\n",
              "      <td>198.351467</td>\n",
              "      <td>2016.608802</td>\n",
              "      <td>802.376528</td>\n",
              "      <td>28.516504</td>\n",
              "      <td>36.344743</td>\n",
              "      <td>580.346577</td>\n",
              "      <td>37.203975</td>\n",
              "      <td>803.964548</td>\n",
              "      <td>-108.082642</td>\n",
              "      <td>607.093521</td>\n",
              "      <td>100.0</td>\n",
              "      <td>800.639364</td>\n",
              "      <td>681.465770</td>\n",
              "      <td>797.993888</td>\n",
              "      <td>0.001222</td>\n",
              "      <td>803.836186</td>\n",
              "      <td>599.882641</td>\n",
              "    </tr>\n",
              "    <tr>\n",
              "      <th>std</th>\n",
              "      <td>27241.988777</td>\n",
              "      <td>121.360345</td>\n",
              "      <td>1.845340</td>\n",
              "      <td>464.373711</td>\n",
              "      <td>15.889037</td>\n",
              "      <td>20.387013</td>\n",
              "      <td>266.793072</td>\n",
              "      <td>135.401380</td>\n",
              "      <td>463.184355</td>\n",
              "      <td>37.006927</td>\n",
              "      <td>345.474686</td>\n",
              "      <td>0.0</td>\n",
              "      <td>459.536031</td>\n",
              "      <td>372.069147</td>\n",
              "      <td>462.066036</td>\n",
              "      <td>0.034953</td>\n",
              "      <td>462.786468</td>\n",
              "      <td>291.028443</td>\n",
              "    </tr>\n",
              "    <tr>\n",
              "      <th>min</th>\n",
              "      <td>0.000000</td>\n",
              "      <td>0.000000</td>\n",
              "      <td>2013.000000</td>\n",
              "      <td>0.000000</td>\n",
              "      <td>0.000000</td>\n",
              "      <td>0.000000</td>\n",
              "      <td>0.000000</td>\n",
              "      <td>-120.258000</td>\n",
              "      <td>0.000000</td>\n",
              "      <td>-124.196290</td>\n",
              "      <td>0.000000</td>\n",
              "      <td>100.0</td>\n",
              "      <td>0.000000</td>\n",
              "      <td>0.000000</td>\n",
              "      <td>0.000000</td>\n",
              "      <td>0.000000</td>\n",
              "      <td>0.000000</td>\n",
              "      <td>0.000000</td>\n",
              "    </tr>\n",
              "    <tr>\n",
              "      <th>25%</th>\n",
              "      <td>35.000000</td>\n",
              "      <td>104.000000</td>\n",
              "      <td>2015.000000</td>\n",
              "      <td>400.750000</td>\n",
              "      <td>15.000000</td>\n",
              "      <td>18.000000</td>\n",
              "      <td>380.750000</td>\n",
              "      <td>34.165890</td>\n",
              "      <td>404.750000</td>\n",
              "      <td>-121.768358</td>\n",
              "      <td>301.750000</td>\n",
              "      <td>100.0</td>\n",
              "      <td>401.750000</td>\n",
              "      <td>402.750000</td>\n",
              "      <td>396.750000</td>\n",
              "      <td>0.000000</td>\n",
              "      <td>404.750000</td>\n",
              "      <td>381.750000</td>\n",
              "    </tr>\n",
              "    <tr>\n",
              "      <th>50%</th>\n",
              "      <td>100.000000</td>\n",
              "      <td>177.000000</td>\n",
              "      <td>2017.000000</td>\n",
              "      <td>803.500000</td>\n",
              "      <td>32.000000</td>\n",
              "      <td>40.000000</td>\n",
              "      <td>643.000000</td>\n",
              "      <td>37.104065</td>\n",
              "      <td>804.500000</td>\n",
              "      <td>-120.461560</td>\n",
              "      <td>610.000000</td>\n",
              "      <td>100.0</td>\n",
              "      <td>806.500000</td>\n",
              "      <td>610.000000</td>\n",
              "      <td>799.500000</td>\n",
              "      <td>0.000000</td>\n",
              "      <td>805.500000</td>\n",
              "      <td>637.500000</td>\n",
              "    </tr>\n",
              "    <tr>\n",
              "      <th>75%</th>\n",
              "      <td>420.500000</td>\n",
              "      <td>277.000000</td>\n",
              "      <td>2018.000000</td>\n",
              "      <td>1206.250000</td>\n",
              "      <td>41.000000</td>\n",
              "      <td>50.000000</td>\n",
              "      <td>783.250000</td>\n",
              "      <td>39.086808</td>\n",
              "      <td>1204.250000</td>\n",
              "      <td>-117.474072</td>\n",
              "      <td>906.250000</td>\n",
              "      <td>100.0</td>\n",
              "      <td>1193.250000</td>\n",
              "      <td>984.250000</td>\n",
              "      <td>1201.250000</td>\n",
              "      <td>0.000000</td>\n",
              "      <td>1201.250000</td>\n",
              "      <td>801.000000</td>\n",
              "    </tr>\n",
              "    <tr>\n",
              "      <th>max</th>\n",
              "      <td>410203.000000</td>\n",
              "      <td>493.000000</td>\n",
              "      <td>2019.000000</td>\n",
              "      <td>1606.000000</td>\n",
              "      <td>58.000000</td>\n",
              "      <td>78.000000</td>\n",
              "      <td>1037.000000</td>\n",
              "      <td>5487.000000</td>\n",
              "      <td>1605.000000</td>\n",
              "      <td>118.908200</td>\n",
              "      <td>1192.000000</td>\n",
              "      <td>100.0</td>\n",
              "      <td>1590.000000</td>\n",
              "      <td>1381.000000</td>\n",
              "      <td>1596.000000</td>\n",
              "      <td>1.000000</td>\n",
              "      <td>1608.000000</td>\n",
              "      <td>1133.000000</td>\n",
              "    </tr>\n",
              "  </tbody>\n",
              "</table>\n",
              "</div>"
            ],
            "text/plain": [
              "         AcresBurned    AdminUnit  ArchiveYear  CanonicalUrl     Counties  \\\n",
              "count    1636.000000  1636.000000  1636.000000   1636.000000  1636.000000   \n",
              "mean     4581.211491   198.351467  2016.608802    802.376528    28.516504   \n",
              "std     27241.988777   121.360345     1.845340    464.373711    15.889037   \n",
              "min         0.000000     0.000000  2013.000000      0.000000     0.000000   \n",
              "25%        35.000000   104.000000  2015.000000    400.750000    15.000000   \n",
              "50%       100.000000   177.000000  2017.000000    803.500000    32.000000   \n",
              "75%       420.500000   277.000000  2018.000000   1206.250000    41.000000   \n",
              "max    410203.000000   493.000000  2019.000000   1606.000000    58.000000   \n",
              "\n",
              "         CountyIds  Extinguished     Latitude     Location    Longitude  \\\n",
              "count  1636.000000   1636.000000  1636.000000  1636.000000  1636.000000   \n",
              "mean     36.344743    580.346577    37.203975   803.964548  -108.082642   \n",
              "std      20.387013    266.793072   135.401380   463.184355    37.006927   \n",
              "min       0.000000      0.000000  -120.258000     0.000000  -124.196290   \n",
              "25%      18.000000    380.750000    34.165890   404.750000  -121.768358   \n",
              "50%      40.000000    643.000000    37.104065   804.500000  -120.461560   \n",
              "75%      50.000000    783.250000    39.086808  1204.250000  -117.474072   \n",
              "max      78.000000   1037.000000  5487.000000  1605.000000   118.908200   \n",
              "\n",
              "              Name  PercentContained  SearchDescription  SearchKeywords  \\\n",
              "count  1636.000000            1636.0        1636.000000     1636.000000   \n",
              "mean    607.093521             100.0         800.639364      681.465770   \n",
              "std     345.474686               0.0         459.536031      372.069147   \n",
              "min       0.000000             100.0           0.000000        0.000000   \n",
              "25%     301.750000             100.0         401.750000      402.750000   \n",
              "50%     610.000000             100.0         806.500000      610.000000   \n",
              "75%     906.250000             100.0        1193.250000      984.250000   \n",
              "max    1192.000000             100.0        1590.000000     1381.000000   \n",
              "\n",
              "           Started       Status     UniqueId      Updated  \n",
              "count  1636.000000  1636.000000  1636.000000  1636.000000  \n",
              "mean    797.993888     0.001222   803.836186   599.882641  \n",
              "std     462.066036     0.034953   462.786468   291.028443  \n",
              "min       0.000000     0.000000     0.000000     0.000000  \n",
              "25%     396.750000     0.000000   404.750000   381.750000  \n",
              "50%     799.500000     0.000000   805.500000   637.500000  \n",
              "75%    1201.250000     0.000000  1201.250000   801.000000  \n",
              "max    1596.000000     1.000000  1608.000000  1133.000000  "
            ]
          },
          "execution_count": 91,
          "metadata": {},
          "output_type": "execute_result"
        }
      ],
      "source": [
        "california_fire_incidents.describe()"
      ]
    },
    {
      "cell_type": "markdown",
      "metadata": {
        "id": "3Pub03xCFZn7"
      },
      "source": [
        "Removing the rows whose values are more than 3 standard deviations away from the mean"
      ]
    },
    {
      "cell_type": "code",
      "execution_count": null,
      "metadata": {
        "id": "W7nKciAZFZn7",
        "outputId": "e508f43d-7378-4fbb-e3d6-bffa6f02dc4b"
      },
      "outputs": [
        {
          "name": "stdout",
          "output_type": "stream",
          "text": [
            "\n",
            "Dropping from AcresBurned - Lower -77119.77364799836 and Upper 86282.19663088345\n",
            "257314.0\n",
            "97717.0\n",
            "151623.0\n",
            "132127.0\n",
            "281893.0\n",
            "281893.0\n",
            "410203.0\n",
            "410203.0\n",
            "410203.0\n",
            "410203.0\n",
            "229651.0\n",
            "229651.0\n",
            "153336.0\n",
            "96949.0\n",
            "96949.0\n",
            "96901.0\n",
            "90288.0\n",
            "90288.0\n",
            "\n",
            "Dropping from Active - Lower 0.0 and Upper 0.0\n",
            "\n",
            "Dropping from AdminUnit - Lower -163.24020558077456 and Upper 555.9348903768191\n",
            "\n",
            "Dropping from ArchiveYear - Lower 2011.0614090398994 and Upper 2022.145018648605\n",
            "\n",
            "Dropping from CalFireIncident - Lower -0.5119040598165874 and Upper 2.0384800795940903\n",
            "\n",
            "Dropping from CanonicalUrl - Lower -593.8478456432372 and Upper 2195.72300015498\n",
            "\n",
            "Dropping from Counties - Lower -19.01077465080389 and Upper 76.03426043572355\n",
            "\n",
            "Dropping from CountyIds - Lower -24.75957110564685 and Upper 97.28985540725378\n",
            "\n",
            "Dropping from Extinguished - Lower -221.98673313301765 and Upper 1380.2339519216455\n",
            "\n",
            "Dropping from Featured - Lower -0.3611561921195408 and Upper 0.3932946346411725\n",
            "True\n",
            "True\n",
            "True\n",
            "True\n",
            "True\n",
            "True\n",
            "True\n",
            "True\n",
            "True\n",
            "True\n",
            "True\n",
            "True\n",
            "True\n",
            "True\n",
            "True\n",
            "True\n",
            "True\n",
            "True\n",
            "True\n",
            "True\n",
            "True\n",
            "True\n",
            "True\n",
            "True\n",
            "True\n",
            "True\n",
            "\n",
            "Dropping from Final - Lower 0.8924783504029773 and Upper 1.1050090867829523\n",
            "False\n",
            "False\n",
            "\n",
            "Dropping from Latitude - Lower -374.7009203981543 and Upper 449.119920909879\n",
            "5487.0\n",
            "\n",
            "Dropping from Location - Lower -581.4798905275087 and Upper 2197.8021057572128\n",
            "\n",
            "Dropping from Longitude - Lower -220.14426090638796 and Upper 4.708111429629682\n",
            "40.34\n",
            "38.178241\n",
            "38.453\n",
            "29.24\n",
            "18.4\n",
            "41.46\n",
            "118.9082\n",
            "34.015741999999996\n",
            "33.939428\n",
            "\n",
            "Dropping from MajorIncident - Lower -1.0328479728379825 and Upper 1.4936074665088683\n",
            "\n",
            "Dropping from Name - Lower -432.47950663715653 and Upper 1641.72254461184\n",
            "\n",
            "Dropping from PercentContained - Lower 100.0 and Upper 100.0\n",
            "\n",
            "Dropping from Public - Lower 1.0 and Upper 1.0\n",
            "\n",
            "Dropping from SearchDescription - Lower -583.9850281055441 and Upper 2176.8660407637717\n",
            "\n",
            "Dropping from SearchKeywords - Lower -443.0912135595678 and Upper 1804.3608338127324\n",
            "\n",
            "Dropping from Started - Lower -583.9823236821367 and Upper 2155.0620705175797\n",
            "\n",
            "Dropping from Status - Lower 0.0 and Upper 0.0\n",
            "\n",
            "Dropping from UniqueId - Lower -583.1354354505258 and Upper 2197.0316379821716\n",
            "\n",
            "Dropping from Updated - Lower -267.27323318190713 and Upper 1448.2036129287426\n"
          ]
        }
      ],
      "source": [
        "# calculate summary statistics\n",
        "number_of_columns_dropped = 0\n",
        "for col in california_fire_incidents.columns:\n",
        "    data_mean, data_std = np.mean(california_fire_incidents[col]), np.std(california_fire_incidents[col])\n",
        "    # identify outliers\n",
        "    cut_off = data_std * 3\n",
        "    lower, upper = data_mean - cut_off, data_mean + cut_off\n",
        "    \n",
        "    print(f'\\nDropping from {col} - Lower {lower} and Upper {upper}')\n",
        "\n",
        "    # identify outliers\n",
        "    outliers = [x for x in california_fire_incidents[col] if x < lower or x > upper]\n",
        "\n",
        "    for ind in california_fire_incidents.index:\n",
        "    #     print(df['Name'][ind], df['Stream'][ind])\n",
        "        if california_fire_incidents[col][ind] < lower or california_fire_incidents[col][ind] > upper:\n",
        "            print(f'{california_fire_incidents[col][ind]}')\n",
        "            california_fire_incidents.drop(ind,inplace=True)\n",
        "            number_of_columns_dropped+=1"
      ]
    },
    {
      "cell_type": "code",
      "execution_count": null,
      "metadata": {
        "id": "o-4hDQcgFZn7",
        "outputId": "51dd6673-2156-426c-e9bc-6e4a0db26781"
      },
      "outputs": [
        {
          "data": {
            "text/plain": [
              "56"
            ]
          },
          "execution_count": 93,
          "metadata": {},
          "output_type": "execute_result"
        }
      ],
      "source": [
        "number_of_columns_dropped"
      ]
    },
    {
      "cell_type": "code",
      "execution_count": null,
      "metadata": {
        "id": "jnG7R1LoFZn7",
        "outputId": "cfb6dba6-43fc-4df8-e6cc-e8332ea07ee6"
      },
      "outputs": [
        {
          "data": {
            "text/html": [
              "<div>\n",
              "<style scoped>\n",
              "    .dataframe tbody tr th:only-of-type {\n",
              "        vertical-align: middle;\n",
              "    }\n",
              "\n",
              "    .dataframe tbody tr th {\n",
              "        vertical-align: top;\n",
              "    }\n",
              "\n",
              "    .dataframe thead th {\n",
              "        text-align: right;\n",
              "    }\n",
              "</style>\n",
              "<table border=\"1\" class=\"dataframe\">\n",
              "  <thead>\n",
              "    <tr style=\"text-align: right;\">\n",
              "      <th></th>\n",
              "      <th>AcresBurned</th>\n",
              "      <th>AdminUnit</th>\n",
              "      <th>ArchiveYear</th>\n",
              "      <th>CanonicalUrl</th>\n",
              "      <th>Counties</th>\n",
              "      <th>CountyIds</th>\n",
              "      <th>Extinguished</th>\n",
              "      <th>Latitude</th>\n",
              "      <th>Location</th>\n",
              "      <th>Longitude</th>\n",
              "      <th>Name</th>\n",
              "      <th>PercentContained</th>\n",
              "      <th>SearchDescription</th>\n",
              "      <th>SearchKeywords</th>\n",
              "      <th>Started</th>\n",
              "      <th>Status</th>\n",
              "      <th>UniqueId</th>\n",
              "      <th>Updated</th>\n",
              "    </tr>\n",
              "  </thead>\n",
              "  <tbody>\n",
              "    <tr>\n",
              "      <th>count</th>\n",
              "      <td>1580.000000</td>\n",
              "      <td>1580.000000</td>\n",
              "      <td>1580.000000</td>\n",
              "      <td>1580.000000</td>\n",
              "      <td>1580.000000</td>\n",
              "      <td>1580.000000</td>\n",
              "      <td>1580.000000</td>\n",
              "      <td>1580.000000</td>\n",
              "      <td>1580.000000</td>\n",
              "      <td>1580.000000</td>\n",
              "      <td>1580.000000</td>\n",
              "      <td>1580.0</td>\n",
              "      <td>1580.000000</td>\n",
              "      <td>1580.000000</td>\n",
              "      <td>1580.000000</td>\n",
              "      <td>1580.0</td>\n",
              "      <td>1580.000000</td>\n",
              "      <td>1580.000000</td>\n",
              "    </tr>\n",
              "    <tr>\n",
              "      <th>mean</th>\n",
              "      <td>2252.472152</td>\n",
              "      <td>196.360759</td>\n",
              "      <td>2016.570886</td>\n",
              "      <td>792.306962</td>\n",
              "      <td>28.524684</td>\n",
              "      <td>36.216456</td>\n",
              "      <td>575.071519</td>\n",
              "      <td>33.550657</td>\n",
              "      <td>807.776582</td>\n",
              "      <td>-108.580352</td>\n",
              "      <td>604.621519</td>\n",
              "      <td>100.0</td>\n",
              "      <td>796.440506</td>\n",
              "      <td>680.634810</td>\n",
              "      <td>785.539873</td>\n",
              "      <td>0.0</td>\n",
              "      <td>806.948101</td>\n",
              "      <td>590.465190</td>\n",
              "    </tr>\n",
              "    <tr>\n",
              "      <th>std</th>\n",
              "      <td>8644.892071</td>\n",
              "      <td>119.750734</td>\n",
              "      <td>1.836417</td>\n",
              "      <td>461.608254</td>\n",
              "      <td>15.841721</td>\n",
              "      <td>20.335625</td>\n",
              "      <td>265.831399</td>\n",
              "      <td>11.982493</td>\n",
              "      <td>463.371307</td>\n",
              "      <td>35.744326</td>\n",
              "      <td>345.809793</td>\n",
              "      <td>0.0</td>\n",
              "      <td>460.287528</td>\n",
              "      <td>374.693934</td>\n",
              "      <td>456.651932</td>\n",
              "      <td>0.0</td>\n",
              "      <td>463.507882</td>\n",
              "      <td>286.003329</td>\n",
              "    </tr>\n",
              "    <tr>\n",
              "      <th>min</th>\n",
              "      <td>0.000000</td>\n",
              "      <td>0.000000</td>\n",
              "      <td>2013.000000</td>\n",
              "      <td>0.000000</td>\n",
              "      <td>0.000000</td>\n",
              "      <td>0.000000</td>\n",
              "      <td>0.000000</td>\n",
              "      <td>-120.258000</td>\n",
              "      <td>0.000000</td>\n",
              "      <td>-124.196290</td>\n",
              "      <td>0.000000</td>\n",
              "      <td>100.0</td>\n",
              "      <td>0.000000</td>\n",
              "      <td>0.000000</td>\n",
              "      <td>0.000000</td>\n",
              "      <td>0.0</td>\n",
              "      <td>0.000000</td>\n",
              "      <td>0.000000</td>\n",
              "    </tr>\n",
              "    <tr>\n",
              "      <th>25%</th>\n",
              "      <td>35.000000</td>\n",
              "      <td>104.000000</td>\n",
              "      <td>2015.000000</td>\n",
              "      <td>394.750000</td>\n",
              "      <td>15.000000</td>\n",
              "      <td>18.000000</td>\n",
              "      <td>373.750000</td>\n",
              "      <td>34.148187</td>\n",
              "      <td>408.750000</td>\n",
              "      <td>-121.765403</td>\n",
              "      <td>298.750000</td>\n",
              "      <td>100.0</td>\n",
              "      <td>394.750000</td>\n",
              "      <td>394.750000</td>\n",
              "      <td>390.750000</td>\n",
              "      <td>0.0</td>\n",
              "      <td>406.750000</td>\n",
              "      <td>374.750000</td>\n",
              "    </tr>\n",
              "    <tr>\n",
              "      <th>50%</th>\n",
              "      <td>98.500000</td>\n",
              "      <td>177.000000</td>\n",
              "      <td>2017.000000</td>\n",
              "      <td>790.500000</td>\n",
              "      <td>32.000000</td>\n",
              "      <td>40.000000</td>\n",
              "      <td>639.000000</td>\n",
              "      <td>37.084205</td>\n",
              "      <td>810.500000</td>\n",
              "      <td>-120.467780</td>\n",
              "      <td>606.500000</td>\n",
              "      <td>100.0</td>\n",
              "      <td>799.500000</td>\n",
              "      <td>610.000000</td>\n",
              "      <td>784.500000</td>\n",
              "      <td>0.0</td>\n",
              "      <td>805.500000</td>\n",
              "      <td>633.000000</td>\n",
              "    </tr>\n",
              "    <tr>\n",
              "      <th>75%</th>\n",
              "      <td>400.000000</td>\n",
              "      <td>276.000000</td>\n",
              "      <td>2018.000000</td>\n",
              "      <td>1186.250000</td>\n",
              "      <td>41.000000</td>\n",
              "      <td>50.000000</td>\n",
              "      <td>778.000000</td>\n",
              "      <td>39.067212</td>\n",
              "      <td>1207.250000</td>\n",
              "      <td>-117.481822</td>\n",
              "      <td>906.250000</td>\n",
              "      <td>100.0</td>\n",
              "      <td>1192.250000</td>\n",
              "      <td>989.250000</td>\n",
              "      <td>1177.250000</td>\n",
              "      <td>0.0</td>\n",
              "      <td>1207.250000</td>\n",
              "      <td>792.250000</td>\n",
              "    </tr>\n",
              "    <tr>\n",
              "      <th>max</th>\n",
              "      <td>83733.000000</td>\n",
              "      <td>493.000000</td>\n",
              "      <td>2019.000000</td>\n",
              "      <td>1606.000000</td>\n",
              "      <td>58.000000</td>\n",
              "      <td>78.000000</td>\n",
              "      <td>1037.000000</td>\n",
              "      <td>55.230000</td>\n",
              "      <td>1605.000000</td>\n",
              "      <td>0.000000</td>\n",
              "      <td>1192.000000</td>\n",
              "      <td>100.0</td>\n",
              "      <td>1590.000000</td>\n",
              "      <td>1381.000000</td>\n",
              "      <td>1596.000000</td>\n",
              "      <td>0.0</td>\n",
              "      <td>1608.000000</td>\n",
              "      <td>1133.000000</td>\n",
              "    </tr>\n",
              "  </tbody>\n",
              "</table>\n",
              "</div>"
            ],
            "text/plain": [
              "        AcresBurned    AdminUnit  ArchiveYear  CanonicalUrl     Counties  \\\n",
              "count   1580.000000  1580.000000  1580.000000   1580.000000  1580.000000   \n",
              "mean    2252.472152   196.360759  2016.570886    792.306962    28.524684   \n",
              "std     8644.892071   119.750734     1.836417    461.608254    15.841721   \n",
              "min        0.000000     0.000000  2013.000000      0.000000     0.000000   \n",
              "25%       35.000000   104.000000  2015.000000    394.750000    15.000000   \n",
              "50%       98.500000   177.000000  2017.000000    790.500000    32.000000   \n",
              "75%      400.000000   276.000000  2018.000000   1186.250000    41.000000   \n",
              "max    83733.000000   493.000000  2019.000000   1606.000000    58.000000   \n",
              "\n",
              "         CountyIds  Extinguished     Latitude     Location    Longitude  \\\n",
              "count  1580.000000   1580.000000  1580.000000  1580.000000  1580.000000   \n",
              "mean     36.216456    575.071519    33.550657   807.776582  -108.580352   \n",
              "std      20.335625    265.831399    11.982493   463.371307    35.744326   \n",
              "min       0.000000      0.000000  -120.258000     0.000000  -124.196290   \n",
              "25%      18.000000    373.750000    34.148187   408.750000  -121.765403   \n",
              "50%      40.000000    639.000000    37.084205   810.500000  -120.467780   \n",
              "75%      50.000000    778.000000    39.067212  1207.250000  -117.481822   \n",
              "max      78.000000   1037.000000    55.230000  1605.000000     0.000000   \n",
              "\n",
              "              Name  PercentContained  SearchDescription  SearchKeywords  \\\n",
              "count  1580.000000            1580.0        1580.000000     1580.000000   \n",
              "mean    604.621519             100.0         796.440506      680.634810   \n",
              "std     345.809793               0.0         460.287528      374.693934   \n",
              "min       0.000000             100.0           0.000000        0.000000   \n",
              "25%     298.750000             100.0         394.750000      394.750000   \n",
              "50%     606.500000             100.0         799.500000      610.000000   \n",
              "75%     906.250000             100.0        1192.250000      989.250000   \n",
              "max    1192.000000             100.0        1590.000000     1381.000000   \n",
              "\n",
              "           Started  Status     UniqueId      Updated  \n",
              "count  1580.000000  1580.0  1580.000000  1580.000000  \n",
              "mean    785.539873     0.0   806.948101   590.465190  \n",
              "std     456.651932     0.0   463.507882   286.003329  \n",
              "min       0.000000     0.0     0.000000     0.000000  \n",
              "25%     390.750000     0.0   406.750000   374.750000  \n",
              "50%     784.500000     0.0   805.500000   633.000000  \n",
              "75%    1177.250000     0.0  1207.250000   792.250000  \n",
              "max    1596.000000     0.0  1608.000000  1133.000000  "
            ]
          },
          "execution_count": 94,
          "metadata": {},
          "output_type": "execute_result"
        }
      ],
      "source": [
        "california_fire_incidents.describe()"
      ]
    },
    {
      "cell_type": "code",
      "execution_count": null,
      "metadata": {
        "id": "oOCMYqJxFZn7",
        "outputId": "8cf67e6d-6497-410d-bdbf-f9ec2bdf7ddd"
      },
      "outputs": [
        {
          "name": "stdout",
          "output_type": "stream",
          "text": [
            "<class 'pandas.core.frame.DataFrame'>\n",
            "Int64Index: 1580 entries, 1 to 1634\n",
            "Data columns (total 24 columns):\n",
            " #   Column             Non-Null Count  Dtype  \n",
            "---  ------             --------------  -----  \n",
            " 0   AcresBurned        1580 non-null   float64\n",
            " 1   Active             1580 non-null   bool   \n",
            " 2   AdminUnit          1580 non-null   int32  \n",
            " 3   ArchiveYear        1580 non-null   int64  \n",
            " 4   CalFireIncident    1580 non-null   bool   \n",
            " 5   CanonicalUrl       1580 non-null   int32  \n",
            " 6   Counties           1580 non-null   int32  \n",
            " 7   CountyIds          1580 non-null   int32  \n",
            " 8   Extinguished       1580 non-null   int32  \n",
            " 9   Featured           1580 non-null   bool   \n",
            " 10  Final              1580 non-null   bool   \n",
            " 11  Latitude           1580 non-null   float64\n",
            " 12  Location           1580 non-null   int32  \n",
            " 13  Longitude          1580 non-null   float64\n",
            " 14  MajorIncident      1580 non-null   bool   \n",
            " 15  Name               1580 non-null   int32  \n",
            " 16  PercentContained   1580 non-null   float64\n",
            " 17  Public             1580 non-null   bool   \n",
            " 18  SearchDescription  1580 non-null   int32  \n",
            " 19  SearchKeywords     1580 non-null   int32  \n",
            " 20  Started            1580 non-null   int32  \n",
            " 21  Status             1580 non-null   int32  \n",
            " 22  UniqueId           1580 non-null   int32  \n",
            " 23  Updated            1580 non-null   int32  \n",
            "dtypes: bool(6), float64(4), int32(13), int64(1)\n",
            "memory usage: 227.6 KB\n"
          ]
        }
      ],
      "source": [
        "california_fire_incidents.info()"
      ]
    },
    {
      "cell_type": "markdown",
      "metadata": {
        "id": "xilmCrS4FZn7"
      },
      "source": [
        "# EDA of Second Stage of Cleaning"
      ]
    },
    {
      "cell_type": "code",
      "execution_count": null,
      "metadata": {
        "id": "YZRnZdhbFZn7",
        "outputId": "d7945c1a-c3c5-4554-baa1-9fff1dbc6b3e"
      },
      "outputs": [
        {
          "name": "stdout",
          "output_type": "stream",
          "text": [
            "AcresBurned\n"
          ]
        },
        {
          "data": {
            "image/png": "[encoded data removed]",
            "text/plain": [
              "<Figure size 432x288 with 1 Axes>"
            ]
          },
          "metadata": {
            "needs_background": "light"
          },
          "output_type": "display_data"
        },
        {
          "name": "stdout",
          "output_type": "stream",
          "text": [
            "Active\n"
          ]
        },
        {
          "data": {
            "image/png": "[encoded data removed]",
            "text/plain": [
              "<Figure size 432x288 with 1 Axes>"
            ]
          },
          "metadata": {
            "needs_background": "light"
          },
          "output_type": "display_data"
        },
        {
          "name": "stdout",
          "output_type": "stream",
          "text": [
            "AdminUnit\n"
          ]
        },
        {
          "data": {
            "image/png": "[encoded data removed]",
            "text/plain": [
              "<Figure size 432x288 with 1 Axes>"
            ]
          },
          "metadata": {
            "needs_background": "light"
          },
          "output_type": "display_data"
        },
        {
          "name": "stdout",
          "output_type": "stream",
          "text": [
            "ArchiveYear\n"
          ]
        },
        {
          "data": {
            "image/png": "[encoded data removed]",
            "text/plain": [
              "<Figure size 432x288 with 1 Axes>"
            ]
          },
          "metadata": {
            "needs_background": "light"
          },
          "output_type": "display_data"
        },
        {
          "name": "stdout",
          "output_type": "stream",
          "text": [
            "CalFireIncident\n"
          ]
        },
        {
          "data": {
            "image/png": "[encoded data removed]",
            "text/plain": [
              "<Figure size 432x288 with 1 Axes>"
            ]
          },
          "metadata": {
            "needs_background": "light"
          },
          "output_type": "display_data"
        },
        {
          "name": "stdout",
          "output_type": "stream",
          "text": [
            "CanonicalUrl\n"
          ]
        },
        {
          "data": {
            "image/png": "[encoded data removed]",
            "text/plain": [
              "<Figure size 432x288 with 1 Axes>"
            ]
          },
          "metadata": {
            "needs_background": "light"
          },
          "output_type": "display_data"
        },
        {
          "name": "stdout",
          "output_type": "stream",
          "text": [
            "Counties\n"
          ]
        },
        {
          "data": {
            "image/png": "[encoded data removed]",
            "text/plain": [
              "<Figure size 432x288 with 1 Axes>"
            ]
          },
          "metadata": {
            "needs_background": "light"
          },
          "output_type": "display_data"
        },
        {
          "name": "stdout",
          "output_type": "stream",
          "text": [
            "CountyIds\n"
          ]
        },
        {
          "data": {
            "image/png": "[encoded data removed]",
            "text/plain": [
              "<Figure size 432x288 with 1 Axes>"
            ]
          },
          "metadata": {
            "needs_background": "light"
          },
          "output_type": "display_data"
        },
        {
          "name": "stdout",
          "output_type": "stream",
          "text": [
            "Extinguished\n"
          ]
        },
        {
          "data": {
            "image/png": "[encoded data removed]",
            "text/plain": [
              "<Figure size 432x288 with 1 Axes>"
            ]
          },
          "metadata": {
            "needs_background": "light"
          },
          "output_type": "display_data"
        },
        {
          "name": "stdout",
          "output_type": "stream",
          "text": [
            "Featured\n"
          ]
        },
        {
          "data": {
            "image/png": "[encoded data removed]",
            "text/plain": [
              "<Figure size 432x288 with 1 Axes>"
            ]
          },
          "metadata": {
            "needs_background": "light"
          },
          "output_type": "display_data"
        },
        {
          "name": "stdout",
          "output_type": "stream",
          "text": [
            "Final\n"
          ]
        },
        {
          "data": {
            "image/png": "[encoded data removed]",
            "text/plain": [
              "<Figure size 432x288 with 1 Axes>"
            ]
          },
          "metadata": {
            "needs_background": "light"
          },
          "output_type": "display_data"
        },
        {
          "name": "stdout",
          "output_type": "stream",
          "text": [
            "Latitude\n"
          ]
        },
        {
          "data": {
            "image/png": "[encoded data removed]",
            "text/plain": [
              "<Figure size 432x288 with 1 Axes>"
            ]
          },
          "metadata": {
            "needs_background": "light"
          },
          "output_type": "display_data"
        },
        {
          "name": "stdout",
          "output_type": "stream",
          "text": [
            "Location\n"
          ]
        },
        {
          "data": {
            "image/png": "[encoded data removed]",
            "text/plain": [
              "<Figure size 432x288 with 1 Axes>"
            ]
          },
          "metadata": {
            "needs_background": "light"
          },
          "output_type": "display_data"
        },
        {
          "name": "stdout",
          "output_type": "stream",
          "text": [
            "Longitude\n"
          ]
        },
        {
          "data": {
            "image/png": "[encoded data removed]",
            "text/plain": [
              "<Figure size 432x288 with 1 Axes>"
            ]
          },
          "metadata": {
            "needs_background": "light"
          },
          "output_type": "display_data"
        },
        {
          "name": "stdout",
          "output_type": "stream",
          "text": [
            "MajorIncident\n"
          ]
        },
        {
          "data": {
            "image/png": "[encoded data removed]",
            "text/plain": [
              "<Figure size 432x288 with 1 Axes>"
            ]
          },
          "metadata": {
            "needs_background": "light"
          },
          "output_type": "display_data"
        },
        {
          "name": "stdout",
          "output_type": "stream",
          "text": [
            "Name\n"
          ]
        },
        {
          "data": {
            "image/png": "[encoded data removed]",
            "text/plain": [
              "<Figure size 432x288 with 1 Axes>"
            ]
          },
          "metadata": {
            "needs_background": "light"
          },
          "output_type": "display_data"
        },
        {
          "name": "stdout",
          "output_type": "stream",
          "text": [
            "PercentContained\n"
          ]
        },
        {
          "data": {
            "image/png": "[encoded data removed]",
            "text/plain": [
              "<Figure size 432x288 with 1 Axes>"
            ]
          },
          "metadata": {
            "needs_background": "light"
          },
          "output_type": "display_data"
        },
        {
          "name": "stdout",
          "output_type": "stream",
          "text": [
            "Public\n"
          ]
        },
        {
          "data": {
            "image/png": "[encoded data removed]",
            "text/plain": [
              "<Figure size 432x288 with 1 Axes>"
            ]
          },
          "metadata": {
            "needs_background": "light"
          },
          "output_type": "display_data"
        },
        {
          "name": "stdout",
          "output_type": "stream",
          "text": [
            "SearchDescription\n"
          ]
        },
        {
          "data": {
            "image/png": "[encoded data removed]",
            "text/plain": [
              "<Figure size 432x288 with 1 Axes>"
            ]
          },
          "metadata": {
            "needs_background": "light"
          },
          "output_type": "display_data"
        },
        {
          "name": "stdout",
          "output_type": "stream",
          "text": [
            "SearchKeywords\n"
          ]
        },
        {
          "data": {
            "image/png": "[encoded data removed]",
            "text/plain": [
              "<Figure size 432x288 with 1 Axes>"
            ]
          },
          "metadata": {
            "needs_background": "light"
          },
          "output_type": "display_data"
        },
        {
          "name": "stdout",
          "output_type": "stream",
          "text": [
            "Started\n"
          ]
        },
        {
          "data": {
            "image/png": "[encoded data removed]",
            "text/plain": [
              "<Figure size 432x288 with 1 Axes>"
            ]
          },
          "metadata": {
            "needs_background": "light"
          },
          "output_type": "display_data"
        },
        {
          "name": "stdout",
          "output_type": "stream",
          "text": [
            "Status\n"
          ]
        },
        {
          "data": {
            "image/png": "[encoded data removed]",
            "text/plain": [
              "<Figure size 432x288 with 1 Axes>"
            ]
          },
          "metadata": {
            "needs_background": "light"
          },
          "output_type": "display_data"
        },
        {
          "name": "stdout",
          "output_type": "stream",
          "text": [
            "UniqueId\n"
          ]
        },
        {
          "data": {
            "image/png": "[encoded data removed]",
            "text/plain": [
              "<Figure size 432x288 with 1 Axes>"
            ]
          },
          "metadata": {
            "needs_background": "light"
          },
          "output_type": "display_data"
        },
        {
          "name": "stdout",
          "output_type": "stream",
          "text": [
            "Updated\n"
          ]
        },
        {
          "data": {
            "image/png": "[encoded data removed]",
            "text/plain": [
              "<Figure size 432x288 with 1 Axes>"
            ]
          },
          "metadata": {
            "needs_background": "light"
          },
          "output_type": "display_data"
        }
      ],
      "source": [
        "for col in california_fire_incidents.columns:\n",
        "    print(col)\n",
        "    plt.boxplot(california_fire_incidents[col])\n",
        "    plt.show()"
      ]
    },
    {
      "cell_type": "markdown",
      "metadata": {
        "id": "EGIjNGPOFZn8"
      },
      "source": [
        "## Converting data to appropriate types"
      ]
    },
    {
      "cell_type": "code",
      "execution_count": null,
      "metadata": {
        "id": "3jU5mJ9yFZn8"
      },
      "outputs": [],
      "source": [
        "california_fire_incidents['Started'] = pd.to_datetime(california_fire_incidents['Started'])\n",
        "california_fire_incidents['Updated'] = pd.to_datetime(california_fire_incidents['Updated'])\n",
        "california_fire_incidents['Extinguished'] = pd.to_datetime(california_fire_incidents['Extinguished'])\n",
        "\n",
        "california_fire_incidents['YearStarted'] = california_fire_incidents['Started'].dt.year\n",
        "california_fire_incidents['MonthStarted'] = california_fire_incidents['Started'].dt.month\n",
        "california_fire_incidents = california_fire_incidents[california_fire_incidents.YearStarted != 1969]"
      ]
    },
    {
      "cell_type": "code",
      "execution_count": null,
      "metadata": {
        "id": "hPYBDAy0FZn8",
        "outputId": "49c9b7f7-31cf-4ecc-aca7-cf0568be2767"
      },
      "outputs": [
        {
          "data": {
            "image/png": "[encoded data removed]",
            "text/plain": [
              "<Figure size 864x504 with 1 Axes>"
            ]
          },
          "metadata": {
            "needs_background": "light"
          },
          "output_type": "display_data"
        }
      ],
      "source": [
        "california_fire_incidents['YearStarted'].value_counts().sort_index().plot(kind='bar', figsize=(12,7))\n",
        "\n",
        "plt.xlabel('Year')\n",
        "plt.ylabel('Number of Fire Incidents')\n",
        "plt.title('Frequency of Fire Incidents per Year Between 2013-2019');"
      ]
    },
    {
      "cell_type": "code",
      "execution_count": null,
      "metadata": {
        "id": "84HiWs2mFZn8",
        "outputId": "852805b1-2781-42dc-d929-0d79543d83ba"
      },
      "outputs": [
        {
          "data": {
            "image/png": "[encoded data removed]",
            "text/plain": [
              "<Figure size 864x504 with 1 Axes>"
            ]
          },
          "metadata": {
            "needs_background": "light"
          },
          "output_type": "display_data"
        }
      ],
      "source": [
        "california_fire_incidents['MonthStarted'].value_counts().sort_index().plot(kind='bar', figsize=(12,7))\n",
        "\n",
        "plt.xlabel('Month of the Year')\n",
        "plt.ylabel('Number of Fire Incidents')\n",
        "plt.title('Frequency of Fire Incidents per Month Between 2013-2020');"
      ]
    },
    {
      "cell_type": "code",
      "execution_count": null,
      "metadata": {
        "id": "ZWZimJNXFZn9",
        "outputId": "25478a19-cd36-40d2-ac02-ecae8b23eabb"
      },
      "outputs": [
        {
          "data": {
            "image/png": "[encoded data removed]",
            "text/plain": [
              "<Figure size 936x576 with 1 Axes>"
            ]
          },
          "metadata": {
            "needs_background": "light"
          },
          "output_type": "display_data"
        }
      ],
      "source": [
        "california_fire_incidents.plot(kind='scatter', x='AcresBurned', y='YearStarted', figsize=(13,8), s=5)\n",
        "\n",
        "plt.xlabel('Number of Acres Burned in Thousands')\n",
        "plt.ylabel('Year of Fire Incident')\n",
        "plt.title('Number of Acres Burned in Thousands by Year Between 2013-2019');"
      ]
    },
    {
      "cell_type": "markdown",
      "metadata": {
        "id": "CEObRvyDFZn9"
      },
      "source": [
        "## Conclusion:\n",
        "I was able to understand how to preprocess data as a preliminary before applying any model. EDA helps with understanding how you should preprocess your data."
      ]
    },
    {
      "cell_type": "code",
      "execution_count": null,
      "metadata": {
        "id": "-1MGZUtmFZn9"
      },
      "outputs": [],
      "source": [
        ""
      ]
    }
  ],
  "metadata": {
    "kernelspec": {
      "display_name": "Python 3",
      "language": "python",
      "name": "python3"
    },
    "language_info": {
      "codemirror_mode": {
        "name": "ipython",
        "version": 3
      },
      "file_extension": ".py",
      "mimetype": "text/x-python",
      "name": "python",
      "nbconvert_exporter": "python",
      "pygments_lexer": "ipython3",
      "version": "3.6.5"
    },
    "colab": {
      "name": "Tutorial 1.ipynb",
      "provenance": [],
      "include_colab_link": true
    }
  },
  "nbformat": 4,
  "nbformat_minor": 0
}